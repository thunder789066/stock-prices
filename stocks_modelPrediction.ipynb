{
  "nbformat": 4,
  "nbformat_minor": 0,
  "metadata": {
    "colab": {
      "name": "stocks_modelPrediction.ipynb",
      "provenance": [],
      "collapsed_sections": []
    },
    "kernelspec": {
      "name": "python3",
      "display_name": "Python 3"
    },
    "language_info": {
      "name": "python"
    }
  },
  "cells": [
    {
      "cell_type": "code",
      "metadata": {
        "id": "6xLLPatj7V5T"
      },
      "source": [
        "import pandas as pd\n",
        "import datetime\n",
        "from keras.preprocessing.text import Tokenizer\n",
        "from keras.preprocessing.sequence import pad_sequences\n",
        "from keras.models import Sequential\n",
        "from keras.layers import Dense, Embedding, LSTM, SpatialDropout1D\n",
        "from matplotlib import pyplot\n",
        "from sklearn.model_selection import train_test_split\n",
        "from keras.utils.np_utils import to_categorical\n",
        "import re\n",
        "from sklearn.preprocessing import LabelEncoder"
      ],
      "execution_count": 45,
      "outputs": []
    },
    {
      "cell_type": "code",
      "metadata": {
        "id": "_Fdsj1CW9MC7"
      },
      "source": [
        "data = pd.read_csv('stocks.csv')"
      ],
      "execution_count": 46,
      "outputs": []
    },
    {
      "cell_type": "code",
      "metadata": {
        "colab": {
          "base_uri": "https://localhost:8080/"
        },
        "id": "OMPGYLEH_sah",
        "outputId": "d4916554-037f-4683-8053-b1756a90002f"
      },
      "source": [
        "# Dimensions of dataset\n",
        "data.shape"
      ],
      "execution_count": 47,
      "outputs": [
        {
          "output_type": "execute_result",
          "data": {
            "text/plain": [
              "(112457, 8)"
            ]
          },
          "metadata": {},
          "execution_count": 47
        }
      ]
    },
    {
      "cell_type": "code",
      "metadata": {
        "colab": {
          "base_uri": "https://localhost:8080/"
        },
        "id": "aHXtVL8dEnQi",
        "outputId": "380b4d52-fa3a-4c0e-fcf6-8ea4a62bf70a"
      },
      "source": [
        "# Preview dataset\n",
        "print(data.head(5))\n",
        "print(data.tail(5))"
      ],
      "execution_count": 48,
      "outputs": [
        {
          "output_type": "stream",
          "name": "stdout",
          "text": [
            "  Index        Date        Open  ...       Close   Adj Close  Volume\n",
            "0   NYA  1965-12-31  528.690002  ...  528.690002  528.690002     0.0\n",
            "1   NYA  1966-01-03  527.210022  ...  527.210022  527.210022     0.0\n",
            "2   NYA  1966-01-04  527.840027  ...  527.840027  527.840027     0.0\n",
            "3   NYA  1966-01-05  531.119995  ...  531.119995  531.119995     0.0\n",
            "4   NYA  1966-01-06  532.070007  ...  532.070007  532.070007     0.0\n",
            "\n",
            "[5 rows x 8 columns]\n",
            "       Index        Date         Open  ...        Close    Adj Close       Volume\n",
            "112452  N100  2021-05-27  1241.119995  ...  1247.069946  1247.069946  379696400.0\n",
            "112453  N100  2021-05-28  1249.469971  ...  1256.599976  1256.599976  160773400.0\n",
            "112454  N100  2021-05-31  1256.079956  ...  1248.930054  1248.930054   91173700.0\n",
            "112455  N100  2021-06-01  1254.609985  ...  1258.579956  1258.579956  155179900.0\n",
            "112456  N100  2021-06-02  1258.489990  ...  1263.619995  1263.619995  148465000.0\n",
            "\n",
            "[5 rows x 8 columns]\n"
          ]
        }
      ]
    },
    {
      "cell_type": "code",
      "metadata": {
        "colab": {
          "base_uri": "https://localhost:8080/",
          "height": 300
        },
        "id": "8aJj5CACE3ax",
        "outputId": "bf427297-70ca-40ac-f594-28bb8cc5d6ef"
      },
      "source": [
        "# dataset statistics\n",
        "data.describe()"
      ],
      "execution_count": 49,
      "outputs": [
        {
          "output_type": "execute_result",
          "data": {
            "text/html": [
              "<div>\n",
              "<style scoped>\n",
              "    .dataframe tbody tr th:only-of-type {\n",
              "        vertical-align: middle;\n",
              "    }\n",
              "\n",
              "    .dataframe tbody tr th {\n",
              "        vertical-align: top;\n",
              "    }\n",
              "\n",
              "    .dataframe thead th {\n",
              "        text-align: right;\n",
              "    }\n",
              "</style>\n",
              "<table border=\"1\" class=\"dataframe\">\n",
              "  <thead>\n",
              "    <tr style=\"text-align: right;\">\n",
              "      <th></th>\n",
              "      <th>Open</th>\n",
              "      <th>High</th>\n",
              "      <th>Low</th>\n",
              "      <th>Close</th>\n",
              "      <th>Adj Close</th>\n",
              "      <th>Volume</th>\n",
              "    </tr>\n",
              "  </thead>\n",
              "  <tbody>\n",
              "    <tr>\n",
              "      <th>count</th>\n",
              "      <td>110253.000000</td>\n",
              "      <td>110253.000000</td>\n",
              "      <td>110253.000000</td>\n",
              "      <td>110253.000000</td>\n",
              "      <td>110253.000000</td>\n",
              "      <td>1.102530e+05</td>\n",
              "    </tr>\n",
              "    <tr>\n",
              "      <th>mean</th>\n",
              "      <td>7658.515222</td>\n",
              "      <td>7704.372961</td>\n",
              "      <td>7608.000422</td>\n",
              "      <td>7657.545872</td>\n",
              "      <td>7657.351729</td>\n",
              "      <td>1.273975e+09</td>\n",
              "    </tr>\n",
              "    <tr>\n",
              "      <th>std</th>\n",
              "      <td>9011.478913</td>\n",
              "      <td>9066.638548</td>\n",
              "      <td>8954.506981</td>\n",
              "      <td>9011.510444</td>\n",
              "      <td>9011.608900</td>\n",
              "      <td>4.315783e+09</td>\n",
              "    </tr>\n",
              "    <tr>\n",
              "      <th>min</th>\n",
              "      <td>54.869999</td>\n",
              "      <td>54.869999</td>\n",
              "      <td>54.869999</td>\n",
              "      <td>54.869999</td>\n",
              "      <td>54.869999</td>\n",
              "      <td>0.000000e+00</td>\n",
              "    </tr>\n",
              "    <tr>\n",
              "      <th>25%</th>\n",
              "      <td>1855.030029</td>\n",
              "      <td>1864.510010</td>\n",
              "      <td>1843.979980</td>\n",
              "      <td>1855.060059</td>\n",
              "      <td>1854.179565</td>\n",
              "      <td>0.000000e+00</td>\n",
              "    </tr>\n",
              "    <tr>\n",
              "      <th>50%</th>\n",
              "      <td>5194.089844</td>\n",
              "      <td>5226.279785</td>\n",
              "      <td>5154.049805</td>\n",
              "      <td>5194.750000</td>\n",
              "      <td>5194.750000</td>\n",
              "      <td>4.329000e+05</td>\n",
              "    </tr>\n",
              "    <tr>\n",
              "      <th>75%</th>\n",
              "      <td>10134.299810</td>\n",
              "      <td>10207.820310</td>\n",
              "      <td>10060.349610</td>\n",
              "      <td>10134.830080</td>\n",
              "      <td>10134.830080</td>\n",
              "      <td>1.734314e+08</td>\n",
              "    </tr>\n",
              "    <tr>\n",
              "      <th>max</th>\n",
              "      <td>68775.062500</td>\n",
              "      <td>69403.750000</td>\n",
              "      <td>68516.992190</td>\n",
              "      <td>68775.062500</td>\n",
              "      <td>68775.062500</td>\n",
              "      <td>9.440374e+10</td>\n",
              "    </tr>\n",
              "  </tbody>\n",
              "</table>\n",
              "</div>"
            ],
            "text/plain": [
              "                Open           High  ...      Adj Close        Volume\n",
              "count  110253.000000  110253.000000  ...  110253.000000  1.102530e+05\n",
              "mean     7658.515222    7704.372961  ...    7657.351729  1.273975e+09\n",
              "std      9011.478913    9066.638548  ...    9011.608900  4.315783e+09\n",
              "min        54.869999      54.869999  ...      54.869999  0.000000e+00\n",
              "25%      1855.030029    1864.510010  ...    1854.179565  0.000000e+00\n",
              "50%      5194.089844    5226.279785  ...    5194.750000  4.329000e+05\n",
              "75%     10134.299810   10207.820310  ...   10134.830080  1.734314e+08\n",
              "max     68775.062500   69403.750000  ...   68775.062500  9.440374e+10\n",
              "\n",
              "[8 rows x 6 columns]"
            ]
          },
          "metadata": {},
          "execution_count": 49
        }
      ]
    },
    {
      "cell_type": "code",
      "metadata": {
        "colab": {
          "base_uri": "https://localhost:8080/"
        },
        "id": "F7tqUMdFjU3X",
        "outputId": "7eb1724a-6fa2-4c8f-f1a2-7e91191cb23d"
      },
      "source": [
        "# Group by 'Index'\n",
        "print(data.groupby('Index').size())"
      ],
      "execution_count": 50,
      "outputs": [
        {
          "output_type": "stream",
          "name": "stdout",
          "text": [
            "Index\n",
            "000001.SS     5963\n",
            "399001.SZ     5928\n",
            "GDAXI         8606\n",
            "GSPTSE       10776\n",
            "HSI           8750\n",
            "IXIC         12690\n",
            "J203.JO       2387\n",
            "KS11          6181\n",
            "N100          5507\n",
            "N225         14500\n",
            "NSEI          3381\n",
            "NYA          13948\n",
            "SSMI          7830\n",
            "TWII          6010\n",
            "dtype: int64\n"
          ]
        }
      ]
    },
    {
      "cell_type": "code",
      "metadata": {
        "colab": {
          "base_uri": "https://localhost:8080/",
          "height": 206
        },
        "id": "fOySR9ZnlXQE",
        "outputId": "d853b111-90d6-4347-b2ee-eb95c57aeda7"
      },
      "source": [
        "# modifying dates to get only 'month' & 'year'\n",
        "data['year'] = pd.DatetimeIndex(data['Date']).year\n",
        "data['month'] = pd.DatetimeIndex(data['Date']).month\n",
        "\n",
        "# Dropping 'Date' column\n",
        "data = data.drop(columns=['Date'])\n",
        "data.head()"
      ],
      "execution_count": 51,
      "outputs": [
        {
          "output_type": "execute_result",
          "data": {
            "text/html": [
              "<div>\n",
              "<style scoped>\n",
              "    .dataframe tbody tr th:only-of-type {\n",
              "        vertical-align: middle;\n",
              "    }\n",
              "\n",
              "    .dataframe tbody tr th {\n",
              "        vertical-align: top;\n",
              "    }\n",
              "\n",
              "    .dataframe thead th {\n",
              "        text-align: right;\n",
              "    }\n",
              "</style>\n",
              "<table border=\"1\" class=\"dataframe\">\n",
              "  <thead>\n",
              "    <tr style=\"text-align: right;\">\n",
              "      <th></th>\n",
              "      <th>Index</th>\n",
              "      <th>Open</th>\n",
              "      <th>High</th>\n",
              "      <th>Low</th>\n",
              "      <th>Close</th>\n",
              "      <th>Adj Close</th>\n",
              "      <th>Volume</th>\n",
              "      <th>year</th>\n",
              "      <th>month</th>\n",
              "    </tr>\n",
              "  </thead>\n",
              "  <tbody>\n",
              "    <tr>\n",
              "      <th>0</th>\n",
              "      <td>NYA</td>\n",
              "      <td>528.690002</td>\n",
              "      <td>528.690002</td>\n",
              "      <td>528.690002</td>\n",
              "      <td>528.690002</td>\n",
              "      <td>528.690002</td>\n",
              "      <td>0.0</td>\n",
              "      <td>1965</td>\n",
              "      <td>12</td>\n",
              "    </tr>\n",
              "    <tr>\n",
              "      <th>1</th>\n",
              "      <td>NYA</td>\n",
              "      <td>527.210022</td>\n",
              "      <td>527.210022</td>\n",
              "      <td>527.210022</td>\n",
              "      <td>527.210022</td>\n",
              "      <td>527.210022</td>\n",
              "      <td>0.0</td>\n",
              "      <td>1966</td>\n",
              "      <td>1</td>\n",
              "    </tr>\n",
              "    <tr>\n",
              "      <th>2</th>\n",
              "      <td>NYA</td>\n",
              "      <td>527.840027</td>\n",
              "      <td>527.840027</td>\n",
              "      <td>527.840027</td>\n",
              "      <td>527.840027</td>\n",
              "      <td>527.840027</td>\n",
              "      <td>0.0</td>\n",
              "      <td>1966</td>\n",
              "      <td>1</td>\n",
              "    </tr>\n",
              "    <tr>\n",
              "      <th>3</th>\n",
              "      <td>NYA</td>\n",
              "      <td>531.119995</td>\n",
              "      <td>531.119995</td>\n",
              "      <td>531.119995</td>\n",
              "      <td>531.119995</td>\n",
              "      <td>531.119995</td>\n",
              "      <td>0.0</td>\n",
              "      <td>1966</td>\n",
              "      <td>1</td>\n",
              "    </tr>\n",
              "    <tr>\n",
              "      <th>4</th>\n",
              "      <td>NYA</td>\n",
              "      <td>532.070007</td>\n",
              "      <td>532.070007</td>\n",
              "      <td>532.070007</td>\n",
              "      <td>532.070007</td>\n",
              "      <td>532.070007</td>\n",
              "      <td>0.0</td>\n",
              "      <td>1966</td>\n",
              "      <td>1</td>\n",
              "    </tr>\n",
              "  </tbody>\n",
              "</table>\n",
              "</div>"
            ],
            "text/plain": [
              "  Index        Open        High         Low  ...   Adj Close  Volume  year  month\n",
              "0   NYA  528.690002  528.690002  528.690002  ...  528.690002     0.0  1965     12\n",
              "1   NYA  527.210022  527.210022  527.210022  ...  527.210022     0.0  1966      1\n",
              "2   NYA  527.840027  527.840027  527.840027  ...  527.840027     0.0  1966      1\n",
              "3   NYA  531.119995  531.119995  531.119995  ...  531.119995     0.0  1966      1\n",
              "4   NYA  532.070007  532.070007  532.070007  ...  532.070007     0.0  1966      1\n",
              "\n",
              "[5 rows x 9 columns]"
            ]
          },
          "metadata": {},
          "execution_count": 51
        }
      ]
    },
    {
      "cell_type": "code",
      "metadata": {
        "colab": {
          "base_uri": "https://localhost:8080/"
        },
        "id": "eEEoh9CAr2r9",
        "outputId": "8b96d9e6-be67-412c-ebc1-c99bdf69a77d"
      },
      "source": [
        "# filtering dataset to show only years in 21st century\n",
        "data = data[data['year'] > 2000]\n",
        "print(data.groupby('year').size())"
      ],
      "execution_count": 52,
      "outputs": [
        {
          "output_type": "stream",
          "name": "stdout",
          "text": [
            "year\n",
            "2001    3106\n",
            "2002    3114\n",
            "2003    3114\n",
            "2004    3124\n",
            "2005    3081\n",
            "2006    3006\n",
            "2007    3053\n",
            "2008    3259\n",
            "2009    3243\n",
            "2010    3251\n",
            "2011    3243\n",
            "2012    3467\n",
            "2013    3477\n",
            "2014    3492\n",
            "2015    3497\n",
            "2016    3501\n",
            "2017    3491\n",
            "2018    3487\n",
            "2019    3461\n",
            "2020    3493\n",
            "2021    1414\n",
            "dtype: int64\n"
          ]
        }
      ]
    },
    {
      "cell_type": "code",
      "metadata": {
        "colab": {
          "base_uri": "https://localhost:8080/"
        },
        "id": "8IEUu5oPtJt2",
        "outputId": "1495d6fe-80fb-4412-bf9d-2f124d5a0c99"
      },
      "source": [
        "# checking for null or na values & dropping them\n",
        "print(data.isna().any())\n",
        "data = data.dropna()\n",
        "\n",
        "# checking for n/a values after drop\n",
        "print(data.isna().any())"
      ],
      "execution_count": 54,
      "outputs": [
        {
          "output_type": "stream",
          "name": "stdout",
          "text": [
            "Index        False\n",
            "Open          True\n",
            "High          True\n",
            "Low           True\n",
            "Close         True\n",
            "Adj Close     True\n",
            "Volume        True\n",
            "year         False\n",
            "month        False\n",
            "dtype: bool\n",
            "Index        False\n",
            "Open         False\n",
            "High         False\n",
            "Low          False\n",
            "Close        False\n",
            "Adj Close    False\n",
            "Volume       False\n",
            "year         False\n",
            "month        False\n",
            "dtype: bool\n"
          ]
        }
      ]
    }
  ]
}