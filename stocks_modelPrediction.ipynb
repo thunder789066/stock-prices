{
  "nbformat": 4,
  "nbformat_minor": 0,
  "metadata": {
    "colab": {
      "name": "stocks_modelPrediction.ipynb",
      "provenance": [],
      "collapsed_sections": []
    },
    "kernelspec": {
      "name": "python3",
      "display_name": "Python 3"
    },
    "language_info": {
      "name": "python"
    }
  },
  "cells": [
    {
      "cell_type": "code",
      "metadata": {
        "id": "6xLLPatj7V5T"
      },
      "source": [
        "import pandas as pd\n",
        "import datetime\n",
        "from keras.preprocessing.text import Tokenizer\n",
        "from keras.preprocessing.sequence import pad_sequences\n",
        "from keras.models import Sequential\n",
        "from keras.layers import Dense, Embedding, LSTM, SpatialDropout1D\n",
        "from matplotlib import pyplot as plt\n",
        "from sklearn.model_selection import train_test_split\n",
        "from keras.utils.np_utils import to_categorical\n",
        "import re\n",
        "from sklearn.preprocessing import LabelEncoder"
      ],
      "execution_count": 78,
      "outputs": []
    },
    {
      "cell_type": "code",
      "metadata": {
        "colab": {
          "base_uri": "https://localhost:8080/",
          "height": 400
        },
        "id": "_Fdsj1CW9MC7",
        "outputId": "b4df72e6-4cee-4f9d-d993-8217e49c9874"
      },
      "source": [
        "# Read & Merge 2 csv files\n",
        "df1 = pd.read_csv('stocksData.csv')\n",
        "df2 = pd.read_csv('stocksInfo.csv')\n",
        "\n",
        "# Inner Join Merge\n",
        "# SQL Version: SELECT * FROM df1 INNER JOIN df2 ON df1.Index = df2.Index\n",
        "data = pd.merge(df1, df2, on='Index', how='inner')\n",
        "data.head()"
      ],
      "execution_count": 79,
      "outputs": [
        {
          "output_type": "execute_result",
          "data": {
            "text/html": [
              "<div>\n",
              "<style scoped>\n",
              "    .dataframe tbody tr th:only-of-type {\n",
              "        vertical-align: middle;\n",
              "    }\n",
              "\n",
              "    .dataframe tbody tr th {\n",
              "        vertical-align: top;\n",
              "    }\n",
              "\n",
              "    .dataframe thead th {\n",
              "        text-align: right;\n",
              "    }\n",
              "</style>\n",
              "<table border=\"1\" class=\"dataframe\">\n",
              "  <thead>\n",
              "    <tr style=\"text-align: right;\">\n",
              "      <th></th>\n",
              "      <th>Index</th>\n",
              "      <th>Date</th>\n",
              "      <th>Open</th>\n",
              "      <th>High</th>\n",
              "      <th>Low</th>\n",
              "      <th>Close</th>\n",
              "      <th>Adj Close</th>\n",
              "      <th>Volume</th>\n",
              "      <th>Region</th>\n",
              "      <th>Exchange</th>\n",
              "      <th>Currency</th>\n",
              "    </tr>\n",
              "  </thead>\n",
              "  <tbody>\n",
              "    <tr>\n",
              "      <th>0</th>\n",
              "      <td>NYA</td>\n",
              "      <td>1965-12-31</td>\n",
              "      <td>528.690002</td>\n",
              "      <td>528.690002</td>\n",
              "      <td>528.690002</td>\n",
              "      <td>528.690002</td>\n",
              "      <td>528.690002</td>\n",
              "      <td>0.0</td>\n",
              "      <td>United States</td>\n",
              "      <td>New York Stock Exchange</td>\n",
              "      <td>USD</td>\n",
              "    </tr>\n",
              "    <tr>\n",
              "      <th>1</th>\n",
              "      <td>NYA</td>\n",
              "      <td>1966-01-03</td>\n",
              "      <td>527.210022</td>\n",
              "      <td>527.210022</td>\n",
              "      <td>527.210022</td>\n",
              "      <td>527.210022</td>\n",
              "      <td>527.210022</td>\n",
              "      <td>0.0</td>\n",
              "      <td>United States</td>\n",
              "      <td>New York Stock Exchange</td>\n",
              "      <td>USD</td>\n",
              "    </tr>\n",
              "    <tr>\n",
              "      <th>2</th>\n",
              "      <td>NYA</td>\n",
              "      <td>1966-01-04</td>\n",
              "      <td>527.840027</td>\n",
              "      <td>527.840027</td>\n",
              "      <td>527.840027</td>\n",
              "      <td>527.840027</td>\n",
              "      <td>527.840027</td>\n",
              "      <td>0.0</td>\n",
              "      <td>United States</td>\n",
              "      <td>New York Stock Exchange</td>\n",
              "      <td>USD</td>\n",
              "    </tr>\n",
              "    <tr>\n",
              "      <th>3</th>\n",
              "      <td>NYA</td>\n",
              "      <td>1966-01-05</td>\n",
              "      <td>531.119995</td>\n",
              "      <td>531.119995</td>\n",
              "      <td>531.119995</td>\n",
              "      <td>531.119995</td>\n",
              "      <td>531.119995</td>\n",
              "      <td>0.0</td>\n",
              "      <td>United States</td>\n",
              "      <td>New York Stock Exchange</td>\n",
              "      <td>USD</td>\n",
              "    </tr>\n",
              "    <tr>\n",
              "      <th>4</th>\n",
              "      <td>NYA</td>\n",
              "      <td>1966-01-06</td>\n",
              "      <td>532.070007</td>\n",
              "      <td>532.070007</td>\n",
              "      <td>532.070007</td>\n",
              "      <td>532.070007</td>\n",
              "      <td>532.070007</td>\n",
              "      <td>0.0</td>\n",
              "      <td>United States</td>\n",
              "      <td>New York Stock Exchange</td>\n",
              "      <td>USD</td>\n",
              "    </tr>\n",
              "  </tbody>\n",
              "</table>\n",
              "</div>"
            ],
            "text/plain": [
              "  Index        Date  ...                 Exchange  Currency\n",
              "0   NYA  1965-12-31  ...  New York Stock Exchange       USD\n",
              "1   NYA  1966-01-03  ...  New York Stock Exchange       USD\n",
              "2   NYA  1966-01-04  ...  New York Stock Exchange       USD\n",
              "3   NYA  1966-01-05  ...  New York Stock Exchange       USD\n",
              "4   NYA  1966-01-06  ...  New York Stock Exchange       USD\n",
              "\n",
              "[5 rows x 11 columns]"
            ]
          },
          "metadata": {},
          "execution_count": 79
        }
      ]
    },
    {
      "cell_type": "code",
      "metadata": {
        "colab": {
          "base_uri": "https://localhost:8080/"
        },
        "id": "OMPGYLEH_sah",
        "outputId": "3d1d7dc6-e0fe-4bd0-8d4b-df59e5763809"
      },
      "source": [
        "# Dimensions of dataset\n",
        "data.shape"
      ],
      "execution_count": 80,
      "outputs": [
        {
          "output_type": "execute_result",
          "data": {
            "text/plain": [
              "(112457, 11)"
            ]
          },
          "metadata": {},
          "execution_count": 80
        }
      ]
    },
    {
      "cell_type": "code",
      "metadata": {
        "colab": {
          "base_uri": "https://localhost:8080/"
        },
        "id": "aHXtVL8dEnQi",
        "outputId": "1be6f81d-4c24-4e2a-b46d-b94c4188f300"
      },
      "source": [
        "# Preview dataset\n",
        "print(data.head(5))\n",
        "print(data.tail(5))"
      ],
      "execution_count": 81,
      "outputs": [
        {
          "output_type": "stream",
          "name": "stdout",
          "text": [
            "  Index        Date  ...                 Exchange  Currency\n",
            "0   NYA  1965-12-31  ...  New York Stock Exchange       USD\n",
            "1   NYA  1966-01-03  ...  New York Stock Exchange       USD\n",
            "2   NYA  1966-01-04  ...  New York Stock Exchange       USD\n",
            "3   NYA  1966-01-05  ...  New York Stock Exchange       USD\n",
            "4   NYA  1966-01-06  ...  New York Stock Exchange       USD\n",
            "\n",
            "[5 rows x 11 columns]\n",
            "       Index        Date         Open  ...  Region  Exchange  Currency\n",
            "112452  N100  2021-05-27  1241.119995  ...  Europe  Euronext       EUR\n",
            "112453  N100  2021-05-28  1249.469971  ...  Europe  Euronext       EUR\n",
            "112454  N100  2021-05-31  1256.079956  ...  Europe  Euronext       EUR\n",
            "112455  N100  2021-06-01  1254.609985  ...  Europe  Euronext       EUR\n",
            "112456  N100  2021-06-02  1258.489990  ...  Europe  Euronext       EUR\n",
            "\n",
            "[5 rows x 11 columns]\n"
          ]
        }
      ]
    },
    {
      "cell_type": "code",
      "metadata": {
        "colab": {
          "base_uri": "https://localhost:8080/",
          "height": 300
        },
        "id": "8aJj5CACE3ax",
        "outputId": "ca50def4-d877-42f4-ea7f-1bfffab0df00"
      },
      "source": [
        "# dataset statistics\n",
        "data.describe()"
      ],
      "execution_count": 82,
      "outputs": [
        {
          "output_type": "execute_result",
          "data": {
            "text/html": [
              "<div>\n",
              "<style scoped>\n",
              "    .dataframe tbody tr th:only-of-type {\n",
              "        vertical-align: middle;\n",
              "    }\n",
              "\n",
              "    .dataframe tbody tr th {\n",
              "        vertical-align: top;\n",
              "    }\n",
              "\n",
              "    .dataframe thead th {\n",
              "        text-align: right;\n",
              "    }\n",
              "</style>\n",
              "<table border=\"1\" class=\"dataframe\">\n",
              "  <thead>\n",
              "    <tr style=\"text-align: right;\">\n",
              "      <th></th>\n",
              "      <th>Open</th>\n",
              "      <th>High</th>\n",
              "      <th>Low</th>\n",
              "      <th>Close</th>\n",
              "      <th>Adj Close</th>\n",
              "      <th>Volume</th>\n",
              "    </tr>\n",
              "  </thead>\n",
              "  <tbody>\n",
              "    <tr>\n",
              "      <th>count</th>\n",
              "      <td>110253.000000</td>\n",
              "      <td>110253.000000</td>\n",
              "      <td>110253.000000</td>\n",
              "      <td>110253.000000</td>\n",
              "      <td>110253.000000</td>\n",
              "      <td>1.102530e+05</td>\n",
              "    </tr>\n",
              "    <tr>\n",
              "      <th>mean</th>\n",
              "      <td>7658.515222</td>\n",
              "      <td>7704.372961</td>\n",
              "      <td>7608.000422</td>\n",
              "      <td>7657.545872</td>\n",
              "      <td>7657.351729</td>\n",
              "      <td>1.273975e+09</td>\n",
              "    </tr>\n",
              "    <tr>\n",
              "      <th>std</th>\n",
              "      <td>9011.478913</td>\n",
              "      <td>9066.638548</td>\n",
              "      <td>8954.506981</td>\n",
              "      <td>9011.510444</td>\n",
              "      <td>9011.608900</td>\n",
              "      <td>4.315783e+09</td>\n",
              "    </tr>\n",
              "    <tr>\n",
              "      <th>min</th>\n",
              "      <td>54.869999</td>\n",
              "      <td>54.869999</td>\n",
              "      <td>54.869999</td>\n",
              "      <td>54.869999</td>\n",
              "      <td>54.869999</td>\n",
              "      <td>0.000000e+00</td>\n",
              "    </tr>\n",
              "    <tr>\n",
              "      <th>25%</th>\n",
              "      <td>1855.030029</td>\n",
              "      <td>1864.510010</td>\n",
              "      <td>1843.979980</td>\n",
              "      <td>1855.060059</td>\n",
              "      <td>1854.179565</td>\n",
              "      <td>0.000000e+00</td>\n",
              "    </tr>\n",
              "    <tr>\n",
              "      <th>50%</th>\n",
              "      <td>5194.089844</td>\n",
              "      <td>5226.279785</td>\n",
              "      <td>5154.049805</td>\n",
              "      <td>5194.750000</td>\n",
              "      <td>5194.750000</td>\n",
              "      <td>4.329000e+05</td>\n",
              "    </tr>\n",
              "    <tr>\n",
              "      <th>75%</th>\n",
              "      <td>10134.299810</td>\n",
              "      <td>10207.820310</td>\n",
              "      <td>10060.349610</td>\n",
              "      <td>10134.830080</td>\n",
              "      <td>10134.830080</td>\n",
              "      <td>1.734314e+08</td>\n",
              "    </tr>\n",
              "    <tr>\n",
              "      <th>max</th>\n",
              "      <td>68775.062500</td>\n",
              "      <td>69403.750000</td>\n",
              "      <td>68516.992190</td>\n",
              "      <td>68775.062500</td>\n",
              "      <td>68775.062500</td>\n",
              "      <td>9.440374e+10</td>\n",
              "    </tr>\n",
              "  </tbody>\n",
              "</table>\n",
              "</div>"
            ],
            "text/plain": [
              "                Open           High  ...      Adj Close        Volume\n",
              "count  110253.000000  110253.000000  ...  110253.000000  1.102530e+05\n",
              "mean     7658.515222    7704.372961  ...    7657.351729  1.273975e+09\n",
              "std      9011.478913    9066.638548  ...    9011.608900  4.315783e+09\n",
              "min        54.869999      54.869999  ...      54.869999  0.000000e+00\n",
              "25%      1855.030029    1864.510010  ...    1854.179565  0.000000e+00\n",
              "50%      5194.089844    5226.279785  ...    5194.750000  4.329000e+05\n",
              "75%     10134.299810   10207.820310  ...   10134.830080  1.734314e+08\n",
              "max     68775.062500   69403.750000  ...   68775.062500  9.440374e+10\n",
              "\n",
              "[8 rows x 6 columns]"
            ]
          },
          "metadata": {},
          "execution_count": 82
        }
      ]
    },
    {
      "cell_type": "code",
      "metadata": {
        "colab": {
          "base_uri": "https://localhost:8080/"
        },
        "id": "F7tqUMdFjU3X",
        "outputId": "8f5045c9-e710-4db6-ecc2-564a1dd40049"
      },
      "source": [
        "# Group by 'Index'\n",
        "print(data.groupby('Index').size())"
      ],
      "execution_count": 83,
      "outputs": [
        {
          "output_type": "stream",
          "name": "stdout",
          "text": [
            "Index\n",
            "000001.SS     5963\n",
            "399001.SZ     5928\n",
            "GDAXI         8606\n",
            "GSPTSE       10776\n",
            "HSI           8750\n",
            "IXIC         12690\n",
            "J203.JO       2387\n",
            "KS11          6181\n",
            "N100          5507\n",
            "N225         14500\n",
            "NSEI          3381\n",
            "NYA          13948\n",
            "SSMI          7830\n",
            "TWII          6010\n",
            "dtype: int64\n"
          ]
        }
      ]
    },
    {
      "cell_type": "code",
      "metadata": {
        "colab": {
          "base_uri": "https://localhost:8080/",
          "height": 400
        },
        "id": "fOySR9ZnlXQE",
        "outputId": "9b0c08c4-bc53-44c4-f818-19e25a058d36"
      },
      "source": [
        "# modifying dates to get only 'month' & 'year'\n",
        "data['year'] = pd.DatetimeIndex(data['Date']).year\n",
        "data['month'] = pd.DatetimeIndex(data['Date']).month\n",
        "\n",
        "# Dropping 'Date' column\n",
        "data = data.drop(columns=['Date'])\n",
        "data.head()"
      ],
      "execution_count": 84,
      "outputs": [
        {
          "output_type": "execute_result",
          "data": {
            "text/html": [
              "<div>\n",
              "<style scoped>\n",
              "    .dataframe tbody tr th:only-of-type {\n",
              "        vertical-align: middle;\n",
              "    }\n",
              "\n",
              "    .dataframe tbody tr th {\n",
              "        vertical-align: top;\n",
              "    }\n",
              "\n",
              "    .dataframe thead th {\n",
              "        text-align: right;\n",
              "    }\n",
              "</style>\n",
              "<table border=\"1\" class=\"dataframe\">\n",
              "  <thead>\n",
              "    <tr style=\"text-align: right;\">\n",
              "      <th></th>\n",
              "      <th>Index</th>\n",
              "      <th>Open</th>\n",
              "      <th>High</th>\n",
              "      <th>Low</th>\n",
              "      <th>Close</th>\n",
              "      <th>Adj Close</th>\n",
              "      <th>Volume</th>\n",
              "      <th>Region</th>\n",
              "      <th>Exchange</th>\n",
              "      <th>Currency</th>\n",
              "      <th>year</th>\n",
              "      <th>month</th>\n",
              "    </tr>\n",
              "  </thead>\n",
              "  <tbody>\n",
              "    <tr>\n",
              "      <th>0</th>\n",
              "      <td>NYA</td>\n",
              "      <td>528.690002</td>\n",
              "      <td>528.690002</td>\n",
              "      <td>528.690002</td>\n",
              "      <td>528.690002</td>\n",
              "      <td>528.690002</td>\n",
              "      <td>0.0</td>\n",
              "      <td>United States</td>\n",
              "      <td>New York Stock Exchange</td>\n",
              "      <td>USD</td>\n",
              "      <td>1965</td>\n",
              "      <td>12</td>\n",
              "    </tr>\n",
              "    <tr>\n",
              "      <th>1</th>\n",
              "      <td>NYA</td>\n",
              "      <td>527.210022</td>\n",
              "      <td>527.210022</td>\n",
              "      <td>527.210022</td>\n",
              "      <td>527.210022</td>\n",
              "      <td>527.210022</td>\n",
              "      <td>0.0</td>\n",
              "      <td>United States</td>\n",
              "      <td>New York Stock Exchange</td>\n",
              "      <td>USD</td>\n",
              "      <td>1966</td>\n",
              "      <td>1</td>\n",
              "    </tr>\n",
              "    <tr>\n",
              "      <th>2</th>\n",
              "      <td>NYA</td>\n",
              "      <td>527.840027</td>\n",
              "      <td>527.840027</td>\n",
              "      <td>527.840027</td>\n",
              "      <td>527.840027</td>\n",
              "      <td>527.840027</td>\n",
              "      <td>0.0</td>\n",
              "      <td>United States</td>\n",
              "      <td>New York Stock Exchange</td>\n",
              "      <td>USD</td>\n",
              "      <td>1966</td>\n",
              "      <td>1</td>\n",
              "    </tr>\n",
              "    <tr>\n",
              "      <th>3</th>\n",
              "      <td>NYA</td>\n",
              "      <td>531.119995</td>\n",
              "      <td>531.119995</td>\n",
              "      <td>531.119995</td>\n",
              "      <td>531.119995</td>\n",
              "      <td>531.119995</td>\n",
              "      <td>0.0</td>\n",
              "      <td>United States</td>\n",
              "      <td>New York Stock Exchange</td>\n",
              "      <td>USD</td>\n",
              "      <td>1966</td>\n",
              "      <td>1</td>\n",
              "    </tr>\n",
              "    <tr>\n",
              "      <th>4</th>\n",
              "      <td>NYA</td>\n",
              "      <td>532.070007</td>\n",
              "      <td>532.070007</td>\n",
              "      <td>532.070007</td>\n",
              "      <td>532.070007</td>\n",
              "      <td>532.070007</td>\n",
              "      <td>0.0</td>\n",
              "      <td>United States</td>\n",
              "      <td>New York Stock Exchange</td>\n",
              "      <td>USD</td>\n",
              "      <td>1966</td>\n",
              "      <td>1</td>\n",
              "    </tr>\n",
              "  </tbody>\n",
              "</table>\n",
              "</div>"
            ],
            "text/plain": [
              "  Index        Open        High  ...  Currency  year  month\n",
              "0   NYA  528.690002  528.690002  ...       USD  1965     12\n",
              "1   NYA  527.210022  527.210022  ...       USD  1966      1\n",
              "2   NYA  527.840027  527.840027  ...       USD  1966      1\n",
              "3   NYA  531.119995  531.119995  ...       USD  1966      1\n",
              "4   NYA  532.070007  532.070007  ...       USD  1966      1\n",
              "\n",
              "[5 rows x 12 columns]"
            ]
          },
          "metadata": {},
          "execution_count": 84
        }
      ]
    },
    {
      "cell_type": "code",
      "metadata": {
        "colab": {
          "base_uri": "https://localhost:8080/"
        },
        "id": "eEEoh9CAr2r9",
        "outputId": "8a7ac8b8-777d-45a3-a1a6-fe7ec69782a6"
      },
      "source": [
        "# filtering dataset to show only years in 21st century\n",
        "data = data[data['year'] > 2000]\n",
        "print(data.groupby('year').size())"
      ],
      "execution_count": 85,
      "outputs": [
        {
          "output_type": "stream",
          "name": "stdout",
          "text": [
            "year\n",
            "2001    3106\n",
            "2002    3114\n",
            "2003    3114\n",
            "2004    3124\n",
            "2005    3081\n",
            "2006    3006\n",
            "2007    3053\n",
            "2008    3259\n",
            "2009    3243\n",
            "2010    3251\n",
            "2011    3243\n",
            "2012    3467\n",
            "2013    3477\n",
            "2014    3492\n",
            "2015    3497\n",
            "2016    3501\n",
            "2017    3491\n",
            "2018    3487\n",
            "2019    3461\n",
            "2020    3493\n",
            "2021    1414\n",
            "dtype: int64\n"
          ]
        }
      ]
    },
    {
      "cell_type": "code",
      "metadata": {
        "colab": {
          "base_uri": "https://localhost:8080/"
        },
        "id": "8IEUu5oPtJt2",
        "outputId": "ea3ce72e-a7da-4f5c-e8f6-4f9f3976555b"
      },
      "source": [
        "# checking for null or na values & dropping them\n",
        "print(data.isna().any())\n",
        "data = data.dropna()\n",
        "\n",
        "# checking for n/a values after drop\n",
        "print(data.isna().any())"
      ],
      "execution_count": 86,
      "outputs": [
        {
          "output_type": "stream",
          "name": "stdout",
          "text": [
            "Index        False\n",
            "Open          True\n",
            "High          True\n",
            "Low           True\n",
            "Close         True\n",
            "Adj Close     True\n",
            "Volume        True\n",
            "Region       False\n",
            "Exchange     False\n",
            "Currency     False\n",
            "year         False\n",
            "month        False\n",
            "dtype: bool\n",
            "Index        False\n",
            "Open         False\n",
            "High         False\n",
            "Low          False\n",
            "Close        False\n",
            "Adj Close    False\n",
            "Volume       False\n",
            "Region       False\n",
            "Exchange     False\n",
            "Currency     False\n",
            "year         False\n",
            "month        False\n",
            "dtype: bool\n"
          ]
        }
      ]
    },
    {
      "cell_type": "code",
      "metadata": {
        "colab": {
          "base_uri": "https://localhost:8080/",
          "height": 282
        },
        "id": "Z_bxk1ntwd8q",
        "outputId": "1c06b42e-84b0-4bc1-985e-8fb46e09132d"
      },
      "source": [
        "# Showing plot for filtered data\n",
        "\n",
        "year = data['year']\n",
        "month = data['month']\n",
        "plt.plot()"
      ],
      "execution_count": 87,
      "outputs": [
        {
          "output_type": "execute_result",
          "data": {
            "text/plain": [
              "[]"
            ]
          },
          "metadata": {},
          "execution_count": 87
        },
        {
          "output_type": "display_data",
          "data": {
            "image/png": "[encoded data removed]",
            "text/plain": [
              "<Figure size 432x288 with 1 Axes>"
            ]
          },
          "metadata": {
            "needs_background": "light"
          }
        }
      ]
    }
  ]
}