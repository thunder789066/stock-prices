{
  "nbformat": 4,
  "nbformat_minor": 0,
  "metadata": {
    "colab": {
      "name": "stocks_modelPrediction.ipynb",
      "provenance": [],
      "collapsed_sections": []
    },
    "kernelspec": {
      "name": "python3",
      "display_name": "Python 3"
    },
    "language_info": {
      "name": "python"
    }
  },
  "cells": [
    {
      "cell_type": "code",
      "metadata": {
        "id": "6xLLPatj7V5T"
      },
      "source": [
        "import pandas as pd\n",
        "from keras.preprocessing.text import Tokenizer\n",
        "from keras.preprocessing.sequence import pad_sequences\n",
        "from keras.models import Sequential\n",
        "from keras.layers import Dense, Embedding, LSTM, SpatialDropout1D\n",
        "from matplotlib import pyplot\n",
        "from sklearn.model_selection import train_test_split\n",
        "from keras.utils.np_utils import to_categorical\n",
        "import re\n",
        "from sklearn.preprocessing import LabelEncoder"
      ],
      "execution_count": 2,
      "outputs": []
    },
    {
      "cell_type": "code",
      "metadata": {
        "id": "_Fdsj1CW9MC7"
      },
      "source": [
        "data = pd.read_csv('stocks.csv')"
      ],
      "execution_count": 8,
      "outputs": []
    },
    {
      "cell_type": "code",
      "metadata": {
        "colab": {
          "base_uri": "https://localhost:8080/"
        },
        "id": "OMPGYLEH_sah",
        "outputId": "a186648b-c13d-4bce-a7e3-e98c88c199fe"
      },
      "source": [
        "# Dimensions of dataset\n",
        "data.shape"
      ],
      "execution_count": 6,
      "outputs": [
        {
          "output_type": "execute_result",
          "data": {
            "text/plain": [
              "(112457, 8)"
            ]
          },
          "metadata": {},
          "execution_count": 6
        }
      ]
    },
    {
      "cell_type": "code",
      "metadata": {
        "colab": {
          "base_uri": "https://localhost:8080/"
        },
        "id": "aHXtVL8dEnQi",
        "outputId": "b15133ce-53a4-471c-cec4-ef72dd52af98"
      },
      "source": [
        "# Preview dataset\n",
        "print(data.head(5))\n",
        "print(data.tail(5))"
      ],
      "execution_count": 11,
      "outputs": [
        {
          "output_type": "stream",
          "name": "stdout",
          "text": [
            "  Index        Date        Open  ...       Close   Adj Close  Volume\n",
            "0   NYA  1965-12-31  528.690002  ...  528.690002  528.690002     0.0\n",
            "1   NYA  1966-01-03  527.210022  ...  527.210022  527.210022     0.0\n",
            "2   NYA  1966-01-04  527.840027  ...  527.840027  527.840027     0.0\n",
            "3   NYA  1966-01-05  531.119995  ...  531.119995  531.119995     0.0\n",
            "4   NYA  1966-01-06  532.070007  ...  532.070007  532.070007     0.0\n",
            "\n",
            "[5 rows x 8 columns]\n",
            "       Index        Date         Open  ...        Close    Adj Close       Volume\n",
            "112452  N100  2021-05-27  1241.119995  ...  1247.069946  1247.069946  379696400.0\n",
            "112453  N100  2021-05-28  1249.469971  ...  1256.599976  1256.599976  160773400.0\n",
            "112454  N100  2021-05-31  1256.079956  ...  1248.930054  1248.930054   91173700.0\n",
            "112455  N100  2021-06-01  1254.609985  ...  1258.579956  1258.579956  155179900.0\n",
            "112456  N100  2021-06-02  1258.489990  ...  1263.619995  1263.619995  148465000.0\n",
            "\n",
            "[5 rows x 8 columns]\n"
          ]
        }
      ]
    },
    {
      "cell_type": "code",
      "metadata": {
        "colab": {
          "base_uri": "https://localhost:8080/",
          "height": 300
        },
        "id": "8aJj5CACE3ax",
        "outputId": "6841ab27-e443-453e-d2d7-079018634d03"
      },
      "source": [
        "# dataset statistics\n",
        "data.describe()"
      ],
      "execution_count": 9,
      "outputs": [
        {
          "output_type": "execute_result",
          "data": {
            "text/html": [
              "<div>\n",
              "<style scoped>\n",
              "    .dataframe tbody tr th:only-of-type {\n",
              "        vertical-align: middle;\n",
              "    }\n",
              "\n",
              "    .dataframe tbody tr th {\n",
              "        vertical-align: top;\n",
              "    }\n",
              "\n",
              "    .dataframe thead th {\n",
              "        text-align: right;\n",
              "    }\n",
              "</style>\n",
              "<table border=\"1\" class=\"dataframe\">\n",
              "  <thead>\n",
              "    <tr style=\"text-align: right;\">\n",
              "      <th></th>\n",
              "      <th>Open</th>\n",
              "      <th>High</th>\n",
              "      <th>Low</th>\n",
              "      <th>Close</th>\n",
              "      <th>Adj Close</th>\n",
              "      <th>Volume</th>\n",
              "    </tr>\n",
              "  </thead>\n",
              "  <tbody>\n",
              "    <tr>\n",
              "      <th>count</th>\n",
              "      <td>110253.000000</td>\n",
              "      <td>110253.000000</td>\n",
              "      <td>110253.000000</td>\n",
              "      <td>110253.000000</td>\n",
              "      <td>110253.000000</td>\n",
              "      <td>1.102530e+05</td>\n",
              "    </tr>\n",
              "    <tr>\n",
              "      <th>mean</th>\n",
              "      <td>7658.515222</td>\n",
              "      <td>7704.372961</td>\n",
              "      <td>7608.000422</td>\n",
              "      <td>7657.545872</td>\n",
              "      <td>7657.351729</td>\n",
              "      <td>1.273975e+09</td>\n",
              "    </tr>\n",
              "    <tr>\n",
              "      <th>std</th>\n",
              "      <td>9011.478913</td>\n",
              "      <td>9066.638548</td>\n",
              "      <td>8954.506981</td>\n",
              "      <td>9011.510444</td>\n",
              "      <td>9011.608900</td>\n",
              "      <td>4.315783e+09</td>\n",
              "    </tr>\n",
              "    <tr>\n",
              "      <th>min</th>\n",
              "      <td>54.869999</td>\n",
              "      <td>54.869999</td>\n",
              "      <td>54.869999</td>\n",
              "      <td>54.869999</td>\n",
              "      <td>54.869999</td>\n",
              "      <td>0.000000e+00</td>\n",
              "    </tr>\n",
              "    <tr>\n",
              "      <th>25%</th>\n",
              "      <td>1855.030029</td>\n",
              "      <td>1864.510010</td>\n",
              "      <td>1843.979980</td>\n",
              "      <td>1855.060059</td>\n",
              "      <td>1854.179565</td>\n",
              "      <td>0.000000e+00</td>\n",
              "    </tr>\n",
              "    <tr>\n",
              "      <th>50%</th>\n",
              "      <td>5194.089844</td>\n",
              "      <td>5226.279785</td>\n",
              "      <td>5154.049805</td>\n",
              "      <td>5194.750000</td>\n",
              "      <td>5194.750000</td>\n",
              "      <td>4.329000e+05</td>\n",
              "    </tr>\n",
              "    <tr>\n",
              "      <th>75%</th>\n",
              "      <td>10134.299810</td>\n",
              "      <td>10207.820310</td>\n",
              "      <td>10060.349610</td>\n",
              "      <td>10134.830080</td>\n",
              "      <td>10134.830080</td>\n",
              "      <td>1.734314e+08</td>\n",
              "    </tr>\n",
              "    <tr>\n",
              "      <th>max</th>\n",
              "      <td>68775.062500</td>\n",
              "      <td>69403.750000</td>\n",
              "      <td>68516.992190</td>\n",
              "      <td>68775.062500</td>\n",
              "      <td>68775.062500</td>\n",
              "      <td>9.440374e+10</td>\n",
              "    </tr>\n",
              "  </tbody>\n",
              "</table>\n",
              "</div>"
            ],
            "text/plain": [
              "                Open           High  ...      Adj Close        Volume\n",
              "count  110253.000000  110253.000000  ...  110253.000000  1.102530e+05\n",
              "mean     7658.515222    7704.372961  ...    7657.351729  1.273975e+09\n",
              "std      9011.478913    9066.638548  ...    9011.608900  4.315783e+09\n",
              "min        54.869999      54.869999  ...      54.869999  0.000000e+00\n",
              "25%      1855.030029    1864.510010  ...    1854.179565  0.000000e+00\n",
              "50%      5194.089844    5226.279785  ...    5194.750000  4.329000e+05\n",
              "75%     10134.299810   10207.820310  ...   10134.830080  1.734314e+08\n",
              "max     68775.062500   69403.750000  ...   68775.062500  9.440374e+10\n",
              "\n",
              "[8 rows x 6 columns]"
            ]
          },
          "metadata": {},
          "execution_count": 9
        }
      ]
    }
  ]
}