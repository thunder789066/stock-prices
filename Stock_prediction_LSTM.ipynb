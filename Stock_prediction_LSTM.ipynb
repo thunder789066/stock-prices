{
  "nbformat": 4,
  "nbformat_minor": 0,
  "metadata": {
    "kernelspec": {
      "display_name": "Python 3",
      "language": "python",
      "name": "python3"
    },
    "language_info": {
      "codemirror_mode": {
        "name": "ipython",
        "version": 3
      },
      "file_extension": ".py",
      "mimetype": "text/x-python",
      "name": "python",
      "nbconvert_exporter": "python",
      "pygments_lexer": "ipython3",
      "version": "3.6.9"
    },
    "colab": {
      "name": "Stock_prediction_LSTM.ipynb",
      "provenance": []
    },
    "accelerator": "GPU"
  },
  "cells": [
    {
      "cell_type": "markdown",
      "metadata": {
        "id": "GPjnZ4JHH-U6"
      },
      "source": [
        "### Stock Market Prediction And Forecasting Using Stacked LSTM"
      ]
    },
    {
      "cell_type": "code",
      "metadata": {
        "id": "US_k4zvHH-U7"
      },
      "source": [
        "### Keras and Tensorflow >2.0"
      ],
      "execution_count": 28,
      "outputs": []
    },
    {
      "cell_type": "code",
      "metadata": {
        "id": "nUhlUwmzH-U9"
      },
      "source": [
        "### Data Collection\n",
        "import pandas_datareader as pdr\n",
        "key=\"\""
      ],
      "execution_count": 29,
      "outputs": []
    },
    {
      "cell_type": "code",
      "metadata": {
        "id": "lTeoVx6uH-U9"
      },
      "source": [
        "df = pdr.get_data_tiingo('AAPL', api_key='196fefb8c295d79c31a6779b3e833c4683f16656')"
      ],
      "execution_count": 30,
      "outputs": []
    },
    {
      "cell_type": "code",
      "metadata": {
        "colab": {
          "base_uri": "https://localhost:8080/",
          "height": 238
        },
        "id": "pKZMr6ACH-U_",
        "outputId": "24ce9598-2819-4eab-f5a0-5e08b0c2cc19"
      },
      "source": [
        "df.head()"
      ],
      "execution_count": 34,
      "outputs": [
        {
          "output_type": "execute_result",
          "data": {
            "text/html": [
              "<div>\n",
              "<style scoped>\n",
              "    .dataframe tbody tr th:only-of-type {\n",
              "        vertical-align: middle;\n",
              "    }\n",
              "\n",
              "    .dataframe tbody tr th {\n",
              "        vertical-align: top;\n",
              "    }\n",
              "\n",
              "    .dataframe thead th {\n",
              "        text-align: right;\n",
              "    }\n",
              "</style>\n",
              "<table border=\"1\" class=\"dataframe\">\n",
              "  <thead>\n",
              "    <tr style=\"text-align: right;\">\n",
              "      <th></th>\n",
              "      <th></th>\n",
              "      <th>close</th>\n",
              "      <th>high</th>\n",
              "      <th>low</th>\n",
              "      <th>open</th>\n",
              "      <th>volume</th>\n",
              "      <th>adjClose</th>\n",
              "      <th>adjHigh</th>\n",
              "      <th>adjLow</th>\n",
              "      <th>adjOpen</th>\n",
              "      <th>adjVolume</th>\n",
              "      <th>divCash</th>\n",
              "      <th>splitFactor</th>\n",
              "    </tr>\n",
              "    <tr>\n",
              "      <th>symbol</th>\n",
              "      <th>date</th>\n",
              "      <th></th>\n",
              "      <th></th>\n",
              "      <th></th>\n",
              "      <th></th>\n",
              "      <th></th>\n",
              "      <th></th>\n",
              "      <th></th>\n",
              "      <th></th>\n",
              "      <th></th>\n",
              "      <th></th>\n",
              "      <th></th>\n",
              "      <th></th>\n",
              "    </tr>\n",
              "  </thead>\n",
              "  <tbody>\n",
              "    <tr>\n",
              "      <th rowspan=\"5\" valign=\"top\">AAPL</th>\n",
              "      <th>2016-12-08 00:00:00+00:00</th>\n",
              "      <td>112.12</td>\n",
              "      <td>112.43</td>\n",
              "      <td>110.60</td>\n",
              "      <td>110.86</td>\n",
              "      <td>27068316</td>\n",
              "      <td>26.380961</td>\n",
              "      <td>26.453902</td>\n",
              "      <td>26.023317</td>\n",
              "      <td>26.084493</td>\n",
              "      <td>108273264</td>\n",
              "      <td>0.0</td>\n",
              "      <td>1.0</td>\n",
              "    </tr>\n",
              "    <tr>\n",
              "      <th>2016-12-09 00:00:00+00:00</th>\n",
              "      <td>113.95</td>\n",
              "      <td>114.70</td>\n",
              "      <td>112.31</td>\n",
              "      <td>112.31</td>\n",
              "      <td>34402627</td>\n",
              "      <td>26.811546</td>\n",
              "      <td>26.988015</td>\n",
              "      <td>26.425667</td>\n",
              "      <td>26.425667</td>\n",
              "      <td>137610508</td>\n",
              "      <td>0.0</td>\n",
              "      <td>1.0</td>\n",
              "    </tr>\n",
              "    <tr>\n",
              "      <th>2016-12-12 00:00:00+00:00</th>\n",
              "      <td>113.30</td>\n",
              "      <td>115.00</td>\n",
              "      <td>112.49</td>\n",
              "      <td>113.29</td>\n",
              "      <td>26374377</td>\n",
              "      <td>26.658606</td>\n",
              "      <td>27.058603</td>\n",
              "      <td>26.468019</td>\n",
              "      <td>26.656253</td>\n",
              "      <td>105497508</td>\n",
              "      <td>0.0</td>\n",
              "      <td>1.0</td>\n",
              "    </tr>\n",
              "    <tr>\n",
              "      <th>2016-12-13 00:00:00+00:00</th>\n",
              "      <td>115.19</td>\n",
              "      <td>115.92</td>\n",
              "      <td>113.75</td>\n",
              "      <td>113.84</td>\n",
              "      <td>43733811</td>\n",
              "      <td>27.103308</td>\n",
              "      <td>27.275071</td>\n",
              "      <td>26.764487</td>\n",
              "      <td>26.785664</td>\n",
              "      <td>174935244</td>\n",
              "      <td>0.0</td>\n",
              "      <td>1.0</td>\n",
              "    </tr>\n",
              "    <tr>\n",
              "      <th>2016-12-14 00:00:00+00:00</th>\n",
              "      <td>115.19</td>\n",
              "      <td>116.20</td>\n",
              "      <td>114.98</td>\n",
              "      <td>115.04</td>\n",
              "      <td>34031834</td>\n",
              "      <td>27.103308</td>\n",
              "      <td>27.340953</td>\n",
              "      <td>27.053897</td>\n",
              "      <td>27.068014</td>\n",
              "      <td>136127336</td>\n",
              "      <td>0.0</td>\n",
              "      <td>1.0</td>\n",
              "    </tr>\n",
              "  </tbody>\n",
              "</table>\n",
              "</div>"
            ],
            "text/plain": [
              "                                   close    high  ...  divCash  splitFactor\n",
              "symbol date                                       ...                      \n",
              "AAPL   2016-12-08 00:00:00+00:00  112.12  112.43  ...      0.0          1.0\n",
              "       2016-12-09 00:00:00+00:00  113.95  114.70  ...      0.0          1.0\n",
              "       2016-12-12 00:00:00+00:00  113.30  115.00  ...      0.0          1.0\n",
              "       2016-12-13 00:00:00+00:00  115.19  115.92  ...      0.0          1.0\n",
              "       2016-12-14 00:00:00+00:00  115.19  116.20  ...      0.0          1.0\n",
              "\n",
              "[5 rows x 12 columns]"
            ]
          },
          "metadata": {},
          "execution_count": 34
        }
      ]
    },
    {
      "cell_type": "code",
      "metadata": {
        "colab": {
          "base_uri": "https://localhost:8080/",
          "height": 238
        },
        "id": "wZqXOVDEH-VA",
        "outputId": "289fc875-9439-4f5e-c0ac-1b18375576ce"
      },
      "source": [
        "df.tail()"
      ],
      "execution_count": 35,
      "outputs": [
        {
          "output_type": "execute_result",
          "data": {
            "text/html": [
              "<div>\n",
              "<style scoped>\n",
              "    .dataframe tbody tr th:only-of-type {\n",
              "        vertical-align: middle;\n",
              "    }\n",
              "\n",
              "    .dataframe tbody tr th {\n",
              "        vertical-align: top;\n",
              "    }\n",
              "\n",
              "    .dataframe thead th {\n",
              "        text-align: right;\n",
              "    }\n",
              "</style>\n",
              "<table border=\"1\" class=\"dataframe\">\n",
              "  <thead>\n",
              "    <tr style=\"text-align: right;\">\n",
              "      <th></th>\n",
              "      <th></th>\n",
              "      <th>close</th>\n",
              "      <th>high</th>\n",
              "      <th>low</th>\n",
              "      <th>open</th>\n",
              "      <th>volume</th>\n",
              "      <th>adjClose</th>\n",
              "      <th>adjHigh</th>\n",
              "      <th>adjLow</th>\n",
              "      <th>adjOpen</th>\n",
              "      <th>adjVolume</th>\n",
              "      <th>divCash</th>\n",
              "      <th>splitFactor</th>\n",
              "    </tr>\n",
              "    <tr>\n",
              "      <th>symbol</th>\n",
              "      <th>date</th>\n",
              "      <th></th>\n",
              "      <th></th>\n",
              "      <th></th>\n",
              "      <th></th>\n",
              "      <th></th>\n",
              "      <th></th>\n",
              "      <th></th>\n",
              "      <th></th>\n",
              "      <th></th>\n",
              "      <th></th>\n",
              "      <th></th>\n",
              "      <th></th>\n",
              "    </tr>\n",
              "  </thead>\n",
              "  <tbody>\n",
              "    <tr>\n",
              "      <th rowspan=\"5\" valign=\"top\">AAPL</th>\n",
              "      <th>2021-11-30 00:00:00+00:00</th>\n",
              "      <td>165.30</td>\n",
              "      <td>165.5200</td>\n",
              "      <td>159.92</td>\n",
              "      <td>159.985</td>\n",
              "      <td>174048056</td>\n",
              "      <td>165.30</td>\n",
              "      <td>165.5200</td>\n",
              "      <td>159.92</td>\n",
              "      <td>159.985</td>\n",
              "      <td>174048056</td>\n",
              "      <td>0.0</td>\n",
              "      <td>1.0</td>\n",
              "    </tr>\n",
              "    <tr>\n",
              "      <th>2021-12-01 00:00:00+00:00</th>\n",
              "      <td>164.77</td>\n",
              "      <td>170.3000</td>\n",
              "      <td>164.53</td>\n",
              "      <td>167.480</td>\n",
              "      <td>152423003</td>\n",
              "      <td>164.77</td>\n",
              "      <td>170.3000</td>\n",
              "      <td>164.53</td>\n",
              "      <td>167.480</td>\n",
              "      <td>152423003</td>\n",
              "      <td>0.0</td>\n",
              "      <td>1.0</td>\n",
              "    </tr>\n",
              "    <tr>\n",
              "      <th>2021-12-02 00:00:00+00:00</th>\n",
              "      <td>163.76</td>\n",
              "      <td>164.2000</td>\n",
              "      <td>157.80</td>\n",
              "      <td>158.735</td>\n",
              "      <td>136739174</td>\n",
              "      <td>163.76</td>\n",
              "      <td>164.2000</td>\n",
              "      <td>157.80</td>\n",
              "      <td>158.735</td>\n",
              "      <td>136739174</td>\n",
              "      <td>0.0</td>\n",
              "      <td>1.0</td>\n",
              "    </tr>\n",
              "    <tr>\n",
              "      <th>2021-12-03 00:00:00+00:00</th>\n",
              "      <td>161.84</td>\n",
              "      <td>164.9600</td>\n",
              "      <td>159.72</td>\n",
              "      <td>164.020</td>\n",
              "      <td>118023116</td>\n",
              "      <td>161.84</td>\n",
              "      <td>164.9600</td>\n",
              "      <td>159.72</td>\n",
              "      <td>164.020</td>\n",
              "      <td>118023116</td>\n",
              "      <td>0.0</td>\n",
              "      <td>1.0</td>\n",
              "    </tr>\n",
              "    <tr>\n",
              "      <th>2021-12-06 00:00:00+00:00</th>\n",
              "      <td>165.32</td>\n",
              "      <td>167.8799</td>\n",
              "      <td>164.28</td>\n",
              "      <td>164.290</td>\n",
              "      <td>107496982</td>\n",
              "      <td>165.32</td>\n",
              "      <td>167.8799</td>\n",
              "      <td>164.28</td>\n",
              "      <td>164.290</td>\n",
              "      <td>107496982</td>\n",
              "      <td>0.0</td>\n",
              "      <td>1.0</td>\n",
              "    </tr>\n",
              "  </tbody>\n",
              "</table>\n",
              "</div>"
            ],
            "text/plain": [
              "                                   close      high  ...  divCash  splitFactor\n",
              "symbol date                                         ...                      \n",
              "AAPL   2021-11-30 00:00:00+00:00  165.30  165.5200  ...      0.0          1.0\n",
              "       2021-12-01 00:00:00+00:00  164.77  170.3000  ...      0.0          1.0\n",
              "       2021-12-02 00:00:00+00:00  163.76  164.2000  ...      0.0          1.0\n",
              "       2021-12-03 00:00:00+00:00  161.84  164.9600  ...      0.0          1.0\n",
              "       2021-12-06 00:00:00+00:00  165.32  167.8799  ...      0.0          1.0\n",
              "\n",
              "[5 rows x 12 columns]"
            ]
          },
          "metadata": {},
          "execution_count": 35
        }
      ]
    },
    {
      "cell_type": "code",
      "metadata": {
        "id": "s1ej50-kH-VB"
      },
      "source": [
        "df1=df.reset_index()['close']"
      ],
      "execution_count": 36,
      "outputs": []
    },
    {
      "cell_type": "code",
      "metadata": {
        "colab": {
          "base_uri": "https://localhost:8080/"
        },
        "id": "nF4x3XmSH-VB",
        "outputId": "2dce66fd-c79f-4675-ba9b-e0a7acf11fa6"
      },
      "source": [
        "df1"
      ],
      "execution_count": 37,
      "outputs": [
        {
          "output_type": "execute_result",
          "data": {
            "text/plain": [
              "0       112.12\n",
              "1       113.95\n",
              "2       113.30\n",
              "3       115.19\n",
              "4       115.19\n",
              "         ...  \n",
              "1252    165.30\n",
              "1253    164.77\n",
              "1254    163.76\n",
              "1255    161.84\n",
              "1256    165.32\n",
              "Name: close, Length: 1257, dtype: float64"
            ]
          },
          "metadata": {},
          "execution_count": 37
        }
      ]
    },
    {
      "cell_type": "code",
      "metadata": {
        "colab": {
          "base_uri": "https://localhost:8080/",
          "height": 282
        },
        "id": "RZZ_ihwkH-VB",
        "outputId": "3a1158d2-b640-4463-a9e9-eb804666078d"
      },
      "source": [
        "import matplotlib.pyplot as plt\n",
        "plt.plot(df1)"
      ],
      "execution_count": 38,
      "outputs": [
        {
          "output_type": "execute_result",
          "data": {
            "text/plain": [
              "[<matplotlib.lines.Line2D at 0x7fdbd015c4d0>]"
            ]
          },
          "metadata": {},
          "execution_count": 38
        },
        {
          "output_type": "display_data",
          "data": {
            "image/png": "[encoded data removed]",
            "text/plain": [
              "<Figure size 432x288 with 1 Axes>"
            ]
          },
          "metadata": {
            "needs_background": "light"
          }
        }
      ]
    },
    {
      "cell_type": "code",
      "metadata": {
        "id": "_CXiE98EH-VC"
      },
      "source": [
        "### LSTM are sensitive to the scale of the data. so we apply MinMax scaler "
      ],
      "execution_count": 39,
      "outputs": []
    },
    {
      "cell_type": "code",
      "metadata": {
        "id": "bL8tsHFSH-VC"
      },
      "source": [
        "import numpy as np"
      ],
      "execution_count": 40,
      "outputs": []
    },
    {
      "cell_type": "code",
      "metadata": {
        "colab": {
          "base_uri": "https://localhost:8080/"
        },
        "id": "qbg_x4VgH-VC",
        "outputId": "622ee431-e4d2-40e8-9801-37145795d7ee"
      },
      "source": [
        "df1"
      ],
      "execution_count": 41,
      "outputs": [
        {
          "output_type": "execute_result",
          "data": {
            "text/plain": [
              "0       112.12\n",
              "1       113.95\n",
              "2       113.30\n",
              "3       115.19\n",
              "4       115.19\n",
              "         ...  \n",
              "1252    165.30\n",
              "1253    164.77\n",
              "1254    163.76\n",
              "1255    161.84\n",
              "1256    165.32\n",
              "Name: close, Length: 1257, dtype: float64"
            ]
          },
          "metadata": {},
          "execution_count": 41
        }
      ]
    },
    {
      "cell_type": "code",
      "metadata": {
        "id": "O-4CKn2rH-VD"
      },
      "source": [
        "from sklearn.preprocessing import MinMaxScaler\n",
        "scaler=MinMaxScaler(feature_range=(0,1))\n",
        "df1=scaler.fit_transform(np.array(df1).reshape(-1,1))"
      ],
      "execution_count": 42,
      "outputs": []
    },
    {
      "cell_type": "code",
      "metadata": {
        "colab": {
          "base_uri": "https://localhost:8080/"
        },
        "id": "QQrCD17TH-VD",
        "outputId": "ba80e31c-6f9a-43dc-98c8-d19ce3280827"
      },
      "source": [
        "print(df1)"
      ],
      "execution_count": 43,
      "outputs": [
        {
          "output_type": "stream",
          "name": "stdout",
          "text": [
            "[[0.0132248 ]\n",
            " [0.01780839]\n",
            " [0.01618034]\n",
            " ...\n",
            " [0.14256731]\n",
            " [0.1377583 ]\n",
            " [0.14647464]]\n"
          ]
        }
      ]
    },
    {
      "cell_type": "code",
      "metadata": {
        "id": "tAVOHm3zH-VD"
      },
      "source": [
        "##splitting dataset into train and test split\n",
        "training_size=int(len(df1)*0.65)\n",
        "test_size=len(df1)-training_size\n",
        "train_data,test_data=df1[0:training_size,:],df1[training_size:len(df1),:1]"
      ],
      "execution_count": 44,
      "outputs": []
    },
    {
      "cell_type": "code",
      "metadata": {
        "colab": {
          "base_uri": "https://localhost:8080/"
        },
        "id": "xYtexWA2H-VD",
        "outputId": "e6f3784c-7a3d-4b55-bcd8-e9c051733208"
      },
      "source": [
        "training_size,test_size"
      ],
      "execution_count": 45,
      "outputs": [
        {
          "output_type": "execute_result",
          "data": {
            "text/plain": [
              "(817, 440)"
            ]
          },
          "metadata": {},
          "execution_count": 45
        }
      ]
    },
    {
      "cell_type": "code",
      "metadata": {
        "id": "zGx_LtGRH-VE"
      },
      "source": [
        "import numpy\n",
        "# convert an array of values into a dataset matrix\n",
        "def create_dataset(dataset, time_step=1):\n",
        "\tdataX, dataY = [], []\n",
        "\tfor i in range(len(dataset)-time_step-1):\n",
        "\t\ta = dataset[i:(i+time_step), 0]   ###i=0, 0,1,2,3-----99   100 \n",
        "\t\tdataX.append(a)\n",
        "\t\tdataY.append(dataset[i + time_step, 0])\n",
        "\treturn numpy.array(dataX), numpy.array(dataY)"
      ],
      "execution_count": 47,
      "outputs": []
    },
    {
      "cell_type": "code",
      "metadata": {
        "id": "O_Fw65uhH-VE"
      },
      "source": [
        "# reshape into X=t,t+1,t+2,t+3 and Y=t+4\n",
        "time_step = 100\n",
        "X_train, y_train = create_dataset(train_data, time_step)\n",
        "X_test, ytest = create_dataset(test_data, time_step)"
      ],
      "execution_count": 48,
      "outputs": []
    },
    {
      "cell_type": "code",
      "metadata": {
        "colab": {
          "base_uri": "https://localhost:8080/"
        },
        "id": "QXuqzBDpH-VF",
        "outputId": "216477c8-5739-4724-ce12-f6ae3c7327e4"
      },
      "source": [
        "print(X_train.shape), print(y_train.shape)"
      ],
      "execution_count": 49,
      "outputs": [
        {
          "output_type": "stream",
          "name": "stdout",
          "text": [
            "(716, 100)\n",
            "(716,)\n"
          ]
        },
        {
          "output_type": "execute_result",
          "data": {
            "text/plain": [
              "(None, None)"
            ]
          },
          "metadata": {},
          "execution_count": 49
        }
      ]
    },
    {
      "cell_type": "code",
      "metadata": {
        "colab": {
          "base_uri": "https://localhost:8080/"
        },
        "id": "Q-JtCRoHH-VF",
        "outputId": "276c3e2a-a465-4c3f-da7f-cb505dd38782"
      },
      "source": [
        "print(X_test.shape), print(ytest.shape)"
      ],
      "execution_count": 50,
      "outputs": [
        {
          "output_type": "stream",
          "name": "stdout",
          "text": [
            "(339, 100)\n",
            "(339,)\n"
          ]
        },
        {
          "output_type": "execute_result",
          "data": {
            "text/plain": [
              "(None, None)"
            ]
          },
          "metadata": {},
          "execution_count": 50
        }
      ]
    },
    {
      "cell_type": "code",
      "metadata": {
        "id": "AAmwUPsvH-VF"
      },
      "source": [
        "# reshape input to be [samples, time steps, features] which is required for LSTM\n",
        "X_train =X_train.reshape(X_train.shape[0],X_train.shape[1] , 1)\n",
        "X_test = X_test.reshape(X_test.shape[0],X_test.shape[1] , 1)"
      ],
      "execution_count": 51,
      "outputs": []
    },
    {
      "cell_type": "code",
      "metadata": {
        "id": "YoJESe7ZH-VF"
      },
      "source": [
        "### Create the Stacked LSTM model\n",
        "from tensorflow.keras.models import Sequential\n",
        "from tensorflow.keras.layers import Dense,Dropout\n",
        "from tensorflow.keras.layers import LSTM"
      ],
      "execution_count": 52,
      "outputs": []
    },
    {
      "cell_type": "code",
      "metadata": {
        "colab": {
          "base_uri": "https://localhost:8080/"
        },
        "id": "rjjB9sr5H-VG",
        "outputId": "afc41801-4ebe-4163-855b-9f225520c55d"
      },
      "source": [
        "model=Sequential()\n",
        "model.add(LSTM(50,activation='relu',return_sequences=True,input_shape=(100,1)))\n",
        "model.add(Dropout(0.2))\n",
        "model.add(LSTM(50,return_sequences=True))\n",
        "model.add(Dropout(0.3))\n",
        "model.add(LSTM(50))\n",
        "model.add(Dropout(0.4))\n",
        "model.add(Dense(1))\n",
        "model.compile(loss='mean_squared_error',optimizer='adam')\n"
      ],
      "execution_count": 126,
      "outputs": [
        {
          "output_type": "stream",
          "name": "stdout",
          "text": [
            "WARNING:tensorflow:Layer lstm_16 will not use cuDNN kernels since it doesn't meet the criteria. It will use a generic GPU kernel as fallback when running on GPU.\n"
          ]
        }
      ]
    },
    {
      "cell_type": "code",
      "metadata": {
        "colab": {
          "base_uri": "https://localhost:8080/"
        },
        "id": "ym_WI4uRH-VG",
        "outputId": "3438e47e-bd37-4b63-80d1-242e562ce885"
      },
      "source": [
        "model.summary()"
      ],
      "execution_count": 127,
      "outputs": [
        {
          "output_type": "stream",
          "name": "stdout",
          "text": [
            "Model: \"sequential_6\"\n",
            "_________________________________________________________________\n",
            " Layer (type)                Output Shape              Param #   \n",
            "=================================================================\n",
            " lstm_16 (LSTM)              (None, 100, 50)           10400     \n",
            "                                                                 \n",
            " dropout_15 (Dropout)        (None, 100, 50)           0         \n",
            "                                                                 \n",
            " lstm_17 (LSTM)              (None, 100, 50)           20200     \n",
            "                                                                 \n",
            " dropout_16 (Dropout)        (None, 100, 50)           0         \n",
            "                                                                 \n",
            " lstm_18 (LSTM)              (None, 50)                20200     \n",
            "                                                                 \n",
            " dropout_17 (Dropout)        (None, 50)                0         \n",
            "                                                                 \n",
            " dense_5 (Dense)             (None, 1)                 51        \n",
            "                                                                 \n",
            "=================================================================\n",
            "Total params: 50,851\n",
            "Trainable params: 50,851\n",
            "Non-trainable params: 0\n",
            "_________________________________________________________________\n"
          ]
        }
      ]
    },
    {
      "cell_type": "code",
      "metadata": {
        "colab": {
          "base_uri": "https://localhost:8080/"
        },
        "id": "mtB4WIVkH-VG",
        "outputId": "1a888d21-a05b-4be6-ec80-7d9a9dee07e1"
      },
      "source": [
        "model.fit(X_train,y_train,validation_data=(X_test,ytest),epochs=100,batch_size=64,verbose=1)"
      ],
      "execution_count": 128,
      "outputs": [
        {
          "output_type": "stream",
          "name": "stdout",
          "text": [
            "Epoch 1/100\n",
            "12/12 [==============================] - 9s 361ms/step - loss: 0.0228 - val_loss: 0.0315\n",
            "Epoch 2/100\n",
            "12/12 [==============================] - 3s 265ms/step - loss: 0.0068 - val_loss: 0.0263\n",
            "Epoch 3/100\n",
            "12/12 [==============================] - 3s 262ms/step - loss: 0.0039 - val_loss: 0.0222\n",
            "Epoch 4/100\n",
            "12/12 [==============================] - 3s 267ms/step - loss: 0.0026 - val_loss: 0.0348\n",
            "Epoch 5/100\n",
            "12/12 [==============================] - 3s 268ms/step - loss: 0.0023 - val_loss: 0.0252\n",
            "Epoch 6/100\n",
            "12/12 [==============================] - 3s 265ms/step - loss: 0.0021 - val_loss: 0.0221\n",
            "Epoch 7/100\n",
            "12/12 [==============================] - 3s 268ms/step - loss: 0.0021 - val_loss: 0.0212\n",
            "Epoch 8/100\n",
            "12/12 [==============================] - 3s 261ms/step - loss: 0.0021 - val_loss: 0.0212\n",
            "Epoch 9/100\n",
            "12/12 [==============================] - 3s 261ms/step - loss: 0.0019 - val_loss: 0.0203\n",
            "Epoch 10/100\n",
            "12/12 [==============================] - 3s 268ms/step - loss: 0.0019 - val_loss: 0.0204\n",
            "Epoch 11/100\n",
            "12/12 [==============================] - 3s 265ms/step - loss: 0.0016 - val_loss: 0.0204\n",
            "Epoch 12/100\n",
            "12/12 [==============================] - 3s 254ms/step - loss: 0.0015 - val_loss: 0.0209\n",
            "Epoch 13/100\n",
            "12/12 [==============================] - 3s 262ms/step - loss: 0.0015 - val_loss: 0.0211\n",
            "Epoch 14/100\n",
            "12/12 [==============================] - 3s 264ms/step - loss: 0.0017 - val_loss: 0.0196\n",
            "Epoch 15/100\n",
            "12/12 [==============================] - 3s 260ms/step - loss: 0.0016 - val_loss: 0.0189\n",
            "Epoch 16/100\n",
            "12/12 [==============================] - 3s 262ms/step - loss: 0.0016 - val_loss: 0.0178\n",
            "Epoch 17/100\n",
            "12/12 [==============================] - 3s 266ms/step - loss: 0.0016 - val_loss: 0.0177\n",
            "Epoch 18/100\n",
            "12/12 [==============================] - 3s 258ms/step - loss: 0.0016 - val_loss: 0.0185\n",
            "Epoch 19/100\n",
            "12/12 [==============================] - 3s 261ms/step - loss: 0.0014 - val_loss: 0.0198\n",
            "Epoch 20/100\n",
            "12/12 [==============================] - 3s 270ms/step - loss: 0.0015 - val_loss: 0.0185\n",
            "Epoch 21/100\n",
            "12/12 [==============================] - 3s 260ms/step - loss: 0.0015 - val_loss: 0.0176\n",
            "Epoch 22/100\n",
            "12/12 [==============================] - 3s 273ms/step - loss: 0.0015 - val_loss: 0.0163\n",
            "Epoch 23/100\n",
            "12/12 [==============================] - 3s 256ms/step - loss: 0.0014 - val_loss: 0.0181\n",
            "Epoch 24/100\n",
            "12/12 [==============================] - 3s 271ms/step - loss: 0.0013 - val_loss: 0.0169\n",
            "Epoch 25/100\n",
            "12/12 [==============================] - 3s 257ms/step - loss: 0.0015 - val_loss: 0.0161\n",
            "Epoch 26/100\n",
            "12/12 [==============================] - 3s 266ms/step - loss: 0.0015 - val_loss: 0.0163\n",
            "Epoch 27/100\n",
            "12/12 [==============================] - 3s 263ms/step - loss: 0.0014 - val_loss: 0.0167\n",
            "Epoch 28/100\n",
            "12/12 [==============================] - 3s 261ms/step - loss: 0.0015 - val_loss: 0.0185\n",
            "Epoch 29/100\n",
            "12/12 [==============================] - 3s 258ms/step - loss: 0.0013 - val_loss: 0.0184\n",
            "Epoch 30/100\n",
            "12/12 [==============================] - 3s 285ms/step - loss: 0.0013 - val_loss: 0.0176\n",
            "Epoch 31/100\n",
            "12/12 [==============================] - 3s 260ms/step - loss: 0.0012 - val_loss: 0.0174\n",
            "Epoch 32/100\n",
            "12/12 [==============================] - 3s 268ms/step - loss: 0.0013 - val_loss: 0.0161\n",
            "Epoch 33/100\n",
            "12/12 [==============================] - 3s 260ms/step - loss: 0.0011 - val_loss: 0.0165\n",
            "Epoch 34/100\n",
            "12/12 [==============================] - 3s 268ms/step - loss: 0.0013 - val_loss: 0.0179\n",
            "Epoch 35/100\n",
            "12/12 [==============================] - 3s 261ms/step - loss: 0.0012 - val_loss: 0.0162\n",
            "Epoch 36/100\n",
            "12/12 [==============================] - 3s 269ms/step - loss: 0.0012 - val_loss: 0.0160\n",
            "Epoch 37/100\n",
            "12/12 [==============================] - 3s 257ms/step - loss: 0.0011 - val_loss: 0.0167\n",
            "Epoch 38/100\n",
            "12/12 [==============================] - 3s 258ms/step - loss: 0.0011 - val_loss: 0.0157\n",
            "Epoch 39/100\n",
            "12/12 [==============================] - 3s 255ms/step - loss: 0.0011 - val_loss: 0.0159\n",
            "Epoch 40/100\n",
            "12/12 [==============================] - 3s 276ms/step - loss: 0.0011 - val_loss: 0.0175\n",
            "Epoch 41/100\n",
            "12/12 [==============================] - 3s 265ms/step - loss: 0.0011 - val_loss: 0.0152\n",
            "Epoch 42/100\n",
            "12/12 [==============================] - 3s 267ms/step - loss: 0.0011 - val_loss: 0.0156\n",
            "Epoch 43/100\n",
            "12/12 [==============================] - 3s 254ms/step - loss: 0.0010 - val_loss: 0.0156\n",
            "Epoch 44/100\n",
            "12/12 [==============================] - 3s 264ms/step - loss: 0.0010 - val_loss: 0.0154\n",
            "Epoch 45/100\n",
            "12/12 [==============================] - 3s 265ms/step - loss: 0.0011 - val_loss: 0.0165\n",
            "Epoch 46/100\n",
            "12/12 [==============================] - 3s 258ms/step - loss: 0.0013 - val_loss: 0.0154\n",
            "Epoch 47/100\n",
            "12/12 [==============================] - 3s 263ms/step - loss: 0.0012 - val_loss: 0.0147\n",
            "Epoch 48/100\n",
            "12/12 [==============================] - 3s 268ms/step - loss: 0.0013 - val_loss: 0.0172\n",
            "Epoch 49/100\n",
            "12/12 [==============================] - 3s 268ms/step - loss: 0.0011 - val_loss: 0.0150\n",
            "Epoch 50/100\n",
            "12/12 [==============================] - 3s 275ms/step - loss: 8.6546e-04 - val_loss: 0.0148\n",
            "Epoch 51/100\n",
            "12/12 [==============================] - 3s 262ms/step - loss: 9.7330e-04 - val_loss: 0.0146\n",
            "Epoch 52/100\n",
            "12/12 [==============================] - 3s 265ms/step - loss: 0.0010 - val_loss: 0.0144\n",
            "Epoch 53/100\n",
            "12/12 [==============================] - 3s 277ms/step - loss: 0.0010 - val_loss: 0.0140\n",
            "Epoch 54/100\n",
            "12/12 [==============================] - 3s 273ms/step - loss: 8.4914e-04 - val_loss: 0.0133\n",
            "Epoch 55/100\n",
            "12/12 [==============================] - 3s 258ms/step - loss: 0.0011 - val_loss: 0.0136\n",
            "Epoch 56/100\n",
            "12/12 [==============================] - 3s 254ms/step - loss: 7.7734e-04 - val_loss: 0.0146\n",
            "Epoch 57/100\n",
            "12/12 [==============================] - 3s 268ms/step - loss: 9.4744e-04 - val_loss: 0.0144\n",
            "Epoch 58/100\n",
            "12/12 [==============================] - 3s 245ms/step - loss: 0.0010 - val_loss: 0.0148\n",
            "Epoch 59/100\n",
            "12/12 [==============================] - 3s 259ms/step - loss: 8.7842e-04 - val_loss: 0.0129\n",
            "Epoch 60/100\n",
            "12/12 [==============================] - 3s 268ms/step - loss: 9.2434e-04 - val_loss: 0.0130\n",
            "Epoch 61/100\n",
            "12/12 [==============================] - 3s 284ms/step - loss: 9.2729e-04 - val_loss: 0.0136\n",
            "Epoch 62/100\n",
            "12/12 [==============================] - 3s 264ms/step - loss: 9.0395e-04 - val_loss: 0.0130\n",
            "Epoch 63/100\n",
            "12/12 [==============================] - 3s 267ms/step - loss: 8.2528e-04 - val_loss: 0.0134\n",
            "Epoch 64/100\n",
            "12/12 [==============================] - 3s 260ms/step - loss: 9.2450e-04 - val_loss: 0.0138\n",
            "Epoch 65/100\n",
            "12/12 [==============================] - 3s 267ms/step - loss: 8.9475e-04 - val_loss: 0.0140\n",
            "Epoch 66/100\n",
            "12/12 [==============================] - 3s 259ms/step - loss: 8.7384e-04 - val_loss: 0.0130\n",
            "Epoch 67/100\n",
            "12/12 [==============================] - 3s 262ms/step - loss: 7.9017e-04 - val_loss: 0.0126\n",
            "Epoch 68/100\n",
            "12/12 [==============================] - 3s 263ms/step - loss: 8.4195e-04 - val_loss: 0.0121\n",
            "Epoch 69/100\n",
            "12/12 [==============================] - 3s 252ms/step - loss: 8.1381e-04 - val_loss: 0.0127\n",
            "Epoch 70/100\n",
            "12/12 [==============================] - 3s 259ms/step - loss: 7.9652e-04 - val_loss: 0.0134\n",
            "Epoch 71/100\n",
            "12/12 [==============================] - 3s 270ms/step - loss: 8.3285e-04 - val_loss: 0.0137\n",
            "Epoch 72/100\n",
            "12/12 [==============================] - 3s 264ms/step - loss: 8.3174e-04 - val_loss: 0.0129\n",
            "Epoch 73/100\n",
            "12/12 [==============================] - 3s 265ms/step - loss: 7.8699e-04 - val_loss: 0.0124\n",
            "Epoch 74/100\n",
            "12/12 [==============================] - 3s 263ms/step - loss: 6.7165e-04 - val_loss: 0.0121\n",
            "Epoch 75/100\n",
            "12/12 [==============================] - 3s 264ms/step - loss: 7.7534e-04 - val_loss: 0.0121\n",
            "Epoch 76/100\n",
            "12/12 [==============================] - 3s 253ms/step - loss: 7.7521e-04 - val_loss: 0.0121\n",
            "Epoch 77/100\n",
            "12/12 [==============================] - 3s 258ms/step - loss: 6.9796e-04 - val_loss: 0.0120\n",
            "Epoch 78/100\n",
            "12/12 [==============================] - 3s 259ms/step - loss: 7.3244e-04 - val_loss: 0.0131\n",
            "Epoch 79/100\n",
            "12/12 [==============================] - 3s 257ms/step - loss: 7.5353e-04 - val_loss: 0.0127\n",
            "Epoch 80/100\n",
            "12/12 [==============================] - 3s 260ms/step - loss: 7.2059e-04 - val_loss: 0.0131\n",
            "Epoch 81/100\n",
            "12/12 [==============================] - 3s 265ms/step - loss: 7.4107e-04 - val_loss: 0.0126\n",
            "Epoch 82/100\n",
            "12/12 [==============================] - 3s 257ms/step - loss: 6.7661e-04 - val_loss: 0.0124\n",
            "Epoch 83/100\n",
            "12/12 [==============================] - 3s 263ms/step - loss: 7.4512e-04 - val_loss: 0.0123\n",
            "Epoch 84/100\n",
            "12/12 [==============================] - 3s 265ms/step - loss: 7.6740e-04 - val_loss: 0.0125\n",
            "Epoch 85/100\n",
            "12/12 [==============================] - 3s 259ms/step - loss: 6.8829e-04 - val_loss: 0.0120\n",
            "Epoch 86/100\n",
            "12/12 [==============================] - 3s 256ms/step - loss: 7.9539e-04 - val_loss: 0.0120\n",
            "Epoch 87/100\n",
            "12/12 [==============================] - 3s 265ms/step - loss: 7.7066e-04 - val_loss: 0.0120\n",
            "Epoch 88/100\n",
            "12/12 [==============================] - 3s 259ms/step - loss: 8.1042e-04 - val_loss: 0.0119\n",
            "Epoch 89/100\n",
            "12/12 [==============================] - 3s 262ms/step - loss: 7.4692e-04 - val_loss: 0.0120\n",
            "Epoch 90/100\n",
            "12/12 [==============================] - 3s 267ms/step - loss: 7.0291e-04 - val_loss: 0.0113\n",
            "Epoch 91/100\n",
            "12/12 [==============================] - 3s 270ms/step - loss: 7.7472e-04 - val_loss: 0.0115\n",
            "Epoch 92/100\n",
            "12/12 [==============================] - 3s 259ms/step - loss: 7.3086e-04 - val_loss: 0.0119\n",
            "Epoch 93/100\n",
            "12/12 [==============================] - 3s 256ms/step - loss: 6.0222e-04 - val_loss: 0.0118\n",
            "Epoch 94/100\n",
            "12/12 [==============================] - 3s 252ms/step - loss: 7.9250e-04 - val_loss: 0.0116\n",
            "Epoch 95/100\n",
            "12/12 [==============================] - 3s 250ms/step - loss: 7.3776e-04 - val_loss: 0.0117\n",
            "Epoch 96/100\n",
            "12/12 [==============================] - 3s 252ms/step - loss: 6.8813e-04 - val_loss: 0.0118\n",
            "Epoch 97/100\n",
            "12/12 [==============================] - 3s 256ms/step - loss: 6.5175e-04 - val_loss: 0.0121\n",
            "Epoch 98/100\n",
            "12/12 [==============================] - 3s 273ms/step - loss: 5.9229e-04 - val_loss: 0.0120\n",
            "Epoch 99/100\n",
            "12/12 [==============================] - 3s 259ms/step - loss: 6.0128e-04 - val_loss: 0.0118\n",
            "Epoch 100/100\n",
            "12/12 [==============================] - 3s 275ms/step - loss: 6.4783e-04 - val_loss: 0.0115\n"
          ]
        },
        {
          "output_type": "execute_result",
          "data": {
            "text/plain": [
              "<keras.callbacks.History at 0x7fdb2a746690>"
            ]
          },
          "metadata": {},
          "execution_count": 128
        }
      ]
    },
    {
      "cell_type": "code",
      "metadata": {
        "id": "cf2iMXYIH-VG"
      },
      "source": [
        "import tensorflow as tf"
      ],
      "execution_count": 129,
      "outputs": []
    },
    {
      "cell_type": "code",
      "metadata": {
        "colab": {
          "base_uri": "https://localhost:8080/",
          "height": 35
        },
        "id": "KeErLBlOH-VH",
        "outputId": "51a055cb-90c7-42db-81dd-0a7fb4d89a43"
      },
      "source": [
        "tf.__version__"
      ],
      "execution_count": 130,
      "outputs": [
        {
          "output_type": "execute_result",
          "data": {
            "application/vnd.google.colaboratory.intrinsic+json": {
              "type": "string"
            },
            "text/plain": [
              "'2.7.0'"
            ]
          },
          "metadata": {},
          "execution_count": 130
        }
      ]
    },
    {
      "cell_type": "code",
      "metadata": {
        "id": "93rN1K3dH-VH"
      },
      "source": [
        "### Lets Do the prediction and check performance metrics\n",
        "train_predict=model.predict(X_train)\n",
        "test_predict=model.predict(X_test)"
      ],
      "execution_count": 131,
      "outputs": []
    },
    {
      "cell_type": "code",
      "metadata": {
        "id": "F2_m_YFwH-VH"
      },
      "source": [
        "##Transformback to original form\n",
        "train_predict=scaler.inverse_transform(train_predict)\n",
        "test_predict=scaler.inverse_transform(test_predict)"
      ],
      "execution_count": 132,
      "outputs": []
    },
    {
      "cell_type": "code",
      "metadata": {
        "colab": {
          "base_uri": "https://localhost:8080/"
        },
        "id": "aAHntGKUH-VH",
        "outputId": "d6681396-6959-4a33-a049-ef240c5fa9f0"
      },
      "source": [
        "### Calculate RMSE performance metrics\n",
        "import math\n",
        "from sklearn.metrics import mean_squared_error\n",
        "math.sqrt(mean_squared_error(y_train,train_predict))"
      ],
      "execution_count": 133,
      "outputs": [
        {
          "output_type": "execute_result",
          "data": {
            "text/plain": [
              "198.616744574401"
            ]
          },
          "metadata": {},
          "execution_count": 133
        }
      ]
    },
    {
      "cell_type": "code",
      "metadata": {
        "colab": {
          "base_uri": "https://localhost:8080/"
        },
        "id": "FbgmlhVLH-VH",
        "outputId": "65dcb099-eff5-488c-d246-308232705030"
      },
      "source": [
        "### Test Data RMSE\n",
        "math.sqrt(mean_squared_error(ytest,test_predict))"
      ],
      "execution_count": 134,
      "outputs": [
        {
          "output_type": "execute_result",
          "data": {
            "text/plain": [
              "179.05959704625303"
            ]
          },
          "metadata": {},
          "execution_count": 134
        }
      ]
    },
    {
      "cell_type": "code",
      "metadata": {
        "colab": {
          "base_uri": "https://localhost:8080/",
          "height": 265
        },
        "id": "oSsd0DZMH-VH",
        "outputId": "26fffbdc-1265-497b-e7ff-db0086757fcc"
      },
      "source": [
        "### Plotting \n",
        "# shift train predictions for plotting\n",
        "look_back=100\n",
        "trainPredictPlot = numpy.empty_like(df1)\n",
        "trainPredictPlot[:, :] = np.nan\n",
        "trainPredictPlot[look_back:len(train_predict)+look_back, :] = train_predict\n",
        "# shift test predictions for plotting\n",
        "testPredictPlot = numpy.empty_like(df1)\n",
        "testPredictPlot[:, :] = numpy.nan\n",
        "testPredictPlot[len(train_predict)+(look_back*2)+1:len(df1)-1, :] = test_predict\n",
        "# plot baseline and predictions\n",
        "plt.plot(scaler.inverse_transform(df1))\n",
        "plt.plot(trainPredictPlot)\n",
        "plt.plot(testPredictPlot)\n",
        "plt.show()"
      ],
      "execution_count": 135,
      "outputs": [
        {
          "output_type": "display_data",
          "data": {
            "image/png": "[encoded data removed]",
            "text/plain": [
              "<Figure size 432x288 with 1 Axes>"
            ]
          },
          "metadata": {
            "needs_background": "light"
          }
        }
      ]
    },
    {
      "cell_type": "code",
      "metadata": {
        "colab": {
          "base_uri": "https://localhost:8080/"
        },
        "id": "Xe1VbWzBH-VI",
        "outputId": "9cc609d0-95c0-4d10-b88b-bb0c2c85f739"
      },
      "source": [
        "len(test_data)"
      ],
      "execution_count": 136,
      "outputs": [
        {
          "output_type": "execute_result",
          "data": {
            "text/plain": [
              "440"
            ]
          },
          "metadata": {},
          "execution_count": 136
        }
      ]
    },
    {
      "cell_type": "code",
      "metadata": {
        "colab": {
          "base_uri": "https://localhost:8080/"
        },
        "id": "RuKWS8ktH-VI",
        "outputId": "e6f637da-8c61-4c63-8fff-2fe458227e3a"
      },
      "source": [
        "x_input=test_data[340:].reshape(1,-1)\n",
        "x_input.shape\n"
      ],
      "execution_count": 137,
      "outputs": [
        {
          "output_type": "execute_result",
          "data": {
            "text/plain": [
              "(1, 100)"
            ]
          },
          "metadata": {},
          "execution_count": 137
        }
      ]
    },
    {
      "cell_type": "code",
      "metadata": {
        "id": "7FChHu7cH-VI"
      },
      "source": [
        ""
      ],
      "execution_count": 137,
      "outputs": []
    },
    {
      "cell_type": "code",
      "metadata": {
        "id": "coBwJH01H-VI"
      },
      "source": [
        ""
      ],
      "execution_count": 137,
      "outputs": []
    },
    {
      "cell_type": "code",
      "metadata": {
        "id": "N6yoUJJ_H-VI"
      },
      "source": [
        "temp_input=list(x_input)\n",
        "temp_input=temp_input[0].tolist()"
      ],
      "execution_count": 138,
      "outputs": []
    },
    {
      "cell_type": "code",
      "metadata": {
        "colab": {
          "base_uri": "https://localhost:8080/"
        },
        "id": "svcSixrCH-VJ",
        "outputId": "bbc80cf8-51f3-4e86-9b54-7587e087bade"
      },
      "source": [
        "# demonstrate prediction for next 10 days\n",
        "from numpy import array\n",
        "\n",
        "lst_output=[]\n",
        "n_steps=100\n",
        "i=0\n",
        "while(i<30):\n",
        "    \n",
        "    if(len(temp_input)>100):\n",
        "        #print(temp_input)\n",
        "        x_input=np.array(temp_input[1:])\n",
        "        print(\"{} day input {}\".format(i,x_input))\n",
        "        x_input=x_input.reshape(1,-1)\n",
        "        x_input = x_input.reshape((1, n_steps, 1))\n",
        "        #print(x_input)\n",
        "        yhat = model.predict(x_input, verbose=0)\n",
        "        print(\"{} day output {}\".format(i,yhat))\n",
        "        temp_input.extend(yhat[0].tolist())\n",
        "        temp_input=temp_input[1:]\n",
        "        #print(temp_input)\n",
        "        lst_output.extend(yhat.tolist())\n",
        "        i=i+1\n",
        "    else:\n",
        "        x_input = x_input.reshape((1, n_steps,1))\n",
        "        yhat = model.predict(x_input, verbose=0)\n",
        "        print(yhat[0])\n",
        "        temp_input.extend(yhat[0].tolist())\n",
        "        print(len(temp_input))\n",
        "        lst_output.extend(yhat.tolist())\n",
        "        i=i+1\n",
        "    \n",
        "\n",
        "print(lst_output)"
      ],
      "execution_count": 139,
      "outputs": [
        {
          "output_type": "stream",
          "name": "stdout",
          "text": [
            "[0.13637885]\n",
            "101\n",
            "1 day input [0.08919224 0.09845961 0.09658109 0.10008766 0.10449593 0.10557295\n",
            " 0.10001252 0.09552912 0.09718222 0.09773325 0.09688165 0.10149029\n",
            " 0.10046337 0.10073889 0.09843456 0.09830933 0.09708203 0.09773325\n",
            " 0.10532248 0.10584847 0.11090795 0.10857858 0.0989856  0.09983719\n",
            " 0.10356919 0.10737633 0.10715091 0.10399499 0.10194114 0.10459612\n",
            " 0.11591735 0.11268629 0.11438948 0.11724483 0.11887289 0.12485911\n",
            " 0.12090169 0.11829681 0.10552286 0.10697558 0.10339386 0.10567314\n",
            " 0.10507201 0.09823419 0.09041954 0.09164684 0.0977082  0.10016281\n",
            " 0.10038823 0.09650595 0.0878397  0.09014402 0.08681277 0.08969317\n",
            " 0.08090169 0.08583594 0.08806512 0.09129618 0.09031935 0.09009393\n",
            " 0.08683782 0.085335   0.09247339 0.09517846 0.09946149 0.10499687\n",
            " 0.10624922 0.10680025 0.10482154 0.10469631 0.1063995  0.10522229\n",
            " 0.11453976 0.10760175 0.10549781 0.10815279 0.11183469 0.1105072\n",
            " 0.1113087  0.10920476 0.1101315  0.10289292 0.10276769 0.10807765\n",
            " 0.10810269 0.11060739 0.11684408 0.12781465 0.13452724 0.13570445\n",
            " 0.13668128 0.13800877 0.12515967 0.13375078 0.14642455 0.14509706\n",
            " 0.14256731 0.1377583  0.14647464 0.13637885]\n",
            "1 day output [[0.13805437]]\n",
            "2 day input [0.09845961 0.09658109 0.10008766 0.10449593 0.10557295 0.10001252\n",
            " 0.09552912 0.09718222 0.09773325 0.09688165 0.10149029 0.10046337\n",
            " 0.10073889 0.09843456 0.09830933 0.09708203 0.09773325 0.10532248\n",
            " 0.10584847 0.11090795 0.10857858 0.0989856  0.09983719 0.10356919\n",
            " 0.10737633 0.10715091 0.10399499 0.10194114 0.10459612 0.11591735\n",
            " 0.11268629 0.11438948 0.11724483 0.11887289 0.12485911 0.12090169\n",
            " 0.11829681 0.10552286 0.10697558 0.10339386 0.10567314 0.10507201\n",
            " 0.09823419 0.09041954 0.09164684 0.0977082  0.10016281 0.10038823\n",
            " 0.09650595 0.0878397  0.09014402 0.08681277 0.08969317 0.08090169\n",
            " 0.08583594 0.08806512 0.09129618 0.09031935 0.09009393 0.08683782\n",
            " 0.085335   0.09247339 0.09517846 0.09946149 0.10499687 0.10624922\n",
            " 0.10680025 0.10482154 0.10469631 0.1063995  0.10522229 0.11453976\n",
            " 0.10760175 0.10549781 0.10815279 0.11183469 0.1105072  0.1113087\n",
            " 0.10920476 0.1101315  0.10289292 0.10276769 0.10807765 0.10810269\n",
            " 0.11060739 0.11684408 0.12781465 0.13452724 0.13570445 0.13668128\n",
            " 0.13800877 0.12515967 0.13375078 0.14642455 0.14509706 0.14256731\n",
            " 0.1377583  0.14647464 0.13637885 0.13805437]\n",
            "2 day output [[0.1392018]]\n",
            "3 day input [0.09658109 0.10008766 0.10449593 0.10557295 0.10001252 0.09552912\n",
            " 0.09718222 0.09773325 0.09688165 0.10149029 0.10046337 0.10073889\n",
            " 0.09843456 0.09830933 0.09708203 0.09773325 0.10532248 0.10584847\n",
            " 0.11090795 0.10857858 0.0989856  0.09983719 0.10356919 0.10737633\n",
            " 0.10715091 0.10399499 0.10194114 0.10459612 0.11591735 0.11268629\n",
            " 0.11438948 0.11724483 0.11887289 0.12485911 0.12090169 0.11829681\n",
            " 0.10552286 0.10697558 0.10339386 0.10567314 0.10507201 0.09823419\n",
            " 0.09041954 0.09164684 0.0977082  0.10016281 0.10038823 0.09650595\n",
            " 0.0878397  0.09014402 0.08681277 0.08969317 0.08090169 0.08583594\n",
            " 0.08806512 0.09129618 0.09031935 0.09009393 0.08683782 0.085335\n",
            " 0.09247339 0.09517846 0.09946149 0.10499687 0.10624922 0.10680025\n",
            " 0.10482154 0.10469631 0.1063995  0.10522229 0.11453976 0.10760175\n",
            " 0.10549781 0.10815279 0.11183469 0.1105072  0.1113087  0.10920476\n",
            " 0.1101315  0.10289292 0.10276769 0.10807765 0.10810269 0.11060739\n",
            " 0.11684408 0.12781465 0.13452724 0.13570445 0.13668128 0.13800877\n",
            " 0.12515967 0.13375078 0.14642455 0.14509706 0.14256731 0.1377583\n",
            " 0.14647464 0.13637885 0.13805437 0.1392018 ]\n",
            "3 day output [[0.13988256]]\n",
            "4 day input [0.10008766 0.10449593 0.10557295 0.10001252 0.09552912 0.09718222\n",
            " 0.09773325 0.09688165 0.10149029 0.10046337 0.10073889 0.09843456\n",
            " 0.09830933 0.09708203 0.09773325 0.10532248 0.10584847 0.11090795\n",
            " 0.10857858 0.0989856  0.09983719 0.10356919 0.10737633 0.10715091\n",
            " 0.10399499 0.10194114 0.10459612 0.11591735 0.11268629 0.11438948\n",
            " 0.11724483 0.11887289 0.12485911 0.12090169 0.11829681 0.10552286\n",
            " 0.10697558 0.10339386 0.10567314 0.10507201 0.09823419 0.09041954\n",
            " 0.09164684 0.0977082  0.10016281 0.10038823 0.09650595 0.0878397\n",
            " 0.09014402 0.08681277 0.08969317 0.08090169 0.08583594 0.08806512\n",
            " 0.09129618 0.09031935 0.09009393 0.08683782 0.085335   0.09247339\n",
            " 0.09517846 0.09946149 0.10499687 0.10624922 0.10680025 0.10482154\n",
            " 0.10469631 0.1063995  0.10522229 0.11453976 0.10760175 0.10549781\n",
            " 0.10815279 0.11183469 0.1105072  0.1113087  0.10920476 0.1101315\n",
            " 0.10289292 0.10276769 0.10807765 0.10810269 0.11060739 0.11684408\n",
            " 0.12781465 0.13452724 0.13570445 0.13668128 0.13800877 0.12515967\n",
            " 0.13375078 0.14642455 0.14509706 0.14256731 0.1377583  0.14647464\n",
            " 0.13637885 0.13805437 0.1392018  0.13988256]\n",
            "4 day output [[0.14020006]]\n",
            "5 day input [0.10449593 0.10557295 0.10001252 0.09552912 0.09718222 0.09773325\n",
            " 0.09688165 0.10149029 0.10046337 0.10073889 0.09843456 0.09830933\n",
            " 0.09708203 0.09773325 0.10532248 0.10584847 0.11090795 0.10857858\n",
            " 0.0989856  0.09983719 0.10356919 0.10737633 0.10715091 0.10399499\n",
            " 0.10194114 0.10459612 0.11591735 0.11268629 0.11438948 0.11724483\n",
            " 0.11887289 0.12485911 0.12090169 0.11829681 0.10552286 0.10697558\n",
            " 0.10339386 0.10567314 0.10507201 0.09823419 0.09041954 0.09164684\n",
            " 0.0977082  0.10016281 0.10038823 0.09650595 0.0878397  0.09014402\n",
            " 0.08681277 0.08969317 0.08090169 0.08583594 0.08806512 0.09129618\n",
            " 0.09031935 0.09009393 0.08683782 0.085335   0.09247339 0.09517846\n",
            " 0.09946149 0.10499687 0.10624922 0.10680025 0.10482154 0.10469631\n",
            " 0.1063995  0.10522229 0.11453976 0.10760175 0.10549781 0.10815279\n",
            " 0.11183469 0.1105072  0.1113087  0.10920476 0.1101315  0.10289292\n",
            " 0.10276769 0.10807765 0.10810269 0.11060739 0.11684408 0.12781465\n",
            " 0.13452724 0.13570445 0.13668128 0.13800877 0.12515967 0.13375078\n",
            " 0.14642455 0.14509706 0.14256731 0.1377583  0.14647464 0.13637885\n",
            " 0.13805437 0.1392018  0.13988256 0.14020006]\n",
            "5 day output [[0.14025934]]\n",
            "6 day input [0.10557295 0.10001252 0.09552912 0.09718222 0.09773325 0.09688165\n",
            " 0.10149029 0.10046337 0.10073889 0.09843456 0.09830933 0.09708203\n",
            " 0.09773325 0.10532248 0.10584847 0.11090795 0.10857858 0.0989856\n",
            " 0.09983719 0.10356919 0.10737633 0.10715091 0.10399499 0.10194114\n",
            " 0.10459612 0.11591735 0.11268629 0.11438948 0.11724483 0.11887289\n",
            " 0.12485911 0.12090169 0.11829681 0.10552286 0.10697558 0.10339386\n",
            " 0.10567314 0.10507201 0.09823419 0.09041954 0.09164684 0.0977082\n",
            " 0.10016281 0.10038823 0.09650595 0.0878397  0.09014402 0.08681277\n",
            " 0.08969317 0.08090169 0.08583594 0.08806512 0.09129618 0.09031935\n",
            " 0.09009393 0.08683782 0.085335   0.09247339 0.09517846 0.09946149\n",
            " 0.10499687 0.10624922 0.10680025 0.10482154 0.10469631 0.1063995\n",
            " 0.10522229 0.11453976 0.10760175 0.10549781 0.10815279 0.11183469\n",
            " 0.1105072  0.1113087  0.10920476 0.1101315  0.10289292 0.10276769\n",
            " 0.10807765 0.10810269 0.11060739 0.11684408 0.12781465 0.13452724\n",
            " 0.13570445 0.13668128 0.13800877 0.12515967 0.13375078 0.14642455\n",
            " 0.14509706 0.14256731 0.1377583  0.14647464 0.13637885 0.13805437\n",
            " 0.1392018  0.13988256 0.14020006 0.14025934]\n",
            "6 day output [[0.14014818]]\n",
            "7 day input [0.10001252 0.09552912 0.09718222 0.09773325 0.09688165 0.10149029\n",
            " 0.10046337 0.10073889 0.09843456 0.09830933 0.09708203 0.09773325\n",
            " 0.10532248 0.10584847 0.11090795 0.10857858 0.0989856  0.09983719\n",
            " 0.10356919 0.10737633 0.10715091 0.10399499 0.10194114 0.10459612\n",
            " 0.11591735 0.11268629 0.11438948 0.11724483 0.11887289 0.12485911\n",
            " 0.12090169 0.11829681 0.10552286 0.10697558 0.10339386 0.10567314\n",
            " 0.10507201 0.09823419 0.09041954 0.09164684 0.0977082  0.10016281\n",
            " 0.10038823 0.09650595 0.0878397  0.09014402 0.08681277 0.08969317\n",
            " 0.08090169 0.08583594 0.08806512 0.09129618 0.09031935 0.09009393\n",
            " 0.08683782 0.085335   0.09247339 0.09517846 0.09946149 0.10499687\n",
            " 0.10624922 0.10680025 0.10482154 0.10469631 0.1063995  0.10522229\n",
            " 0.11453976 0.10760175 0.10549781 0.10815279 0.11183469 0.1105072\n",
            " 0.1113087  0.10920476 0.1101315  0.10289292 0.10276769 0.10807765\n",
            " 0.10810269 0.11060739 0.11684408 0.12781465 0.13452724 0.13570445\n",
            " 0.13668128 0.13800877 0.12515967 0.13375078 0.14642455 0.14509706\n",
            " 0.14256731 0.1377583  0.14647464 0.13637885 0.13805437 0.1392018\n",
            " 0.13988256 0.14020006 0.14025934 0.14014818]\n",
            "7 day output [[0.13993149]]\n",
            "8 day input [0.09552912 0.09718222 0.09773325 0.09688165 0.10149029 0.10046337\n",
            " 0.10073889 0.09843456 0.09830933 0.09708203 0.09773325 0.10532248\n",
            " 0.10584847 0.11090795 0.10857858 0.0989856  0.09983719 0.10356919\n",
            " 0.10737633 0.10715091 0.10399499 0.10194114 0.10459612 0.11591735\n",
            " 0.11268629 0.11438948 0.11724483 0.11887289 0.12485911 0.12090169\n",
            " 0.11829681 0.10552286 0.10697558 0.10339386 0.10567314 0.10507201\n",
            " 0.09823419 0.09041954 0.09164684 0.0977082  0.10016281 0.10038823\n",
            " 0.09650595 0.0878397  0.09014402 0.08681277 0.08969317 0.08090169\n",
            " 0.08583594 0.08806512 0.09129618 0.09031935 0.09009393 0.08683782\n",
            " 0.085335   0.09247339 0.09517846 0.09946149 0.10499687 0.10624922\n",
            " 0.10680025 0.10482154 0.10469631 0.1063995  0.10522229 0.11453976\n",
            " 0.10760175 0.10549781 0.10815279 0.11183469 0.1105072  0.1113087\n",
            " 0.10920476 0.1101315  0.10289292 0.10276769 0.10807765 0.10810269\n",
            " 0.11060739 0.11684408 0.12781465 0.13452724 0.13570445 0.13668128\n",
            " 0.13800877 0.12515967 0.13375078 0.14642455 0.14509706 0.14256731\n",
            " 0.1377583  0.14647464 0.13637885 0.13805437 0.1392018  0.13988256\n",
            " 0.14020006 0.14025934 0.14014818 0.13993149]\n",
            "8 day output [[0.13965286]]\n",
            "9 day input [0.09718222 0.09773325 0.09688165 0.10149029 0.10046337 0.10073889\n",
            " 0.09843456 0.09830933 0.09708203 0.09773325 0.10532248 0.10584847\n",
            " 0.11090795 0.10857858 0.0989856  0.09983719 0.10356919 0.10737633\n",
            " 0.10715091 0.10399499 0.10194114 0.10459612 0.11591735 0.11268629\n",
            " 0.11438948 0.11724483 0.11887289 0.12485911 0.12090169 0.11829681\n",
            " 0.10552286 0.10697558 0.10339386 0.10567314 0.10507201 0.09823419\n",
            " 0.09041954 0.09164684 0.0977082  0.10016281 0.10038823 0.09650595\n",
            " 0.0878397  0.09014402 0.08681277 0.08969317 0.08090169 0.08583594\n",
            " 0.08806512 0.09129618 0.09031935 0.09009393 0.08683782 0.085335\n",
            " 0.09247339 0.09517846 0.09946149 0.10499687 0.10624922 0.10680025\n",
            " 0.10482154 0.10469631 0.1063995  0.10522229 0.11453976 0.10760175\n",
            " 0.10549781 0.10815279 0.11183469 0.1105072  0.1113087  0.10920476\n",
            " 0.1101315  0.10289292 0.10276769 0.10807765 0.10810269 0.11060739\n",
            " 0.11684408 0.12781465 0.13452724 0.13570445 0.13668128 0.13800877\n",
            " 0.12515967 0.13375078 0.14642455 0.14509706 0.14256731 0.1377583\n",
            " 0.14647464 0.13637885 0.13805437 0.1392018  0.13988256 0.14020006\n",
            " 0.14025934 0.14014818 0.13993149 0.13965286]\n",
            "9 day output [[0.13933906]]\n",
            "10 day input [0.09773325 0.09688165 0.10149029 0.10046337 0.10073889 0.09843456\n",
            " 0.09830933 0.09708203 0.09773325 0.10532248 0.10584847 0.11090795\n",
            " 0.10857858 0.0989856  0.09983719 0.10356919 0.10737633 0.10715091\n",
            " 0.10399499 0.10194114 0.10459612 0.11591735 0.11268629 0.11438948\n",
            " 0.11724483 0.11887289 0.12485911 0.12090169 0.11829681 0.10552286\n",
            " 0.10697558 0.10339386 0.10567314 0.10507201 0.09823419 0.09041954\n",
            " 0.09164684 0.0977082  0.10016281 0.10038823 0.09650595 0.0878397\n",
            " 0.09014402 0.08681277 0.08969317 0.08090169 0.08583594 0.08806512\n",
            " 0.09129618 0.09031935 0.09009393 0.08683782 0.085335   0.09247339\n",
            " 0.09517846 0.09946149 0.10499687 0.10624922 0.10680025 0.10482154\n",
            " 0.10469631 0.1063995  0.10522229 0.11453976 0.10760175 0.10549781\n",
            " 0.10815279 0.11183469 0.1105072  0.1113087  0.10920476 0.1101315\n",
            " 0.10289292 0.10276769 0.10807765 0.10810269 0.11060739 0.11684408\n",
            " 0.12781465 0.13452724 0.13570445 0.13668128 0.13800877 0.12515967\n",
            " 0.13375078 0.14642455 0.14509706 0.14256731 0.1377583  0.14647464\n",
            " 0.13637885 0.13805437 0.1392018  0.13988256 0.14020006 0.14025934\n",
            " 0.14014818 0.13993149 0.13965286 0.13933906]\n",
            "10 day output [[0.13900502]]\n",
            "11 day input [0.09688165 0.10149029 0.10046337 0.10073889 0.09843456 0.09830933\n",
            " 0.09708203 0.09773325 0.10532248 0.10584847 0.11090795 0.10857858\n",
            " 0.0989856  0.09983719 0.10356919 0.10737633 0.10715091 0.10399499\n",
            " 0.10194114 0.10459612 0.11591735 0.11268629 0.11438948 0.11724483\n",
            " 0.11887289 0.12485911 0.12090169 0.11829681 0.10552286 0.10697558\n",
            " 0.10339386 0.10567314 0.10507201 0.09823419 0.09041954 0.09164684\n",
            " 0.0977082  0.10016281 0.10038823 0.09650595 0.0878397  0.09014402\n",
            " 0.08681277 0.08969317 0.08090169 0.08583594 0.08806512 0.09129618\n",
            " 0.09031935 0.09009393 0.08683782 0.085335   0.09247339 0.09517846\n",
            " 0.09946149 0.10499687 0.10624922 0.10680025 0.10482154 0.10469631\n",
            " 0.1063995  0.10522229 0.11453976 0.10760175 0.10549781 0.10815279\n",
            " 0.11183469 0.1105072  0.1113087  0.10920476 0.1101315  0.10289292\n",
            " 0.10276769 0.10807765 0.10810269 0.11060739 0.11684408 0.12781465\n",
            " 0.13452724 0.13570445 0.13668128 0.13800877 0.12515967 0.13375078\n",
            " 0.14642455 0.14509706 0.14256731 0.1377583  0.14647464 0.13637885\n",
            " 0.13805437 0.1392018  0.13988256 0.14020006 0.14025934 0.14014818\n",
            " 0.13993149 0.13965286 0.13933906 0.13900502]\n",
            "11 day output [[0.13865833]]\n",
            "12 day input [0.10149029 0.10046337 0.10073889 0.09843456 0.09830933 0.09708203\n",
            " 0.09773325 0.10532248 0.10584847 0.11090795 0.10857858 0.0989856\n",
            " 0.09983719 0.10356919 0.10737633 0.10715091 0.10399499 0.10194114\n",
            " 0.10459612 0.11591735 0.11268629 0.11438948 0.11724483 0.11887289\n",
            " 0.12485911 0.12090169 0.11829681 0.10552286 0.10697558 0.10339386\n",
            " 0.10567314 0.10507201 0.09823419 0.09041954 0.09164684 0.0977082\n",
            " 0.10016281 0.10038823 0.09650595 0.0878397  0.09014402 0.08681277\n",
            " 0.08969317 0.08090169 0.08583594 0.08806512 0.09129618 0.09031935\n",
            " 0.09009393 0.08683782 0.085335   0.09247339 0.09517846 0.09946149\n",
            " 0.10499687 0.10624922 0.10680025 0.10482154 0.10469631 0.1063995\n",
            " 0.10522229 0.11453976 0.10760175 0.10549781 0.10815279 0.11183469\n",
            " 0.1105072  0.1113087  0.10920476 0.1101315  0.10289292 0.10276769\n",
            " 0.10807765 0.10810269 0.11060739 0.11684408 0.12781465 0.13452724\n",
            " 0.13570445 0.13668128 0.13800877 0.12515967 0.13375078 0.14642455\n",
            " 0.14509706 0.14256731 0.1377583  0.14647464 0.13637885 0.13805437\n",
            " 0.1392018  0.13988256 0.14020006 0.14025934 0.14014818 0.13993149\n",
            " 0.13965286 0.13933906 0.13900502 0.13865833]\n",
            "12 day output [[0.13830236]]\n",
            "13 day input [0.10046337 0.10073889 0.09843456 0.09830933 0.09708203 0.09773325\n",
            " 0.10532248 0.10584847 0.11090795 0.10857858 0.0989856  0.09983719\n",
            " 0.10356919 0.10737633 0.10715091 0.10399499 0.10194114 0.10459612\n",
            " 0.11591735 0.11268629 0.11438948 0.11724483 0.11887289 0.12485911\n",
            " 0.12090169 0.11829681 0.10552286 0.10697558 0.10339386 0.10567314\n",
            " 0.10507201 0.09823419 0.09041954 0.09164684 0.0977082  0.10016281\n",
            " 0.10038823 0.09650595 0.0878397  0.09014402 0.08681277 0.08969317\n",
            " 0.08090169 0.08583594 0.08806512 0.09129618 0.09031935 0.09009393\n",
            " 0.08683782 0.085335   0.09247339 0.09517846 0.09946149 0.10499687\n",
            " 0.10624922 0.10680025 0.10482154 0.10469631 0.1063995  0.10522229\n",
            " 0.11453976 0.10760175 0.10549781 0.10815279 0.11183469 0.1105072\n",
            " 0.1113087  0.10920476 0.1101315  0.10289292 0.10276769 0.10807765\n",
            " 0.10810269 0.11060739 0.11684408 0.12781465 0.13452724 0.13570445\n",
            " 0.13668128 0.13800877 0.12515967 0.13375078 0.14642455 0.14509706\n",
            " 0.14256731 0.1377583  0.14647464 0.13637885 0.13805437 0.1392018\n",
            " 0.13988256 0.14020006 0.14025934 0.14014818 0.13993149 0.13965286\n",
            " 0.13933906 0.13900502 0.13865833 0.13830236]\n",
            "13 day output [[0.13793854]]\n",
            "14 day input [0.10073889 0.09843456 0.09830933 0.09708203 0.09773325 0.10532248\n",
            " 0.10584847 0.11090795 0.10857858 0.0989856  0.09983719 0.10356919\n",
            " 0.10737633 0.10715091 0.10399499 0.10194114 0.10459612 0.11591735\n",
            " 0.11268629 0.11438948 0.11724483 0.11887289 0.12485911 0.12090169\n",
            " 0.11829681 0.10552286 0.10697558 0.10339386 0.10567314 0.10507201\n",
            " 0.09823419 0.09041954 0.09164684 0.0977082  0.10016281 0.10038823\n",
            " 0.09650595 0.0878397  0.09014402 0.08681277 0.08969317 0.08090169\n",
            " 0.08583594 0.08806512 0.09129618 0.09031935 0.09009393 0.08683782\n",
            " 0.085335   0.09247339 0.09517846 0.09946149 0.10499687 0.10624922\n",
            " 0.10680025 0.10482154 0.10469631 0.1063995  0.10522229 0.11453976\n",
            " 0.10760175 0.10549781 0.10815279 0.11183469 0.1105072  0.1113087\n",
            " 0.10920476 0.1101315  0.10289292 0.10276769 0.10807765 0.10810269\n",
            " 0.11060739 0.11684408 0.12781465 0.13452724 0.13570445 0.13668128\n",
            " 0.13800877 0.12515967 0.13375078 0.14642455 0.14509706 0.14256731\n",
            " 0.1377583  0.14647464 0.13637885 0.13805437 0.1392018  0.13988256\n",
            " 0.14020006 0.14025934 0.14014818 0.13993149 0.13965286 0.13933906\n",
            " 0.13900502 0.13865833 0.13830236 0.13793854]\n",
            "14 day output [[0.13756756]]\n",
            "15 day input [0.09843456 0.09830933 0.09708203 0.09773325 0.10532248 0.10584847\n",
            " 0.11090795 0.10857858 0.0989856  0.09983719 0.10356919 0.10737633\n",
            " 0.10715091 0.10399499 0.10194114 0.10459612 0.11591735 0.11268629\n",
            " 0.11438948 0.11724483 0.11887289 0.12485911 0.12090169 0.11829681\n",
            " 0.10552286 0.10697558 0.10339386 0.10567314 0.10507201 0.09823419\n",
            " 0.09041954 0.09164684 0.0977082  0.10016281 0.10038823 0.09650595\n",
            " 0.0878397  0.09014402 0.08681277 0.08969317 0.08090169 0.08583594\n",
            " 0.08806512 0.09129618 0.09031935 0.09009393 0.08683782 0.085335\n",
            " 0.09247339 0.09517846 0.09946149 0.10499687 0.10624922 0.10680025\n",
            " 0.10482154 0.10469631 0.1063995  0.10522229 0.11453976 0.10760175\n",
            " 0.10549781 0.10815279 0.11183469 0.1105072  0.1113087  0.10920476\n",
            " 0.1101315  0.10289292 0.10276769 0.10807765 0.10810269 0.11060739\n",
            " 0.11684408 0.12781465 0.13452724 0.13570445 0.13668128 0.13800877\n",
            " 0.12515967 0.13375078 0.14642455 0.14509706 0.14256731 0.1377583\n",
            " 0.14647464 0.13637885 0.13805437 0.1392018  0.13988256 0.14020006\n",
            " 0.14025934 0.14014818 0.13993149 0.13965286 0.13933906 0.13900502\n",
            " 0.13865833 0.13830236 0.13793854 0.13756756]\n",
            "15 day output [[0.13719065]]\n",
            "16 day input [0.09830933 0.09708203 0.09773325 0.10532248 0.10584847 0.11090795\n",
            " 0.10857858 0.0989856  0.09983719 0.10356919 0.10737633 0.10715091\n",
            " 0.10399499 0.10194114 0.10459612 0.11591735 0.11268629 0.11438948\n",
            " 0.11724483 0.11887289 0.12485911 0.12090169 0.11829681 0.10552286\n",
            " 0.10697558 0.10339386 0.10567314 0.10507201 0.09823419 0.09041954\n",
            " 0.09164684 0.0977082  0.10016281 0.10038823 0.09650595 0.0878397\n",
            " 0.09014402 0.08681277 0.08969317 0.08090169 0.08583594 0.08806512\n",
            " 0.09129618 0.09031935 0.09009393 0.08683782 0.085335   0.09247339\n",
            " 0.09517846 0.09946149 0.10499687 0.10624922 0.10680025 0.10482154\n",
            " 0.10469631 0.1063995  0.10522229 0.11453976 0.10760175 0.10549781\n",
            " 0.10815279 0.11183469 0.1105072  0.1113087  0.10920476 0.1101315\n",
            " 0.10289292 0.10276769 0.10807765 0.10810269 0.11060739 0.11684408\n",
            " 0.12781465 0.13452724 0.13570445 0.13668128 0.13800877 0.12515967\n",
            " 0.13375078 0.14642455 0.14509706 0.14256731 0.1377583  0.14647464\n",
            " 0.13637885 0.13805437 0.1392018  0.13988256 0.14020006 0.14025934\n",
            " 0.14014818 0.13993149 0.13965286 0.13933906 0.13900502 0.13865833\n",
            " 0.13830236 0.13793854 0.13756756 0.13719065]\n",
            "16 day output [[0.13680959]]\n",
            "17 day input [0.09708203 0.09773325 0.10532248 0.10584847 0.11090795 0.10857858\n",
            " 0.0989856  0.09983719 0.10356919 0.10737633 0.10715091 0.10399499\n",
            " 0.10194114 0.10459612 0.11591735 0.11268629 0.11438948 0.11724483\n",
            " 0.11887289 0.12485911 0.12090169 0.11829681 0.10552286 0.10697558\n",
            " 0.10339386 0.10567314 0.10507201 0.09823419 0.09041954 0.09164684\n",
            " 0.0977082  0.10016281 0.10038823 0.09650595 0.0878397  0.09014402\n",
            " 0.08681277 0.08969317 0.08090169 0.08583594 0.08806512 0.09129618\n",
            " 0.09031935 0.09009393 0.08683782 0.085335   0.09247339 0.09517846\n",
            " 0.09946149 0.10499687 0.10624922 0.10680025 0.10482154 0.10469631\n",
            " 0.1063995  0.10522229 0.11453976 0.10760175 0.10549781 0.10815279\n",
            " 0.11183469 0.1105072  0.1113087  0.10920476 0.1101315  0.10289292\n",
            " 0.10276769 0.10807765 0.10810269 0.11060739 0.11684408 0.12781465\n",
            " 0.13452724 0.13570445 0.13668128 0.13800877 0.12515967 0.13375078\n",
            " 0.14642455 0.14509706 0.14256731 0.1377583  0.14647464 0.13637885\n",
            " 0.13805437 0.1392018  0.13988256 0.14020006 0.14025934 0.14014818\n",
            " 0.13993149 0.13965286 0.13933906 0.13900502 0.13865833 0.13830236\n",
            " 0.13793854 0.13756756 0.13719065 0.13680959]\n",
            "17 day output [[0.13642628]]\n",
            "18 day input [0.09773325 0.10532248 0.10584847 0.11090795 0.10857858 0.0989856\n",
            " 0.09983719 0.10356919 0.10737633 0.10715091 0.10399499 0.10194114\n",
            " 0.10459612 0.11591735 0.11268629 0.11438948 0.11724483 0.11887289\n",
            " 0.12485911 0.12090169 0.11829681 0.10552286 0.10697558 0.10339386\n",
            " 0.10567314 0.10507201 0.09823419 0.09041954 0.09164684 0.0977082\n",
            " 0.10016281 0.10038823 0.09650595 0.0878397  0.09014402 0.08681277\n",
            " 0.08969317 0.08090169 0.08583594 0.08806512 0.09129618 0.09031935\n",
            " 0.09009393 0.08683782 0.085335   0.09247339 0.09517846 0.09946149\n",
            " 0.10499687 0.10624922 0.10680025 0.10482154 0.10469631 0.1063995\n",
            " 0.10522229 0.11453976 0.10760175 0.10549781 0.10815279 0.11183469\n",
            " 0.1105072  0.1113087  0.10920476 0.1101315  0.10289292 0.10276769\n",
            " 0.10807765 0.10810269 0.11060739 0.11684408 0.12781465 0.13452724\n",
            " 0.13570445 0.13668128 0.13800877 0.12515967 0.13375078 0.14642455\n",
            " 0.14509706 0.14256731 0.1377583  0.14647464 0.13637885 0.13805437\n",
            " 0.1392018  0.13988256 0.14020006 0.14025934 0.14014818 0.13993149\n",
            " 0.13965286 0.13933906 0.13900502 0.13865833 0.13830236 0.13793854\n",
            " 0.13756756 0.13719065 0.13680959 0.13642628]\n",
            "18 day output [[0.13604257]]\n",
            "19 day input [0.10532248 0.10584847 0.11090795 0.10857858 0.0989856  0.09983719\n",
            " 0.10356919 0.10737633 0.10715091 0.10399499 0.10194114 0.10459612\n",
            " 0.11591735 0.11268629 0.11438948 0.11724483 0.11887289 0.12485911\n",
            " 0.12090169 0.11829681 0.10552286 0.10697558 0.10339386 0.10567314\n",
            " 0.10507201 0.09823419 0.09041954 0.09164684 0.0977082  0.10016281\n",
            " 0.10038823 0.09650595 0.0878397  0.09014402 0.08681277 0.08969317\n",
            " 0.08090169 0.08583594 0.08806512 0.09129618 0.09031935 0.09009393\n",
            " 0.08683782 0.085335   0.09247339 0.09517846 0.09946149 0.10499687\n",
            " 0.10624922 0.10680025 0.10482154 0.10469631 0.1063995  0.10522229\n",
            " 0.11453976 0.10760175 0.10549781 0.10815279 0.11183469 0.1105072\n",
            " 0.1113087  0.10920476 0.1101315  0.10289292 0.10276769 0.10807765\n",
            " 0.10810269 0.11060739 0.11684408 0.12781465 0.13452724 0.13570445\n",
            " 0.13668128 0.13800877 0.12515967 0.13375078 0.14642455 0.14509706\n",
            " 0.14256731 0.1377583  0.14647464 0.13637885 0.13805437 0.1392018\n",
            " 0.13988256 0.14020006 0.14025934 0.14014818 0.13993149 0.13965286\n",
            " 0.13933906 0.13900502 0.13865833 0.13830236 0.13793854 0.13756756\n",
            " 0.13719065 0.13680959 0.13642628 0.13604257]\n",
            "19 day output [[0.13565996]]\n",
            "20 day input [0.10584847 0.11090795 0.10857858 0.0989856  0.09983719 0.10356919\n",
            " 0.10737633 0.10715091 0.10399499 0.10194114 0.10459612 0.11591735\n",
            " 0.11268629 0.11438948 0.11724483 0.11887289 0.12485911 0.12090169\n",
            " 0.11829681 0.10552286 0.10697558 0.10339386 0.10567314 0.10507201\n",
            " 0.09823419 0.09041954 0.09164684 0.0977082  0.10016281 0.10038823\n",
            " 0.09650595 0.0878397  0.09014402 0.08681277 0.08969317 0.08090169\n",
            " 0.08583594 0.08806512 0.09129618 0.09031935 0.09009393 0.08683782\n",
            " 0.085335   0.09247339 0.09517846 0.09946149 0.10499687 0.10624922\n",
            " 0.10680025 0.10482154 0.10469631 0.1063995  0.10522229 0.11453976\n",
            " 0.10760175 0.10549781 0.10815279 0.11183469 0.1105072  0.1113087\n",
            " 0.10920476 0.1101315  0.10289292 0.10276769 0.10807765 0.10810269\n",
            " 0.11060739 0.11684408 0.12781465 0.13452724 0.13570445 0.13668128\n",
            " 0.13800877 0.12515967 0.13375078 0.14642455 0.14509706 0.14256731\n",
            " 0.1377583  0.14647464 0.13637885 0.13805437 0.1392018  0.13988256\n",
            " 0.14020006 0.14025934 0.14014818 0.13993149 0.13965286 0.13933906\n",
            " 0.13900502 0.13865833 0.13830236 0.13793854 0.13756756 0.13719065\n",
            " 0.13680959 0.13642628 0.13604257 0.13565996]\n",
            "20 day output [[0.1352797]]\n",
            "21 day input [0.11090795 0.10857858 0.0989856  0.09983719 0.10356919 0.10737633\n",
            " 0.10715091 0.10399499 0.10194114 0.10459612 0.11591735 0.11268629\n",
            " 0.11438948 0.11724483 0.11887289 0.12485911 0.12090169 0.11829681\n",
            " 0.10552286 0.10697558 0.10339386 0.10567314 0.10507201 0.09823419\n",
            " 0.09041954 0.09164684 0.0977082  0.10016281 0.10038823 0.09650595\n",
            " 0.0878397  0.09014402 0.08681277 0.08969317 0.08090169 0.08583594\n",
            " 0.08806512 0.09129618 0.09031935 0.09009393 0.08683782 0.085335\n",
            " 0.09247339 0.09517846 0.09946149 0.10499687 0.10624922 0.10680025\n",
            " 0.10482154 0.10469631 0.1063995  0.10522229 0.11453976 0.10760175\n",
            " 0.10549781 0.10815279 0.11183469 0.1105072  0.1113087  0.10920476\n",
            " 0.1101315  0.10289292 0.10276769 0.10807765 0.10810269 0.11060739\n",
            " 0.11684408 0.12781465 0.13452724 0.13570445 0.13668128 0.13800877\n",
            " 0.12515967 0.13375078 0.14642455 0.14509706 0.14256731 0.1377583\n",
            " 0.14647464 0.13637885 0.13805437 0.1392018  0.13988256 0.14020006\n",
            " 0.14025934 0.14014818 0.13993149 0.13965286 0.13933906 0.13900502\n",
            " 0.13865833 0.13830236 0.13793854 0.13756756 0.13719065 0.13680959\n",
            " 0.13642628 0.13604257 0.13565996 0.1352797 ]\n",
            "21 day output [[0.13490269]]\n",
            "22 day input [0.10857858 0.0989856  0.09983719 0.10356919 0.10737633 0.10715091\n",
            " 0.10399499 0.10194114 0.10459612 0.11591735 0.11268629 0.11438948\n",
            " 0.11724483 0.11887289 0.12485911 0.12090169 0.11829681 0.10552286\n",
            " 0.10697558 0.10339386 0.10567314 0.10507201 0.09823419 0.09041954\n",
            " 0.09164684 0.0977082  0.10016281 0.10038823 0.09650595 0.0878397\n",
            " 0.09014402 0.08681277 0.08969317 0.08090169 0.08583594 0.08806512\n",
            " 0.09129618 0.09031935 0.09009393 0.08683782 0.085335   0.09247339\n",
            " 0.09517846 0.09946149 0.10499687 0.10624922 0.10680025 0.10482154\n",
            " 0.10469631 0.1063995  0.10522229 0.11453976 0.10760175 0.10549781\n",
            " 0.10815279 0.11183469 0.1105072  0.1113087  0.10920476 0.1101315\n",
            " 0.10289292 0.10276769 0.10807765 0.10810269 0.11060739 0.11684408\n",
            " 0.12781465 0.13452724 0.13570445 0.13668128 0.13800877 0.12515967\n",
            " 0.13375078 0.14642455 0.14509706 0.14256731 0.1377583  0.14647464\n",
            " 0.13637885 0.13805437 0.1392018  0.13988256 0.14020006 0.14025934\n",
            " 0.14014818 0.13993149 0.13965286 0.13933906 0.13900502 0.13865833\n",
            " 0.13830236 0.13793854 0.13756756 0.13719065 0.13680959 0.13642628\n",
            " 0.13604257 0.13565996 0.1352797  0.13490269]\n",
            "22 day output [[0.1345297]]\n",
            "23 day input [0.0989856  0.09983719 0.10356919 0.10737633 0.10715091 0.10399499\n",
            " 0.10194114 0.10459612 0.11591735 0.11268629 0.11438948 0.11724483\n",
            " 0.11887289 0.12485911 0.12090169 0.11829681 0.10552286 0.10697558\n",
            " 0.10339386 0.10567314 0.10507201 0.09823419 0.09041954 0.09164684\n",
            " 0.0977082  0.10016281 0.10038823 0.09650595 0.0878397  0.09014402\n",
            " 0.08681277 0.08969317 0.08090169 0.08583594 0.08806512 0.09129618\n",
            " 0.09031935 0.09009393 0.08683782 0.085335   0.09247339 0.09517846\n",
            " 0.09946149 0.10499687 0.10624922 0.10680025 0.10482154 0.10469631\n",
            " 0.1063995  0.10522229 0.11453976 0.10760175 0.10549781 0.10815279\n",
            " 0.11183469 0.1105072  0.1113087  0.10920476 0.1101315  0.10289292\n",
            " 0.10276769 0.10807765 0.10810269 0.11060739 0.11684408 0.12781465\n",
            " 0.13452724 0.13570445 0.13668128 0.13800877 0.12515967 0.13375078\n",
            " 0.14642455 0.14509706 0.14256731 0.1377583  0.14647464 0.13637885\n",
            " 0.13805437 0.1392018  0.13988256 0.14020006 0.14025934 0.14014818\n",
            " 0.13993149 0.13965286 0.13933906 0.13900502 0.13865833 0.13830236\n",
            " 0.13793854 0.13756756 0.13719065 0.13680959 0.13642628 0.13604257\n",
            " 0.13565996 0.1352797  0.13490269 0.13452969]\n",
            "23 day output [[0.13416198]]\n",
            "24 day input [0.09983719 0.10356919 0.10737633 0.10715091 0.10399499 0.10194114\n",
            " 0.10459612 0.11591735 0.11268629 0.11438948 0.11724483 0.11887289\n",
            " 0.12485911 0.12090169 0.11829681 0.10552286 0.10697558 0.10339386\n",
            " 0.10567314 0.10507201 0.09823419 0.09041954 0.09164684 0.0977082\n",
            " 0.10016281 0.10038823 0.09650595 0.0878397  0.09014402 0.08681277\n",
            " 0.08969317 0.08090169 0.08583594 0.08806512 0.09129618 0.09031935\n",
            " 0.09009393 0.08683782 0.085335   0.09247339 0.09517846 0.09946149\n",
            " 0.10499687 0.10624922 0.10680025 0.10482154 0.10469631 0.1063995\n",
            " 0.10522229 0.11453976 0.10760175 0.10549781 0.10815279 0.11183469\n",
            " 0.1105072  0.1113087  0.10920476 0.1101315  0.10289292 0.10276769\n",
            " 0.10807765 0.10810269 0.11060739 0.11684408 0.12781465 0.13452724\n",
            " 0.13570445 0.13668128 0.13800877 0.12515967 0.13375078 0.14642455\n",
            " 0.14509706 0.14256731 0.1377583  0.14647464 0.13637885 0.13805437\n",
            " 0.1392018  0.13988256 0.14020006 0.14025934 0.14014818 0.13993149\n",
            " 0.13965286 0.13933906 0.13900502 0.13865833 0.13830236 0.13793854\n",
            " 0.13756756 0.13719065 0.13680959 0.13642628 0.13604257 0.13565996\n",
            " 0.1352797  0.13490269 0.13452969 0.13416198]\n",
            "24 day output [[0.1338007]]\n",
            "25 day input [0.10356919 0.10737633 0.10715091 0.10399499 0.10194114 0.10459612\n",
            " 0.11591735 0.11268629 0.11438948 0.11724483 0.11887289 0.12485911\n",
            " 0.12090169 0.11829681 0.10552286 0.10697558 0.10339386 0.10567314\n",
            " 0.10507201 0.09823419 0.09041954 0.09164684 0.0977082  0.10016281\n",
            " 0.10038823 0.09650595 0.0878397  0.09014402 0.08681277 0.08969317\n",
            " 0.08090169 0.08583594 0.08806512 0.09129618 0.09031935 0.09009393\n",
            " 0.08683782 0.085335   0.09247339 0.09517846 0.09946149 0.10499687\n",
            " 0.10624922 0.10680025 0.10482154 0.10469631 0.1063995  0.10522229\n",
            " 0.11453976 0.10760175 0.10549781 0.10815279 0.11183469 0.1105072\n",
            " 0.1113087  0.10920476 0.1101315  0.10289292 0.10276769 0.10807765\n",
            " 0.10810269 0.11060739 0.11684408 0.12781465 0.13452724 0.13570445\n",
            " 0.13668128 0.13800877 0.12515967 0.13375078 0.14642455 0.14509706\n",
            " 0.14256731 0.1377583  0.14647464 0.13637885 0.13805437 0.1392018\n",
            " 0.13988256 0.14020006 0.14025934 0.14014818 0.13993149 0.13965286\n",
            " 0.13933906 0.13900502 0.13865833 0.13830236 0.13793854 0.13756756\n",
            " 0.13719065 0.13680959 0.13642628 0.13604257 0.13565996 0.1352797\n",
            " 0.13490269 0.13452969 0.13416198 0.1338007 ]\n",
            "25 day output [[0.13344675]]\n",
            "26 day input [0.10737633 0.10715091 0.10399499 0.10194114 0.10459612 0.11591735\n",
            " 0.11268629 0.11438948 0.11724483 0.11887289 0.12485911 0.12090169\n",
            " 0.11829681 0.10552286 0.10697558 0.10339386 0.10567314 0.10507201\n",
            " 0.09823419 0.09041954 0.09164684 0.0977082  0.10016281 0.10038823\n",
            " 0.09650595 0.0878397  0.09014402 0.08681277 0.08969317 0.08090169\n",
            " 0.08583594 0.08806512 0.09129618 0.09031935 0.09009393 0.08683782\n",
            " 0.085335   0.09247339 0.09517846 0.09946149 0.10499687 0.10624922\n",
            " 0.10680025 0.10482154 0.10469631 0.1063995  0.10522229 0.11453976\n",
            " 0.10760175 0.10549781 0.10815279 0.11183469 0.1105072  0.1113087\n",
            " 0.10920476 0.1101315  0.10289292 0.10276769 0.10807765 0.10810269\n",
            " 0.11060739 0.11684408 0.12781465 0.13452724 0.13570445 0.13668128\n",
            " 0.13800877 0.12515967 0.13375078 0.14642455 0.14509706 0.14256731\n",
            " 0.1377583  0.14647464 0.13637885 0.13805437 0.1392018  0.13988256\n",
            " 0.14020006 0.14025934 0.14014818 0.13993149 0.13965286 0.13933906\n",
            " 0.13900502 0.13865833 0.13830236 0.13793854 0.13756756 0.13719065\n",
            " 0.13680959 0.13642628 0.13604257 0.13565996 0.1352797  0.13490269\n",
            " 0.13452969 0.13416198 0.1338007  0.13344675]\n",
            "26 day output [[0.1331007]]\n",
            "27 day input [0.10715091 0.10399499 0.10194114 0.10459612 0.11591735 0.11268629\n",
            " 0.11438948 0.11724483 0.11887289 0.12485911 0.12090169 0.11829681\n",
            " 0.10552286 0.10697558 0.10339386 0.10567314 0.10507201 0.09823419\n",
            " 0.09041954 0.09164684 0.0977082  0.10016281 0.10038823 0.09650595\n",
            " 0.0878397  0.09014402 0.08681277 0.08969317 0.08090169 0.08583594\n",
            " 0.08806512 0.09129618 0.09031935 0.09009393 0.08683782 0.085335\n",
            " 0.09247339 0.09517846 0.09946149 0.10499687 0.10624922 0.10680025\n",
            " 0.10482154 0.10469631 0.1063995  0.10522229 0.11453976 0.10760175\n",
            " 0.10549781 0.10815279 0.11183469 0.1105072  0.1113087  0.10920476\n",
            " 0.1101315  0.10289292 0.10276769 0.10807765 0.10810269 0.11060739\n",
            " 0.11684408 0.12781465 0.13452724 0.13570445 0.13668128 0.13800877\n",
            " 0.12515967 0.13375078 0.14642455 0.14509706 0.14256731 0.1377583\n",
            " 0.14647464 0.13637885 0.13805437 0.1392018  0.13988256 0.14020006\n",
            " 0.14025934 0.14014818 0.13993149 0.13965286 0.13933906 0.13900502\n",
            " 0.13865833 0.13830236 0.13793854 0.13756756 0.13719065 0.13680959\n",
            " 0.13642628 0.13604257 0.13565996 0.1352797  0.13490269 0.13452969\n",
            " 0.13416198 0.1338007  0.13344675 0.1331007 ]\n",
            "27 day output [[0.13276279]]\n",
            "28 day input [0.10399499 0.10194114 0.10459612 0.11591735 0.11268629 0.11438948\n",
            " 0.11724483 0.11887289 0.12485911 0.12090169 0.11829681 0.10552286\n",
            " 0.10697558 0.10339386 0.10567314 0.10507201 0.09823419 0.09041954\n",
            " 0.09164684 0.0977082  0.10016281 0.10038823 0.09650595 0.0878397\n",
            " 0.09014402 0.08681277 0.08969317 0.08090169 0.08583594 0.08806512\n",
            " 0.09129618 0.09031935 0.09009393 0.08683782 0.085335   0.09247339\n",
            " 0.09517846 0.09946149 0.10499687 0.10624922 0.10680025 0.10482154\n",
            " 0.10469631 0.1063995  0.10522229 0.11453976 0.10760175 0.10549781\n",
            " 0.10815279 0.11183469 0.1105072  0.1113087  0.10920476 0.1101315\n",
            " 0.10289292 0.10276769 0.10807765 0.10810269 0.11060739 0.11684408\n",
            " 0.12781465 0.13452724 0.13570445 0.13668128 0.13800877 0.12515967\n",
            " 0.13375078 0.14642455 0.14509706 0.14256731 0.1377583  0.14647464\n",
            " 0.13637885 0.13805437 0.1392018  0.13988256 0.14020006 0.14025934\n",
            " 0.14014818 0.13993149 0.13965286 0.13933906 0.13900502 0.13865833\n",
            " 0.13830236 0.13793854 0.13756756 0.13719065 0.13680959 0.13642628\n",
            " 0.13604257 0.13565996 0.1352797  0.13490269 0.13452969 0.13416198\n",
            " 0.1338007  0.13344675 0.1331007  0.13276279]\n",
            "28 day output [[0.13243304]]\n",
            "29 day input [0.10194114 0.10459612 0.11591735 0.11268629 0.11438948 0.11724483\n",
            " 0.11887289 0.12485911 0.12090169 0.11829681 0.10552286 0.10697558\n",
            " 0.10339386 0.10567314 0.10507201 0.09823419 0.09041954 0.09164684\n",
            " 0.0977082  0.10016281 0.10038823 0.09650595 0.0878397  0.09014402\n",
            " 0.08681277 0.08969317 0.08090169 0.08583594 0.08806512 0.09129618\n",
            " 0.09031935 0.09009393 0.08683782 0.085335   0.09247339 0.09517846\n",
            " 0.09946149 0.10499687 0.10624922 0.10680025 0.10482154 0.10469631\n",
            " 0.1063995  0.10522229 0.11453976 0.10760175 0.10549781 0.10815279\n",
            " 0.11183469 0.1105072  0.1113087  0.10920476 0.1101315  0.10289292\n",
            " 0.10276769 0.10807765 0.10810269 0.11060739 0.11684408 0.12781465\n",
            " 0.13452724 0.13570445 0.13668128 0.13800877 0.12515967 0.13375078\n",
            " 0.14642455 0.14509706 0.14256731 0.1377583  0.14647464 0.13637885\n",
            " 0.13805437 0.1392018  0.13988256 0.14020006 0.14025934 0.14014818\n",
            " 0.13993149 0.13965286 0.13933906 0.13900502 0.13865833 0.13830236\n",
            " 0.13793854 0.13756756 0.13719065 0.13680959 0.13642628 0.13604257\n",
            " 0.13565996 0.1352797  0.13490269 0.13452969 0.13416198 0.1338007\n",
            " 0.13344675 0.1331007  0.13276279 0.13243304]\n",
            "29 day output [[0.13211131]]\n",
            "[[0.13637885451316833], [0.13805437088012695], [0.1392018049955368], [0.13988256454467773], [0.14020006358623505], [0.14025934040546417], [0.14014817774295807], [0.13993148505687714], [0.13965286314487457], [0.13933905959129333], [0.13900502026081085], [0.1386583298444748], [0.13830235600471497], [0.13793854415416718], [0.13756756484508514], [0.13719065487384796], [0.1368095874786377], [0.13642628490924835], [0.13604256510734558], [0.13565996289253235], [0.13527970016002655], [0.134902685880661], [0.1345296949148178], [0.13416197896003723], [0.1338007003068924], [0.13344675302505493], [0.1331007033586502], [0.13276278972625732], [0.13243304193019867], [0.1321113109588623]]\n"
          ]
        }
      ]
    },
    {
      "cell_type": "code",
      "metadata": {
        "id": "rPabsUCEH-VJ"
      },
      "source": [
        "day_new=np.arange(1,101)\n",
        "day_pred=np.arange(101,131)"
      ],
      "execution_count": 140,
      "outputs": []
    },
    {
      "cell_type": "code",
      "metadata": {
        "id": "OxoWWCZ0H-VJ"
      },
      "source": [
        "import matplotlib.pyplot as plt"
      ],
      "execution_count": 141,
      "outputs": []
    },
    {
      "cell_type": "code",
      "metadata": {
        "colab": {
          "base_uri": "https://localhost:8080/"
        },
        "id": "WpcrGRndH-VJ",
        "outputId": "975deba8-ec5e-424f-e050-e2e2453460be"
      },
      "source": [
        "len(df1)"
      ],
      "execution_count": 142,
      "outputs": [
        {
          "output_type": "execute_result",
          "data": {
            "text/plain": [
              "1257"
            ]
          },
          "metadata": {},
          "execution_count": 142
        }
      ]
    },
    {
      "cell_type": "code",
      "metadata": {
        "id": "ATOE5xS8H-VJ"
      },
      "source": [
        ""
      ],
      "execution_count": 94,
      "outputs": []
    },
    {
      "cell_type": "code",
      "metadata": {
        "colab": {
          "base_uri": "https://localhost:8080/",
          "height": 282
        },
        "id": "Z7MReCshH-VJ",
        "outputId": "a864fdf7-b2fa-40b9-a3d7-dc7445029d5c"
      },
      "source": [
        "plt.plot(day_new,scaler.inverse_transform(df1[1157:]))\n",
        "plt.plot(day_pred,scaler.inverse_transform(lst_output))"
      ],
      "execution_count": 143,
      "outputs": [
        {
          "output_type": "execute_result",
          "data": {
            "text/plain": [
              "[<matplotlib.lines.Line2D at 0x7fdb320f6950>]"
            ]
          },
          "metadata": {},
          "execution_count": 143
        },
        {
          "output_type": "display_data",
          "data": {
            "image/png": "[encoded data removed]",
            "text/plain": [
              "<Figure size 432x288 with 1 Axes>"
            ]
          },
          "metadata": {
            "needs_background": "light"
          }
        }
      ]
    },
    {
      "cell_type": "code",
      "metadata": {
        "colab": {
          "base_uri": "https://localhost:8080/",
          "height": 282
        },
        "id": "tdTJ4FypH-VJ",
        "outputId": "3e1dd156-260d-4e62-d602-7040ec1d776d"
      },
      "source": [
        "df3=df1.tolist()\n",
        "df3.extend(lst_output)\n",
        "plt.plot(df3[1200:])"
      ],
      "execution_count": 115,
      "outputs": [
        {
          "output_type": "execute_result",
          "data": {
            "text/plain": [
              "[<matplotlib.lines.Line2D at 0x7fdb347dff50>]"
            ]
          },
          "metadata": {},
          "execution_count": 115
        },
        {
          "output_type": "display_data",
          "data": {
            "image/png": "[encoded data removed]",
            "text/plain": [
              "<Figure size 432x288 with 1 Axes>"
            ]
          },
          "metadata": {
            "needs_background": "light"
          }
        }
      ]
    },
    {
      "cell_type": "code",
      "metadata": {
        "id": "l0R5o2UrH-VJ"
      },
      "source": [
        "df3=scaler.inverse_transform(df3).tolist()"
      ],
      "execution_count": 116,
      "outputs": []
    },
    {
      "cell_type": "code",
      "metadata": {
        "colab": {
          "base_uri": "https://localhost:8080/",
          "height": 282
        },
        "id": "cW6e-1jFH-VK",
        "outputId": "bb800485-b599-4b47-b38c-009ed27fe605"
      },
      "source": [
        "plt.plot(df3)"
      ],
      "execution_count": 117,
      "outputs": [
        {
          "output_type": "execute_result",
          "data": {
            "text/plain": [
              "[<matplotlib.lines.Line2D at 0x7fdb34793cd0>]"
            ]
          },
          "metadata": {},
          "execution_count": 117
        },
        {
          "output_type": "display_data",
          "data": {
            "image/png": "[encoded data removed]",
            "text/plain": [
              "<Figure size 432x288 with 1 Axes>"
            ]
          },
          "metadata": {
            "needs_background": "light"
          }
        }
      ]
    },
    {
      "cell_type": "code",
      "metadata": {
        "id": "DN20EFhdH-VK"
      },
      "source": [
        ""
      ],
      "execution_count": 75,
      "outputs": []
    }
  ]
}