{
  "nbformat": 4,
  "nbformat_minor": 0,
  "metadata": {
    "colab": {
      "name": "StockPrediction_GRU.ipynb",
      "provenance": [],
      "collapsed_sections": []
    },
    "kernelspec": {
      "name": "python3",
      "display_name": "Python 3"
    },
    "language_info": {
      "name": "python"
    },
    "accelerator": "GPU"
  },
  "cells": [
    {
      "cell_type": "code",
      "metadata": {
        "colab": {
          "base_uri": "https://localhost:8080/"
        },
        "id": "CaLFqvTWkP8i",
        "outputId": "94628b75-3656-46bd-a2c8-a34cc147e94d"
      },
      "source": [
        "!pip uninstall yfinance\n",
        "!pip uninstall pandas-datareader\n",
        "!pip install yfinance --upgrade --no-cache-dir\n",
        "!pip install pandas-datareader"
      ],
      "execution_count": 1,
      "outputs": [
        {
          "output_type": "stream",
          "name": "stdout",
          "text": [
            "\u001b[33mWARNING: Skipping yfinance as it is not installed.\u001b[0m\n",
            "Found existing installation: pandas-datareader 0.9.0\n",
            "Uninstalling pandas-datareader-0.9.0:\n",
            "  Would remove:\n",
            "    /usr/local/lib/python3.7/dist-packages/pandas_datareader-0.9.0.dist-info/*\n",
            "    /usr/local/lib/python3.7/dist-packages/pandas_datareader/*\n",
            "Proceed (y/n)? y\n",
            "  Successfully uninstalled pandas-datareader-0.9.0\n",
            "Collecting yfinance\n",
            "  Downloading yfinance-0.1.67-py2.py3-none-any.whl (25 kB)\n",
            "Requirement already satisfied: numpy>=1.15 in /usr/local/lib/python3.7/dist-packages (from yfinance) (1.19.5)\n",
            "Requirement already satisfied: pandas>=0.24 in /usr/local/lib/python3.7/dist-packages (from yfinance) (1.1.5)\n",
            "Collecting lxml>=4.5.1\n",
            "  Downloading lxml-4.6.4-cp37-cp37m-manylinux_2_17_x86_64.manylinux2014_x86_64.manylinux_2_24_x86_64.whl (6.3 MB)\n",
            "\u001b[K     |████████████████████████████████| 6.3 MB 6.5 MB/s \n",
            "\u001b[?25hRequirement already satisfied: multitasking>=0.0.7 in /usr/local/lib/python3.7/dist-packages (from yfinance) (0.0.10)\n",
            "Requirement already satisfied: requests>=2.20 in /usr/local/lib/python3.7/dist-packages (from yfinance) (2.23.0)\n",
            "Requirement already satisfied: pytz>=2017.2 in /usr/local/lib/python3.7/dist-packages (from pandas>=0.24->yfinance) (2018.9)\n",
            "Requirement already satisfied: python-dateutil>=2.7.3 in /usr/local/lib/python3.7/dist-packages (from pandas>=0.24->yfinance) (2.8.2)\n",
            "Requirement already satisfied: six>=1.5 in /usr/local/lib/python3.7/dist-packages (from python-dateutil>=2.7.3->pandas>=0.24->yfinance) (1.15.0)\n",
            "Requirement already satisfied: certifi>=2017.4.17 in /usr/local/lib/python3.7/dist-packages (from requests>=2.20->yfinance) (2021.10.8)\n",
            "Requirement already satisfied: chardet<4,>=3.0.2 in /usr/local/lib/python3.7/dist-packages (from requests>=2.20->yfinance) (3.0.4)\n",
            "Requirement already satisfied: idna<3,>=2.5 in /usr/local/lib/python3.7/dist-packages (from requests>=2.20->yfinance) (2.10)\n",
            "Requirement already satisfied: urllib3!=1.25.0,!=1.25.1,<1.26,>=1.21.1 in /usr/local/lib/python3.7/dist-packages (from requests>=2.20->yfinance) (1.24.3)\n",
            "Installing collected packages: lxml, yfinance\n",
            "  Attempting uninstall: lxml\n",
            "    Found existing installation: lxml 4.2.6\n",
            "    Uninstalling lxml-4.2.6:\n",
            "      Successfully uninstalled lxml-4.2.6\n",
            "Successfully installed lxml-4.6.4 yfinance-0.1.67\n",
            "Collecting pandas-datareader\n",
            "  Downloading pandas_datareader-0.10.0-py3-none-any.whl (109 kB)\n",
            "\u001b[K     |████████████████████████████████| 109 kB 5.4 MB/s \n",
            "\u001b[?25hRequirement already satisfied: pandas>=0.23 in /usr/local/lib/python3.7/dist-packages (from pandas-datareader) (1.1.5)\n",
            "Requirement already satisfied: lxml in /usr/local/lib/python3.7/dist-packages (from pandas-datareader) (4.6.4)\n",
            "Requirement already satisfied: requests>=2.19.0 in /usr/local/lib/python3.7/dist-packages (from pandas-datareader) (2.23.0)\n",
            "Requirement already satisfied: python-dateutil>=2.7.3 in /usr/local/lib/python3.7/dist-packages (from pandas>=0.23->pandas-datareader) (2.8.2)\n",
            "Requirement already satisfied: pytz>=2017.2 in /usr/local/lib/python3.7/dist-packages (from pandas>=0.23->pandas-datareader) (2018.9)\n",
            "Requirement already satisfied: numpy>=1.15.4 in /usr/local/lib/python3.7/dist-packages (from pandas>=0.23->pandas-datareader) (1.19.5)\n",
            "Requirement already satisfied: six>=1.5 in /usr/local/lib/python3.7/dist-packages (from python-dateutil>=2.7.3->pandas>=0.23->pandas-datareader) (1.15.0)\n",
            "Requirement already satisfied: certifi>=2017.4.17 in /usr/local/lib/python3.7/dist-packages (from requests>=2.19.0->pandas-datareader) (2021.10.8)\n",
            "Requirement already satisfied: urllib3!=1.25.0,!=1.25.1,<1.26,>=1.21.1 in /usr/local/lib/python3.7/dist-packages (from requests>=2.19.0->pandas-datareader) (1.24.3)\n",
            "Requirement already satisfied: idna<3,>=2.5 in /usr/local/lib/python3.7/dist-packages (from requests>=2.19.0->pandas-datareader) (2.10)\n",
            "Requirement already satisfied: chardet<4,>=3.0.2 in /usr/local/lib/python3.7/dist-packages (from requests>=2.19.0->pandas-datareader) (3.0.4)\n",
            "Installing collected packages: pandas-datareader\n",
            "Successfully installed pandas-datareader-0.10.0\n"
          ]
        }
      ]
    },
    {
      "cell_type": "code",
      "metadata": {
        "id": "hCW3XxVlgg_o"
      },
      "source": [
        "import numpy as np\n",
        "import pandas as pd\n",
        "import matplotlib.pyplot as plt\n",
        "import pandas_datareader as data"
      ],
      "execution_count": 2,
      "outputs": []
    },
    {
      "cell_type": "code",
      "metadata": {
        "colab": {
          "base_uri": "https://localhost:8080/",
          "height": 238
        },
        "id": "giGLKbbag1-D",
        "outputId": "40292ce9-7512-4bae-b406-ea8916c7213b"
      },
      "source": [
        "from datetime import date\n",
        "from dateutil.relativedelta import relativedelta\n",
        "\n",
        "start = date.today() - relativedelta(years=5)\n",
        "end   = date.today()\n",
        "\n",
        "dataframe = data.DataReader('AAPL','yahoo',start,end)\n",
        "dataframe.head()"
      ],
      "execution_count": 3,
      "outputs": [
        {
          "output_type": "execute_result",
          "data": {
            "text/html": [
              "<div>\n",
              "<style scoped>\n",
              "    .dataframe tbody tr th:only-of-type {\n",
              "        vertical-align: middle;\n",
              "    }\n",
              "\n",
              "    .dataframe tbody tr th {\n",
              "        vertical-align: top;\n",
              "    }\n",
              "\n",
              "    .dataframe thead th {\n",
              "        text-align: right;\n",
              "    }\n",
              "</style>\n",
              "<table border=\"1\" class=\"dataframe\">\n",
              "  <thead>\n",
              "    <tr style=\"text-align: right;\">\n",
              "      <th></th>\n",
              "      <th>High</th>\n",
              "      <th>Low</th>\n",
              "      <th>Open</th>\n",
              "      <th>Close</th>\n",
              "      <th>Volume</th>\n",
              "      <th>Adj Close</th>\n",
              "    </tr>\n",
              "    <tr>\n",
              "      <th>Date</th>\n",
              "      <th></th>\n",
              "      <th></th>\n",
              "      <th></th>\n",
              "      <th></th>\n",
              "      <th></th>\n",
              "      <th></th>\n",
              "    </tr>\n",
              "  </thead>\n",
              "  <tbody>\n",
              "    <tr>\n",
              "      <th>2016-12-12</th>\n",
              "      <td>115.000000</td>\n",
              "      <td>112.489998</td>\n",
              "      <td>113.290001</td>\n",
              "      <td>113.300003</td>\n",
              "      <td>26374377.0</td>\n",
              "      <td>110.569832</td>\n",
              "    </tr>\n",
              "    <tr>\n",
              "      <th>2016-12-13</th>\n",
              "      <td>115.919998</td>\n",
              "      <td>113.750000</td>\n",
              "      <td>113.839996</td>\n",
              "      <td>115.190002</td>\n",
              "      <td>43733811.0</td>\n",
              "      <td>112.414307</td>\n",
              "    </tr>\n",
              "    <tr>\n",
              "      <th>2016-12-14</th>\n",
              "      <td>116.199997</td>\n",
              "      <td>114.980003</td>\n",
              "      <td>115.040001</td>\n",
              "      <td>115.190002</td>\n",
              "      <td>34031834.0</td>\n",
              "      <td>112.414307</td>\n",
              "    </tr>\n",
              "    <tr>\n",
              "      <th>2016-12-15</th>\n",
              "      <td>116.730003</td>\n",
              "      <td>115.230003</td>\n",
              "      <td>115.379997</td>\n",
              "      <td>115.820000</td>\n",
              "      <td>46524544.0</td>\n",
              "      <td>113.029114</td>\n",
              "    </tr>\n",
              "    <tr>\n",
              "      <th>2016-12-16</th>\n",
              "      <td>116.500000</td>\n",
              "      <td>115.644997</td>\n",
              "      <td>116.470001</td>\n",
              "      <td>115.970001</td>\n",
              "      <td>44351134.0</td>\n",
              "      <td>113.175484</td>\n",
              "    </tr>\n",
              "  </tbody>\n",
              "</table>\n",
              "</div>"
            ],
            "text/plain": [
              "                  High         Low  ...      Volume   Adj Close\n",
              "Date                                ...                        \n",
              "2016-12-12  115.000000  112.489998  ...  26374377.0  110.569832\n",
              "2016-12-13  115.919998  113.750000  ...  43733811.0  112.414307\n",
              "2016-12-14  116.199997  114.980003  ...  34031834.0  112.414307\n",
              "2016-12-15  116.730003  115.230003  ...  46524544.0  113.029114\n",
              "2016-12-16  116.500000  115.644997  ...  44351134.0  113.175484\n",
              "\n",
              "[5 rows x 6 columns]"
            ]
          },
          "metadata": {},
          "execution_count": 3
        }
      ]
    },
    {
      "cell_type": "code",
      "metadata": {
        "colab": {
          "base_uri": "https://localhost:8080/",
          "height": 424
        },
        "id": "e89Ztt1OmZIr",
        "outputId": "25ec5dd9-0c98-4eae-d9e4-40b67f8442aa"
      },
      "source": [
        "  df = dataframe.reset_index()\n",
        "  df"
      ],
      "execution_count": 4,
      "outputs": [
        {
          "output_type": "execute_result",
          "data": {
            "text/html": [
              "<div>\n",
              "<style scoped>\n",
              "    .dataframe tbody tr th:only-of-type {\n",
              "        vertical-align: middle;\n",
              "    }\n",
              "\n",
              "    .dataframe tbody tr th {\n",
              "        vertical-align: top;\n",
              "    }\n",
              "\n",
              "    .dataframe thead th {\n",
              "        text-align: right;\n",
              "    }\n",
              "</style>\n",
              "<table border=\"1\" class=\"dataframe\">\n",
              "  <thead>\n",
              "    <tr style=\"text-align: right;\">\n",
              "      <th></th>\n",
              "      <th>Date</th>\n",
              "      <th>High</th>\n",
              "      <th>Low</th>\n",
              "      <th>Open</th>\n",
              "      <th>Close</th>\n",
              "      <th>Volume</th>\n",
              "      <th>Adj Close</th>\n",
              "    </tr>\n",
              "  </thead>\n",
              "  <tbody>\n",
              "    <tr>\n",
              "      <th>0</th>\n",
              "      <td>2016-12-12</td>\n",
              "      <td>115.000000</td>\n",
              "      <td>112.489998</td>\n",
              "      <td>113.290001</td>\n",
              "      <td>113.300003</td>\n",
              "      <td>26374377.0</td>\n",
              "      <td>110.569832</td>\n",
              "    </tr>\n",
              "    <tr>\n",
              "      <th>1</th>\n",
              "      <td>2016-12-13</td>\n",
              "      <td>115.919998</td>\n",
              "      <td>113.750000</td>\n",
              "      <td>113.839996</td>\n",
              "      <td>115.190002</td>\n",
              "      <td>43733811.0</td>\n",
              "      <td>112.414307</td>\n",
              "    </tr>\n",
              "    <tr>\n",
              "      <th>2</th>\n",
              "      <td>2016-12-14</td>\n",
              "      <td>116.199997</td>\n",
              "      <td>114.980003</td>\n",
              "      <td>115.040001</td>\n",
              "      <td>115.190002</td>\n",
              "      <td>34031834.0</td>\n",
              "      <td>112.414307</td>\n",
              "    </tr>\n",
              "    <tr>\n",
              "      <th>3</th>\n",
              "      <td>2016-12-15</td>\n",
              "      <td>116.730003</td>\n",
              "      <td>115.230003</td>\n",
              "      <td>115.379997</td>\n",
              "      <td>115.820000</td>\n",
              "      <td>46524544.0</td>\n",
              "      <td>113.029114</td>\n",
              "    </tr>\n",
              "    <tr>\n",
              "      <th>4</th>\n",
              "      <td>2016-12-16</td>\n",
              "      <td>116.500000</td>\n",
              "      <td>115.644997</td>\n",
              "      <td>116.470001</td>\n",
              "      <td>115.970001</td>\n",
              "      <td>44351134.0</td>\n",
              "      <td>113.175484</td>\n",
              "    </tr>\n",
              "    <tr>\n",
              "      <th>...</th>\n",
              "      <td>...</td>\n",
              "      <td>...</td>\n",
              "      <td>...</td>\n",
              "      <td>...</td>\n",
              "      <td>...</td>\n",
              "      <td>...</td>\n",
              "      <td>...</td>\n",
              "    </tr>\n",
              "    <tr>\n",
              "      <th>1254</th>\n",
              "      <td>2021-12-06</td>\n",
              "      <td>167.879898</td>\n",
              "      <td>164.279999</td>\n",
              "      <td>164.289993</td>\n",
              "      <td>165.320007</td>\n",
              "      <td>107496982.0</td>\n",
              "      <td>165.320007</td>\n",
              "    </tr>\n",
              "    <tr>\n",
              "      <th>1255</th>\n",
              "      <td>2021-12-07</td>\n",
              "      <td>171.580002</td>\n",
              "      <td>168.339996</td>\n",
              "      <td>169.080002</td>\n",
              "      <td>171.179993</td>\n",
              "      <td>120405352.0</td>\n",
              "      <td>171.179993</td>\n",
              "    </tr>\n",
              "    <tr>\n",
              "      <th>1256</th>\n",
              "      <td>2021-12-08</td>\n",
              "      <td>175.960007</td>\n",
              "      <td>170.699997</td>\n",
              "      <td>172.125000</td>\n",
              "      <td>175.080002</td>\n",
              "      <td>116998901.0</td>\n",
              "      <td>175.080002</td>\n",
              "    </tr>\n",
              "    <tr>\n",
              "      <th>1257</th>\n",
              "      <td>2021-12-09</td>\n",
              "      <td>176.750000</td>\n",
              "      <td>173.919998</td>\n",
              "      <td>174.910004</td>\n",
              "      <td>174.559998</td>\n",
              "      <td>108157647.0</td>\n",
              "      <td>174.559998</td>\n",
              "    </tr>\n",
              "    <tr>\n",
              "      <th>1258</th>\n",
              "      <td>2021-12-10</td>\n",
              "      <td>179.630005</td>\n",
              "      <td>174.690002</td>\n",
              "      <td>175.205002</td>\n",
              "      <td>179.449997</td>\n",
              "      <td>110986702.0</td>\n",
              "      <td>179.449997</td>\n",
              "    </tr>\n",
              "  </tbody>\n",
              "</table>\n",
              "<p>1259 rows × 7 columns</p>\n",
              "</div>"
            ],
            "text/plain": [
              "           Date        High         Low  ...       Close       Volume   Adj Close\n",
              "0    2016-12-12  115.000000  112.489998  ...  113.300003   26374377.0  110.569832\n",
              "1    2016-12-13  115.919998  113.750000  ...  115.190002   43733811.0  112.414307\n",
              "2    2016-12-14  116.199997  114.980003  ...  115.190002   34031834.0  112.414307\n",
              "3    2016-12-15  116.730003  115.230003  ...  115.820000   46524544.0  113.029114\n",
              "4    2016-12-16  116.500000  115.644997  ...  115.970001   44351134.0  113.175484\n",
              "...         ...         ...         ...  ...         ...          ...         ...\n",
              "1254 2021-12-06  167.879898  164.279999  ...  165.320007  107496982.0  165.320007\n",
              "1255 2021-12-07  171.580002  168.339996  ...  171.179993  120405352.0  171.179993\n",
              "1256 2021-12-08  175.960007  170.699997  ...  175.080002  116998901.0  175.080002\n",
              "1257 2021-12-09  176.750000  173.919998  ...  174.559998  108157647.0  174.559998\n",
              "1258 2021-12-10  179.630005  174.690002  ...  179.449997  110986702.0  179.449997\n",
              "\n",
              "[1259 rows x 7 columns]"
            ]
          },
          "metadata": {},
          "execution_count": 4
        }
      ]
    },
    {
      "cell_type": "code",
      "metadata": {
        "colab": {
          "base_uri": "https://localhost:8080/",
          "height": 283
        },
        "id": "sMRqotWlmoDc",
        "outputId": "b273fcbe-efc3-4bee-b677-d4a8ef6a34e0"
      },
      "source": [
        "plt.plot(df.Close)"
      ],
      "execution_count": 5,
      "outputs": [
        {
          "output_type": "execute_result",
          "data": {
            "text/plain": [
              "[<matplotlib.lines.Line2D at 0x7f7300ea77d0>]"
            ]
          },
          "metadata": {},
          "execution_count": 5
        },
        {
          "output_type": "display_data",
          "data": {
            "image/png": "[encoded data removed]",
            "text/plain": [
              "<Figure size 432x288 with 1 Axes>"
            ]
          },
          "metadata": {
            "needs_background": "light"
          }
        }
      ]
    },
    {
      "cell_type": "code",
      "metadata": {
        "colab": {
          "base_uri": "https://localhost:8080/"
        },
        "id": "DKd4o8OWpPJH",
        "outputId": "61952001-f7d9-4986-ce46-9671b232c3a1"
      },
      "source": [
        "df.shape"
      ],
      "execution_count": 6,
      "outputs": [
        {
          "output_type": "execute_result",
          "data": {
            "text/plain": [
              "(1259, 7)"
            ]
          },
          "metadata": {},
          "execution_count": 6
        }
      ]
    },
    {
      "cell_type": "code",
      "metadata": {
        "colab": {
          "base_uri": "https://localhost:8080/",
          "height": 206
        },
        "id": "r2zN03RirHkg",
        "outputId": "f0837abf-bb8a-492c-ba75-b44b7607850d"
      },
      "source": [
        "df.head()"
      ],
      "execution_count": 7,
      "outputs": [
        {
          "output_type": "execute_result",
          "data": {
            "text/html": [
              "<div>\n",
              "<style scoped>\n",
              "    .dataframe tbody tr th:only-of-type {\n",
              "        vertical-align: middle;\n",
              "    }\n",
              "\n",
              "    .dataframe tbody tr th {\n",
              "        vertical-align: top;\n",
              "    }\n",
              "\n",
              "    .dataframe thead th {\n",
              "        text-align: right;\n",
              "    }\n",
              "</style>\n",
              "<table border=\"1\" class=\"dataframe\">\n",
              "  <thead>\n",
              "    <tr style=\"text-align: right;\">\n",
              "      <th></th>\n",
              "      <th>Date</th>\n",
              "      <th>High</th>\n",
              "      <th>Low</th>\n",
              "      <th>Open</th>\n",
              "      <th>Close</th>\n",
              "      <th>Volume</th>\n",
              "      <th>Adj Close</th>\n",
              "    </tr>\n",
              "  </thead>\n",
              "  <tbody>\n",
              "    <tr>\n",
              "      <th>0</th>\n",
              "      <td>2016-12-12</td>\n",
              "      <td>115.000000</td>\n",
              "      <td>112.489998</td>\n",
              "      <td>113.290001</td>\n",
              "      <td>113.300003</td>\n",
              "      <td>26374377.0</td>\n",
              "      <td>110.569832</td>\n",
              "    </tr>\n",
              "    <tr>\n",
              "      <th>1</th>\n",
              "      <td>2016-12-13</td>\n",
              "      <td>115.919998</td>\n",
              "      <td>113.750000</td>\n",
              "      <td>113.839996</td>\n",
              "      <td>115.190002</td>\n",
              "      <td>43733811.0</td>\n",
              "      <td>112.414307</td>\n",
              "    </tr>\n",
              "    <tr>\n",
              "      <th>2</th>\n",
              "      <td>2016-12-14</td>\n",
              "      <td>116.199997</td>\n",
              "      <td>114.980003</td>\n",
              "      <td>115.040001</td>\n",
              "      <td>115.190002</td>\n",
              "      <td>34031834.0</td>\n",
              "      <td>112.414307</td>\n",
              "    </tr>\n",
              "    <tr>\n",
              "      <th>3</th>\n",
              "      <td>2016-12-15</td>\n",
              "      <td>116.730003</td>\n",
              "      <td>115.230003</td>\n",
              "      <td>115.379997</td>\n",
              "      <td>115.820000</td>\n",
              "      <td>46524544.0</td>\n",
              "      <td>113.029114</td>\n",
              "    </tr>\n",
              "    <tr>\n",
              "      <th>4</th>\n",
              "      <td>2016-12-16</td>\n",
              "      <td>116.500000</td>\n",
              "      <td>115.644997</td>\n",
              "      <td>116.470001</td>\n",
              "      <td>115.970001</td>\n",
              "      <td>44351134.0</td>\n",
              "      <td>113.175484</td>\n",
              "    </tr>\n",
              "  </tbody>\n",
              "</table>\n",
              "</div>"
            ],
            "text/plain": [
              "        Date        High         Low  ...       Close      Volume   Adj Close\n",
              "0 2016-12-12  115.000000  112.489998  ...  113.300003  26374377.0  110.569832\n",
              "1 2016-12-13  115.919998  113.750000  ...  115.190002  43733811.0  112.414307\n",
              "2 2016-12-14  116.199997  114.980003  ...  115.190002  34031834.0  112.414307\n",
              "3 2016-12-15  116.730003  115.230003  ...  115.820000  46524544.0  113.029114\n",
              "4 2016-12-16  116.500000  115.644997  ...  115.970001  44351134.0  113.175484\n",
              "\n",
              "[5 rows x 7 columns]"
            ]
          },
          "metadata": {},
          "execution_count": 7
        }
      ]
    },
    {
      "cell_type": "code",
      "metadata": {
        "id": "nMgrvZGCrLbT"
      },
      "source": [
        "df = df.drop(['Date','Adj Close'], axis=1)"
      ],
      "execution_count": 8,
      "outputs": []
    },
    {
      "cell_type": "code",
      "metadata": {
        "colab": {
          "base_uri": "https://localhost:8080/"
        },
        "id": "HagF1spDrQwx",
        "outputId": "a15dda28-d2de-4d2e-bd8f-106e9478115f"
      },
      "source": [
        "df.shape"
      ],
      "execution_count": 9,
      "outputs": [
        {
          "output_type": "execute_result",
          "data": {
            "text/plain": [
              "(1259, 5)"
            ]
          },
          "metadata": {},
          "execution_count": 9
        }
      ]
    },
    {
      "cell_type": "code",
      "metadata": {
        "colab": {
          "base_uri": "https://localhost:8080/"
        },
        "id": "9R2RsPTvxk_t",
        "outputId": "cfe0ee64-f1d0-4bcb-cab6-3429cda000c8"
      },
      "source": [
        "train_data = pd.DataFrame(df['Close'][0:int(len(df)*0.70)])\n",
        "test_data = pd.DataFrame(df['Close'][int(len(df)*0.70):int(len(df))])\n",
        "\n",
        "print(train_data.shape)\n",
        "print(test_data.shape)\n"
      ],
      "execution_count": 10,
      "outputs": [
        {
          "output_type": "stream",
          "name": "stdout",
          "text": [
            "(881, 1)\n",
            "(378, 1)\n"
          ]
        }
      ]
    },
    {
      "cell_type": "code",
      "metadata": {
        "colab": {
          "base_uri": "https://localhost:8080/",
          "height": 206
        },
        "id": "akcKE3gYpPAy",
        "outputId": "4fe4bd4e-9420-43c9-a5fe-a12e2164adab"
      },
      "source": [
        "train_data.head()"
      ],
      "execution_count": 11,
      "outputs": [
        {
          "output_type": "execute_result",
          "data": {
            "text/html": [
              "<div>\n",
              "<style scoped>\n",
              "    .dataframe tbody tr th:only-of-type {\n",
              "        vertical-align: middle;\n",
              "    }\n",
              "\n",
              "    .dataframe tbody tr th {\n",
              "        vertical-align: top;\n",
              "    }\n",
              "\n",
              "    .dataframe thead th {\n",
              "        text-align: right;\n",
              "    }\n",
              "</style>\n",
              "<table border=\"1\" class=\"dataframe\">\n",
              "  <thead>\n",
              "    <tr style=\"text-align: right;\">\n",
              "      <th></th>\n",
              "      <th>Close</th>\n",
              "    </tr>\n",
              "  </thead>\n",
              "  <tbody>\n",
              "    <tr>\n",
              "      <th>0</th>\n",
              "      <td>113.300003</td>\n",
              "    </tr>\n",
              "    <tr>\n",
              "      <th>1</th>\n",
              "      <td>115.190002</td>\n",
              "    </tr>\n",
              "    <tr>\n",
              "      <th>2</th>\n",
              "      <td>115.190002</td>\n",
              "    </tr>\n",
              "    <tr>\n",
              "      <th>3</th>\n",
              "      <td>115.820000</td>\n",
              "    </tr>\n",
              "    <tr>\n",
              "      <th>4</th>\n",
              "      <td>115.970001</td>\n",
              "    </tr>\n",
              "  </tbody>\n",
              "</table>\n",
              "</div>"
            ],
            "text/plain": [
              "        Close\n",
              "0  113.300003\n",
              "1  115.190002\n",
              "2  115.190002\n",
              "3  115.820000\n",
              "4  115.970001"
            ]
          },
          "metadata": {},
          "execution_count": 11
        }
      ]
    },
    {
      "cell_type": "code",
      "metadata": {
        "id": "QTXi8XrQmn-T"
      },
      "source": [
        "from sklearn.preprocessing import MinMaxScaler\n",
        "scaler=MinMaxScaler(feature_range=(0,1))\n",
        "\n",
        "train_data_array = scaler.fit_transform(train_data)\n"
      ],
      "execution_count": 12,
      "outputs": []
    },
    {
      "cell_type": "code",
      "metadata": {
        "colab": {
          "base_uri": "https://localhost:8080/"
        },
        "id": "qPo8lUge09n0",
        "outputId": "db6a2722-ff55-44c4-9558-6b1d44e901ee"
      },
      "source": [
        "train_data_array.shape"
      ],
      "execution_count": 13,
      "outputs": [
        {
          "output_type": "execute_result",
          "data": {
            "text/plain": [
              "(881, 1)"
            ]
          },
          "metadata": {},
          "execution_count": 13
        }
      ]
    },
    {
      "cell_type": "code",
      "metadata": {
        "id": "WJwzY5MKmn5W"
      },
      "source": [
        "X_train = []\n",
        "y_train = [] \n",
        "\n",
        "for i in range(100,train_data_array.shape[0]):\n",
        "  X_train.append(train_data_array[i-100:i])\n",
        "  y_train.append(train_data_array[i,0])\n",
        "\n",
        "X_train,y_train = np.array(X_train),np.array(y_train)"
      ],
      "execution_count": 14,
      "outputs": []
    },
    {
      "cell_type": "code",
      "metadata": {
        "colab": {
          "base_uri": "https://localhost:8080/"
        },
        "id": "s3Yhvj162B4X",
        "outputId": "93f864c6-8780-4cae-c9db-788f5f98a980"
      },
      "source": [
        "X_train.shape"
      ],
      "execution_count": 15,
      "outputs": [
        {
          "output_type": "execute_result",
          "data": {
            "text/plain": [
              "(781, 100, 1)"
            ]
          },
          "metadata": {},
          "execution_count": 15
        }
      ]
    },
    {
      "cell_type": "code",
      "metadata": {
        "id": "vZYHz_l91ts9"
      },
      "source": [
        "### Create the Stacked LSTM model\n",
        "from tensorflow.keras.models import Sequential\n",
        "from tensorflow.keras.layers import Dense,Dropout\n",
        "from tensorflow.keras.layers import LSTM,GRU\n",
        "from tensorflow.keras import metrics"
      ],
      "execution_count": 16,
      "outputs": []
    },
    {
      "cell_type": "code",
      "metadata": {
        "id": "pamGgNFF1tpd",
        "colab": {
          "base_uri": "https://localhost:8080/"
        },
        "outputId": "0e90d082-179d-42d1-db73-63cad10339b9"
      },
      "source": [
        "model=Sequential()\n",
        "model.add(GRU(512,activation='relu',return_sequences=True,input_shape=(100,1)))\n",
        "model.add(Dropout(0.2))\n",
        "model.add(GRU(128,return_sequences=True))\n",
        "model.add(Dropout(0.3))\n",
        "model.add(GRU(64))\n",
        "model.add(Dropout(0.4))\n",
        "model.add(Dense(1))\n",
        "model.compile(loss='mean_squared_error',optimizer='adam')"
      ],
      "execution_count": 17,
      "outputs": [
        {
          "output_type": "stream",
          "name": "stdout",
          "text": [
            "WARNING:tensorflow:Layer gru will not use cuDNN kernels since it doesn't meet the criteria. It will use a generic GPU kernel as fallback when running on GPU.\n"
          ]
        }
      ]
    },
    {
      "cell_type": "code",
      "metadata": {
        "colab": {
          "base_uri": "https://localhost:8080/"
        },
        "id": "LvTYtOaD1tnN",
        "outputId": "419b0a4f-eb3c-4dba-ed21-433383fb1477"
      },
      "source": [
        "model.summary()"
      ],
      "execution_count": 112,
      "outputs": [
        {
          "output_type": "stream",
          "name": "stdout",
          "text": [
            "Model: \"sequential_12\"\n",
            "_________________________________________________________________\n",
            " Layer (type)                Output Shape              Param #   \n",
            "=================================================================\n",
            " gru (GRU)                   (None, 100, 512)          791040    \n",
            "                                                                 \n",
            " dropout_36 (Dropout)        (None, 100, 512)          0         \n",
            "                                                                 \n",
            " gru_1 (GRU)                 (None, 100, 128)          246528    \n",
            "                                                                 \n",
            " dropout_37 (Dropout)        (None, 100, 128)          0         \n",
            "                                                                 \n",
            " gru_2 (GRU)                 (None, 64)                37248     \n",
            "                                                                 \n",
            " dropout_38 (Dropout)        (None, 64)                0         \n",
            "                                                                 \n",
            " dense_12 (Dense)            (None, 1)                 65        \n",
            "                                                                 \n",
            "=================================================================\n",
            "Total params: 1,074,881\n",
            "Trainable params: 1,074,881\n",
            "Non-trainable params: 0\n",
            "_________________________________________________________________\n"
          ]
        }
      ]
    },
    {
      "cell_type": "code",
      "metadata": {
        "colab": {
          "base_uri": "https://localhost:8080/"
        },
        "id": "QAASsaq81tkz",
        "outputId": "3eb51457-9149-47f8-93b3-f463dc5c7805"
      },
      "source": [
        "history = model.fit(X_train,y_train,epochs=10)"
      ],
      "execution_count": 19,
      "outputs": [
        {
          "output_type": "stream",
          "name": "stdout",
          "text": [
            "Epoch 1/10\n",
            "25/25 [==============================] - 19s 409ms/step - loss: 0.0317\n",
            "Epoch 2/10\n",
            "25/25 [==============================] - 10s 399ms/step - loss: 0.0080\n",
            "Epoch 3/10\n",
            "25/25 [==============================] - 10s 400ms/step - loss: 0.0075\n",
            "Epoch 4/10\n",
            "25/25 [==============================] - 10s 395ms/step - loss: 0.0071\n",
            "Epoch 5/10\n",
            "25/25 [==============================] - 10s 410ms/step - loss: 0.0069\n",
            "Epoch 6/10\n",
            "25/25 [==============================] - 10s 406ms/step - loss: 0.0082\n",
            "Epoch 7/10\n",
            "25/25 [==============================] - 10s 402ms/step - loss: 0.0069\n",
            "Epoch 8/10\n",
            "25/25 [==============================] - 10s 396ms/step - loss: 0.0059\n",
            "Epoch 9/10\n",
            "25/25 [==============================] - 10s 397ms/step - loss: 0.0066\n",
            "Epoch 10/10\n",
            "25/25 [==============================] - 10s 397ms/step - loss: 0.0066\n"
          ]
        }
      ]
    },
    {
      "cell_type": "code",
      "metadata": {
        "id": "ikPinye73H6y"
      },
      "source": [
        "model.save('model.h5')"
      ],
      "execution_count": 20,
      "outputs": []
    },
    {
      "cell_type": "code",
      "metadata": {
        "id": "KFvhSMsL3MqO"
      },
      "source": [
        "past_100_days = train_data.tail(100)"
      ],
      "execution_count": 21,
      "outputs": []
    },
    {
      "cell_type": "code",
      "metadata": {
        "id": "J-IDQWTG4J1I"
      },
      "source": [
        "final_df = past_100_days.append(test_data,ignore_index=True)"
      ],
      "execution_count": 22,
      "outputs": []
    },
    {
      "cell_type": "code",
      "metadata": {
        "colab": {
          "base_uri": "https://localhost:8080/",
          "height": 424
        },
        "id": "yo-q4Muu4aQN",
        "outputId": "379fe141-d03c-42ed-dffd-93368faf0240"
      },
      "source": [
        "final_df"
      ],
      "execution_count": 23,
      "outputs": [
        {
          "output_type": "execute_result",
          "data": {
            "text/html": [
              "<div>\n",
              "<style scoped>\n",
              "    .dataframe tbody tr th:only-of-type {\n",
              "        vertical-align: middle;\n",
              "    }\n",
              "\n",
              "    .dataframe tbody tr th {\n",
              "        vertical-align: top;\n",
              "    }\n",
              "\n",
              "    .dataframe thead th {\n",
              "        text-align: right;\n",
              "    }\n",
              "</style>\n",
              "<table border=\"1\" class=\"dataframe\">\n",
              "  <thead>\n",
              "    <tr style=\"text-align: right;\">\n",
              "      <th></th>\n",
              "      <th>Close</th>\n",
              "    </tr>\n",
              "  </thead>\n",
              "  <tbody>\n",
              "    <tr>\n",
              "      <th>0</th>\n",
              "      <td>317.700012</td>\n",
              "    </tr>\n",
              "    <tr>\n",
              "      <th>1</th>\n",
              "      <td>319.230011</td>\n",
              "    </tr>\n",
              "    <tr>\n",
              "      <th>2</th>\n",
              "      <td>318.309998</td>\n",
              "    </tr>\n",
              "    <tr>\n",
              "      <th>3</th>\n",
              "      <td>308.950012</td>\n",
              "    </tr>\n",
              "    <tr>\n",
              "      <th>4</th>\n",
              "      <td>317.690002</td>\n",
              "    </tr>\n",
              "    <tr>\n",
              "      <th>...</th>\n",
              "      <td>...</td>\n",
              "    </tr>\n",
              "    <tr>\n",
              "      <th>473</th>\n",
              "      <td>165.320007</td>\n",
              "    </tr>\n",
              "    <tr>\n",
              "      <th>474</th>\n",
              "      <td>171.179993</td>\n",
              "    </tr>\n",
              "    <tr>\n",
              "      <th>475</th>\n",
              "      <td>175.080002</td>\n",
              "    </tr>\n",
              "    <tr>\n",
              "      <th>476</th>\n",
              "      <td>174.559998</td>\n",
              "    </tr>\n",
              "    <tr>\n",
              "      <th>477</th>\n",
              "      <td>179.449997</td>\n",
              "    </tr>\n",
              "  </tbody>\n",
              "</table>\n",
              "<p>478 rows × 1 columns</p>\n",
              "</div>"
            ],
            "text/plain": [
              "          Close\n",
              "0    317.700012\n",
              "1    319.230011\n",
              "2    318.309998\n",
              "3    308.950012\n",
              "4    317.690002\n",
              "..          ...\n",
              "473  165.320007\n",
              "474  171.179993\n",
              "475  175.080002\n",
              "476  174.559998\n",
              "477  179.449997\n",
              "\n",
              "[478 rows x 1 columns]"
            ]
          },
          "metadata": {},
          "execution_count": 23
        }
      ]
    },
    {
      "cell_type": "code",
      "metadata": {
        "colab": {
          "base_uri": "https://localhost:8080/"
        },
        "id": "C4FdZTRp4dn3",
        "outputId": "8647bc98-41a0-4302-89c1-4704d71fa918"
      },
      "source": [
        "input_data = scaler.fit_transform(final_df)\n",
        "input_data.shape"
      ],
      "execution_count": 24,
      "outputs": [
        {
          "output_type": "execute_result",
          "data": {
            "text/plain": [
              "(478, 1)"
            ]
          },
          "metadata": {},
          "execution_count": 24
        }
      ]
    },
    {
      "cell_type": "code",
      "metadata": {
        "id": "MmpcQWk24qD1"
      },
      "source": [
        "X_test = []\n",
        "y_test = []\n",
        "\n",
        "for i in range(100, input_data.shape[0]):\n",
        "  X_test.append(input_data[i-100:i])\n",
        "  y_test.append(input_data[i,0])\n",
        "\n"
      ],
      "execution_count": 25,
      "outputs": []
    },
    {
      "cell_type": "code",
      "source": [
        "input_data.shape[0]"
      ],
      "metadata": {
        "colab": {
          "base_uri": "https://localhost:8080/"
        },
        "id": "oG4Xz89uH56Q",
        "outputId": "d7f5928d-1016-4d21-9371-9e7202741c71"
      },
      "execution_count": 26,
      "outputs": [
        {
          "output_type": "execute_result",
          "data": {
            "text/plain": [
              "478"
            ]
          },
          "metadata": {},
          "execution_count": 26
        }
      ]
    },
    {
      "cell_type": "code",
      "metadata": {
        "colab": {
          "base_uri": "https://localhost:8080/"
        },
        "id": "EX747jl749DZ",
        "outputId": "b7a06bcd-a2d2-4829-dc1b-d3269b538dc4"
      },
      "source": [
        "X_test,y_test = np.array(X_test),np.array(y_test)\n",
        "\n",
        "print(X_test.shape)\n",
        "print(y_test.shape)"
      ],
      "execution_count": 27,
      "outputs": [
        {
          "output_type": "stream",
          "name": "stdout",
          "text": [
            "(378, 100, 1)\n",
            "(378,)\n"
          ]
        }
      ]
    },
    {
      "cell_type": "code",
      "metadata": {
        "id": "NDGMq0EL5KE4"
      },
      "source": [
        "# Making preddiction\n",
        "# train_predict = model.predict(X_train)\n",
        "y_pred = model.predict(X_test)"
      ],
      "execution_count": 28,
      "outputs": []
    },
    {
      "cell_type": "code",
      "source": [
        "import sklearn.metrics as metrics\n",
        "\n",
        "# Caluculate MAE, MSE, RMSE and R2 score\n",
        "mae = metrics.mean_absolute_error(y_test, y_pred)\n",
        "mse = metrics.mean_squared_error(y_test, y_pred)\n",
        "rmse = np.sqrt(mse) \n",
        "r2   = model.evaluate(X_train, y_train)\n",
        "\n",
        "# print results\n",
        "print(\"Results of Model Evaluation: \")\n",
        "print(\"\\nMean Absolute error (MAE):\", mae)\n",
        "print(\"\\nMean squared error regression loss (MSE):\", mse)\n",
        "print(\"\\nRoot Mean squared error (RMSE):\", rmse)\n",
        "print(\"\\nR^2 Score:\", r2)"
      ],
      "metadata": {
        "colab": {
          "base_uri": "https://localhost:8080/"
        },
        "id": "KyRSWmnTR_ri",
        "outputId": "6dfd387f-2e74-4d54-dabf-5602995458c7"
      },
      "execution_count": 29,
      "outputs": [
        {
          "output_type": "stream",
          "name": "stdout",
          "text": [
            "25/25 [==============================] - 3s 67ms/step - loss: 0.0049\n",
            "Results of Model Evaluation: \n",
            "\n",
            "Mean Absolute error (MAE): 0.027483145501095263\n",
            "\n",
            "Mean squared error regression loss (MSE): 0.0008928973815555987\n",
            "\n",
            "Root Mean squared error (RMSE): 0.029881388547984156\n",
            "\n",
            "R^2 Score: 0.004931699018925428\n"
          ]
        }
      ]
    },
    {
      "cell_type": "code",
      "metadata": {
        "id": "RLIA1butD8YT"
      },
      "source": [
        "### Test Data RMSE\n",
        "# math.sqrt(mean_squared_error(y_test,y_pred))"
      ],
      "execution_count": 107,
      "outputs": []
    },
    {
      "cell_type": "code",
      "metadata": {
        "colab": {
          "base_uri": "https://localhost:8080/"
        },
        "id": "ZYQW6_SR5Qdt",
        "outputId": "6cc18287-5ea9-43b5-d2dd-dadc677a9b4b"
      },
      "source": [
        "y_pred.shape"
      ],
      "execution_count": 30,
      "outputs": [
        {
          "output_type": "execute_result",
          "data": {
            "text/plain": [
              "(378, 1)"
            ]
          },
          "metadata": {},
          "execution_count": 30
        }
      ]
    },
    {
      "cell_type": "code",
      "metadata": {
        "colab": {
          "base_uri": "https://localhost:8080/"
        },
        "id": "CKikJYYf5XWH",
        "outputId": "8368e0df-3fd7-4eb1-f733-83386fe19c68"
      },
      "source": [
        " scaler.scale_"
      ],
      "execution_count": 31,
      "outputs": [
        {
          "output_type": "execute_result",
          "data": {
            "text/plain": [
              "array([0.00368857])"
            ]
          },
          "metadata": {},
          "execution_count": 31
        }
      ]
    },
    {
      "cell_type": "code",
      "metadata": {
        "id": "yz9OEwCk5dr_"
      },
      "source": [
        "scale_factor = 1/0.00368857\n",
        "y_pred = y_pred*scale_factor\n",
        "y_test = y_test * scale_factor"
      ],
      "execution_count": 33,
      "outputs": []
    },
    {
      "cell_type": "code",
      "metadata": {
        "colab": {
          "base_uri": "https://localhost:8080/",
          "height": 388
        },
        "id": "gU_APi_Y5x9w",
        "outputId": "327e7843-61e1-4af5-f6b4-9c9b746dc92b"
      },
      "source": [
        "plt.figure(figsize=(12,6))\n",
        "plt.plot(y_test,'b',label='Original Price')\n",
        "plt.plot(y_pred,'r',label='Predicted price')\n",
        "plt.xlabel('Time')\n",
        "plt.ylabel('Price')\n",
        "plt.legend()\n",
        "plt.show()"
      ],
      "execution_count": 34,
      "outputs": [
        {
          "output_type": "display_data",
          "data": {
            "image/png": "[encoded data removed]",
            "text/plain": [
              "<Figure size 864x432 with 1 Axes>"
            ]
          },
          "metadata": {
            "needs_background": "light"
          }
        }
      ]
    }
  ]
}