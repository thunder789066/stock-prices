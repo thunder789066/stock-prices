{
  "nbformat": 4,
  "nbformat_minor": 0,
  "metadata": {
    "colab": {
      "name": "stockPrediction_CNN_LSTM.ipynb",
      "provenance": []
    },
    "kernelspec": {
      "name": "python3",
      "display_name": "Python 3"
    },
    "language_info": {
      "name": "python"
    }
  },
  "cells": [
    {
      "cell_type": "code",
      "execution_count": 1,
      "metadata": {
        "colab": {
          "base_uri": "https://localhost:8080/"
        },
        "id": "S44W9zuuSiy7",
        "outputId": "575bd76f-ba5a-4d61-ad87-4235e2d83b5d"
      },
      "outputs": [
        {
          "output_type": "stream",
          "name": "stdout",
          "text": [
            "\u001b[33mWARNING: Skipping yfinance as it is not installed.\u001b[0m\n",
            "Found existing installation: pandas-datareader 0.9.0\n",
            "Uninstalling pandas-datareader-0.9.0:\n",
            "  Would remove:\n",
            "    /usr/local/lib/python3.7/dist-packages/pandas_datareader-0.9.0.dist-info/*\n",
            "    /usr/local/lib/python3.7/dist-packages/pandas_datareader/*\n",
            "Proceed (y/n)? y\n",
            "  Successfully uninstalled pandas-datareader-0.9.0\n",
            "Collecting yfinance\n",
            "  Downloading yfinance-0.1.67-py2.py3-none-any.whl (25 kB)\n",
            "Requirement already satisfied: pandas>=0.24 in /usr/local/lib/python3.7/dist-packages (from yfinance) (1.1.5)\n",
            "Requirement already satisfied: numpy>=1.15 in /usr/local/lib/python3.7/dist-packages (from yfinance) (1.19.5)\n",
            "Requirement already satisfied: multitasking>=0.0.7 in /usr/local/lib/python3.7/dist-packages (from yfinance) (0.0.10)\n",
            "Collecting lxml>=4.5.1\n",
            "  Downloading lxml-4.6.4-cp37-cp37m-manylinux_2_17_x86_64.manylinux2014_x86_64.manylinux_2_24_x86_64.whl (6.3 MB)\n",
            "\u001b[K     |████████████████████████████████| 6.3 MB 6.1 MB/s \n",
            "\u001b[?25hRequirement already satisfied: requests>=2.20 in /usr/local/lib/python3.7/dist-packages (from yfinance) (2.23.0)\n",
            "Requirement already satisfied: pytz>=2017.2 in /usr/local/lib/python3.7/dist-packages (from pandas>=0.24->yfinance) (2018.9)\n",
            "Requirement already satisfied: python-dateutil>=2.7.3 in /usr/local/lib/python3.7/dist-packages (from pandas>=0.24->yfinance) (2.8.2)\n",
            "Requirement already satisfied: six>=1.5 in /usr/local/lib/python3.7/dist-packages (from python-dateutil>=2.7.3->pandas>=0.24->yfinance) (1.15.0)\n",
            "Requirement already satisfied: urllib3!=1.25.0,!=1.25.1,<1.26,>=1.21.1 in /usr/local/lib/python3.7/dist-packages (from requests>=2.20->yfinance) (1.24.3)\n",
            "Requirement already satisfied: idna<3,>=2.5 in /usr/local/lib/python3.7/dist-packages (from requests>=2.20->yfinance) (2.10)\n",
            "Requirement already satisfied: certifi>=2017.4.17 in /usr/local/lib/python3.7/dist-packages (from requests>=2.20->yfinance) (2021.10.8)\n",
            "Requirement already satisfied: chardet<4,>=3.0.2 in /usr/local/lib/python3.7/dist-packages (from requests>=2.20->yfinance) (3.0.4)\n",
            "Installing collected packages: lxml, yfinance\n",
            "  Attempting uninstall: lxml\n",
            "    Found existing installation: lxml 4.2.6\n",
            "    Uninstalling lxml-4.2.6:\n",
            "      Successfully uninstalled lxml-4.2.6\n",
            "Successfully installed lxml-4.6.4 yfinance-0.1.67\n",
            "Collecting pandas-datareader\n",
            "  Downloading pandas_datareader-0.10.0-py3-none-any.whl (109 kB)\n",
            "\u001b[K     |████████████████████████████████| 109 kB 5.3 MB/s \n",
            "\u001b[?25hRequirement already satisfied: lxml in /usr/local/lib/python3.7/dist-packages (from pandas-datareader) (4.6.4)\n",
            "Requirement already satisfied: requests>=2.19.0 in /usr/local/lib/python3.7/dist-packages (from pandas-datareader) (2.23.0)\n",
            "Requirement already satisfied: pandas>=0.23 in /usr/local/lib/python3.7/dist-packages (from pandas-datareader) (1.1.5)\n",
            "Requirement already satisfied: python-dateutil>=2.7.3 in /usr/local/lib/python3.7/dist-packages (from pandas>=0.23->pandas-datareader) (2.8.2)\n",
            "Requirement already satisfied: pytz>=2017.2 in /usr/local/lib/python3.7/dist-packages (from pandas>=0.23->pandas-datareader) (2018.9)\n",
            "Requirement already satisfied: numpy>=1.15.4 in /usr/local/lib/python3.7/dist-packages (from pandas>=0.23->pandas-datareader) (1.19.5)\n",
            "Requirement already satisfied: six>=1.5 in /usr/local/lib/python3.7/dist-packages (from python-dateutil>=2.7.3->pandas>=0.23->pandas-datareader) (1.15.0)\n",
            "Requirement already satisfied: urllib3!=1.25.0,!=1.25.1,<1.26,>=1.21.1 in /usr/local/lib/python3.7/dist-packages (from requests>=2.19.0->pandas-datareader) (1.24.3)\n",
            "Requirement already satisfied: idna<3,>=2.5 in /usr/local/lib/python3.7/dist-packages (from requests>=2.19.0->pandas-datareader) (2.10)\n",
            "Requirement already satisfied: certifi>=2017.4.17 in /usr/local/lib/python3.7/dist-packages (from requests>=2.19.0->pandas-datareader) (2021.10.8)\n",
            "Requirement already satisfied: chardet<4,>=3.0.2 in /usr/local/lib/python3.7/dist-packages (from requests>=2.19.0->pandas-datareader) (3.0.4)\n",
            "Installing collected packages: pandas-datareader\n",
            "Successfully installed pandas-datareader-0.10.0\n"
          ]
        }
      ],
      "source": [
        "!pip uninstall yfinance\n",
        "!pip uninstall pandas-datareader\n",
        "!pip install yfinance --upgrade --no-cache-dir\n",
        "!pip install pandas-datareader"
      ]
    },
    {
      "cell_type": "code",
      "source": [
        "import numpy as np\n",
        "import pandas as pd\n",
        "import matplotlib.pyplot as plt\n",
        "import pandas_datareader as data"
      ],
      "metadata": {
        "id": "1ToRhQ2SSnPx"
      },
      "execution_count": 2,
      "outputs": []
    },
    {
      "cell_type": "code",
      "source": [
        "from datetime import date\n",
        "from dateutil.relativedelta import relativedelta\n",
        "\n",
        "start = date.today() - relativedelta(years=5)\n",
        "end   = date.today()\n",
        "\n",
        "dataframe = data.DataReader('AAPL','yahoo',start,end)\n",
        "dataframe.head()"
      ],
      "metadata": {
        "colab": {
          "base_uri": "https://localhost:8080/",
          "height": 238
        },
        "id": "Jav7FbHHSnOL",
        "outputId": "8546f2aa-c65b-45e2-c406-963fbfa5d275"
      },
      "execution_count": 3,
      "outputs": [
        {
          "output_type": "execute_result",
          "data": {
            "text/html": [
              "<div>\n",
              "<style scoped>\n",
              "    .dataframe tbody tr th:only-of-type {\n",
              "        vertical-align: middle;\n",
              "    }\n",
              "\n",
              "    .dataframe tbody tr th {\n",
              "        vertical-align: top;\n",
              "    }\n",
              "\n",
              "    .dataframe thead th {\n",
              "        text-align: right;\n",
              "    }\n",
              "</style>\n",
              "<table border=\"1\" class=\"dataframe\">\n",
              "  <thead>\n",
              "    <tr style=\"text-align: right;\">\n",
              "      <th></th>\n",
              "      <th>High</th>\n",
              "      <th>Low</th>\n",
              "      <th>Open</th>\n",
              "      <th>Close</th>\n",
              "      <th>Volume</th>\n",
              "      <th>Adj Close</th>\n",
              "    </tr>\n",
              "    <tr>\n",
              "      <th>Date</th>\n",
              "      <th></th>\n",
              "      <th></th>\n",
              "      <th></th>\n",
              "      <th></th>\n",
              "      <th></th>\n",
              "      <th></th>\n",
              "    </tr>\n",
              "  </thead>\n",
              "  <tbody>\n",
              "    <tr>\n",
              "      <th>2016-12-12</th>\n",
              "      <td>115.000000</td>\n",
              "      <td>112.489998</td>\n",
              "      <td>113.290001</td>\n",
              "      <td>113.300003</td>\n",
              "      <td>26374377.0</td>\n",
              "      <td>110.569832</td>\n",
              "    </tr>\n",
              "    <tr>\n",
              "      <th>2016-12-13</th>\n",
              "      <td>115.919998</td>\n",
              "      <td>113.750000</td>\n",
              "      <td>113.839996</td>\n",
              "      <td>115.190002</td>\n",
              "      <td>43733811.0</td>\n",
              "      <td>112.414284</td>\n",
              "    </tr>\n",
              "    <tr>\n",
              "      <th>2016-12-14</th>\n",
              "      <td>116.199997</td>\n",
              "      <td>114.980003</td>\n",
              "      <td>115.040001</td>\n",
              "      <td>115.190002</td>\n",
              "      <td>34031834.0</td>\n",
              "      <td>112.414284</td>\n",
              "    </tr>\n",
              "    <tr>\n",
              "      <th>2016-12-15</th>\n",
              "      <td>116.730003</td>\n",
              "      <td>115.230003</td>\n",
              "      <td>115.379997</td>\n",
              "      <td>115.820000</td>\n",
              "      <td>46524544.0</td>\n",
              "      <td>113.029121</td>\n",
              "    </tr>\n",
              "    <tr>\n",
              "      <th>2016-12-16</th>\n",
              "      <td>116.500000</td>\n",
              "      <td>115.644997</td>\n",
              "      <td>116.470001</td>\n",
              "      <td>115.970001</td>\n",
              "      <td>44351134.0</td>\n",
              "      <td>113.175491</td>\n",
              "    </tr>\n",
              "  </tbody>\n",
              "</table>\n",
              "</div>"
            ],
            "text/plain": [
              "                  High         Low  ...      Volume   Adj Close\n",
              "Date                                ...                        \n",
              "2016-12-12  115.000000  112.489998  ...  26374377.0  110.569832\n",
              "2016-12-13  115.919998  113.750000  ...  43733811.0  112.414284\n",
              "2016-12-14  116.199997  114.980003  ...  34031834.0  112.414284\n",
              "2016-12-15  116.730003  115.230003  ...  46524544.0  113.029121\n",
              "2016-12-16  116.500000  115.644997  ...  44351134.0  113.175491\n",
              "\n",
              "[5 rows x 6 columns]"
            ]
          },
          "metadata": {},
          "execution_count": 3
        }
      ]
    },
    {
      "cell_type": "code",
      "source": [
        "  df = dataframe.reset_index()\n",
        "  df"
      ],
      "metadata": {
        "colab": {
          "base_uri": "https://localhost:8080/",
          "height": 424
        },
        "id": "-UYxkhUgSnMG",
        "outputId": "5fdca461-b6e9-48ff-c251-1a930961da28"
      },
      "execution_count": 4,
      "outputs": [
        {
          "output_type": "execute_result",
          "data": {
            "text/html": [
              "<div>\n",
              "<style scoped>\n",
              "    .dataframe tbody tr th:only-of-type {\n",
              "        vertical-align: middle;\n",
              "    }\n",
              "\n",
              "    .dataframe tbody tr th {\n",
              "        vertical-align: top;\n",
              "    }\n",
              "\n",
              "    .dataframe thead th {\n",
              "        text-align: right;\n",
              "    }\n",
              "</style>\n",
              "<table border=\"1\" class=\"dataframe\">\n",
              "  <thead>\n",
              "    <tr style=\"text-align: right;\">\n",
              "      <th></th>\n",
              "      <th>Date</th>\n",
              "      <th>High</th>\n",
              "      <th>Low</th>\n",
              "      <th>Open</th>\n",
              "      <th>Close</th>\n",
              "      <th>Volume</th>\n",
              "      <th>Adj Close</th>\n",
              "    </tr>\n",
              "  </thead>\n",
              "  <tbody>\n",
              "    <tr>\n",
              "      <th>0</th>\n",
              "      <td>2016-12-12</td>\n",
              "      <td>115.000000</td>\n",
              "      <td>112.489998</td>\n",
              "      <td>113.290001</td>\n",
              "      <td>113.300003</td>\n",
              "      <td>26374377.0</td>\n",
              "      <td>110.569832</td>\n",
              "    </tr>\n",
              "    <tr>\n",
              "      <th>1</th>\n",
              "      <td>2016-12-13</td>\n",
              "      <td>115.919998</td>\n",
              "      <td>113.750000</td>\n",
              "      <td>113.839996</td>\n",
              "      <td>115.190002</td>\n",
              "      <td>43733811.0</td>\n",
              "      <td>112.414284</td>\n",
              "    </tr>\n",
              "    <tr>\n",
              "      <th>2</th>\n",
              "      <td>2016-12-14</td>\n",
              "      <td>116.199997</td>\n",
              "      <td>114.980003</td>\n",
              "      <td>115.040001</td>\n",
              "      <td>115.190002</td>\n",
              "      <td>34031834.0</td>\n",
              "      <td>112.414284</td>\n",
              "    </tr>\n",
              "    <tr>\n",
              "      <th>3</th>\n",
              "      <td>2016-12-15</td>\n",
              "      <td>116.730003</td>\n",
              "      <td>115.230003</td>\n",
              "      <td>115.379997</td>\n",
              "      <td>115.820000</td>\n",
              "      <td>46524544.0</td>\n",
              "      <td>113.029121</td>\n",
              "    </tr>\n",
              "    <tr>\n",
              "      <th>4</th>\n",
              "      <td>2016-12-16</td>\n",
              "      <td>116.500000</td>\n",
              "      <td>115.644997</td>\n",
              "      <td>116.470001</td>\n",
              "      <td>115.970001</td>\n",
              "      <td>44351134.0</td>\n",
              "      <td>113.175491</td>\n",
              "    </tr>\n",
              "    <tr>\n",
              "      <th>...</th>\n",
              "      <td>...</td>\n",
              "      <td>...</td>\n",
              "      <td>...</td>\n",
              "      <td>...</td>\n",
              "      <td>...</td>\n",
              "      <td>...</td>\n",
              "      <td>...</td>\n",
              "    </tr>\n",
              "    <tr>\n",
              "      <th>1254</th>\n",
              "      <td>2021-12-06</td>\n",
              "      <td>167.879898</td>\n",
              "      <td>164.279999</td>\n",
              "      <td>164.289993</td>\n",
              "      <td>165.320007</td>\n",
              "      <td>107496982.0</td>\n",
              "      <td>165.320007</td>\n",
              "    </tr>\n",
              "    <tr>\n",
              "      <th>1255</th>\n",
              "      <td>2021-12-07</td>\n",
              "      <td>171.580002</td>\n",
              "      <td>168.339996</td>\n",
              "      <td>169.080002</td>\n",
              "      <td>171.179993</td>\n",
              "      <td>120405352.0</td>\n",
              "      <td>171.179993</td>\n",
              "    </tr>\n",
              "    <tr>\n",
              "      <th>1256</th>\n",
              "      <td>2021-12-08</td>\n",
              "      <td>175.960007</td>\n",
              "      <td>170.699997</td>\n",
              "      <td>172.125000</td>\n",
              "      <td>175.080002</td>\n",
              "      <td>116998901.0</td>\n",
              "      <td>175.080002</td>\n",
              "    </tr>\n",
              "    <tr>\n",
              "      <th>1257</th>\n",
              "      <td>2021-12-09</td>\n",
              "      <td>176.750000</td>\n",
              "      <td>173.919998</td>\n",
              "      <td>174.910004</td>\n",
              "      <td>174.559998</td>\n",
              "      <td>108157647.0</td>\n",
              "      <td>174.559998</td>\n",
              "    </tr>\n",
              "    <tr>\n",
              "      <th>1258</th>\n",
              "      <td>2021-12-10</td>\n",
              "      <td>179.630005</td>\n",
              "      <td>174.690002</td>\n",
              "      <td>175.205002</td>\n",
              "      <td>179.449997</td>\n",
              "      <td>110986702.0</td>\n",
              "      <td>179.449997</td>\n",
              "    </tr>\n",
              "  </tbody>\n",
              "</table>\n",
              "<p>1259 rows × 7 columns</p>\n",
              "</div>"
            ],
            "text/plain": [
              "           Date        High         Low  ...       Close       Volume   Adj Close\n",
              "0    2016-12-12  115.000000  112.489998  ...  113.300003   26374377.0  110.569832\n",
              "1    2016-12-13  115.919998  113.750000  ...  115.190002   43733811.0  112.414284\n",
              "2    2016-12-14  116.199997  114.980003  ...  115.190002   34031834.0  112.414284\n",
              "3    2016-12-15  116.730003  115.230003  ...  115.820000   46524544.0  113.029121\n",
              "4    2016-12-16  116.500000  115.644997  ...  115.970001   44351134.0  113.175491\n",
              "...         ...         ...         ...  ...         ...          ...         ...\n",
              "1254 2021-12-06  167.879898  164.279999  ...  165.320007  107496982.0  165.320007\n",
              "1255 2021-12-07  171.580002  168.339996  ...  171.179993  120405352.0  171.179993\n",
              "1256 2021-12-08  175.960007  170.699997  ...  175.080002  116998901.0  175.080002\n",
              "1257 2021-12-09  176.750000  173.919998  ...  174.559998  108157647.0  174.559998\n",
              "1258 2021-12-10  179.630005  174.690002  ...  179.449997  110986702.0  179.449997\n",
              "\n",
              "[1259 rows x 7 columns]"
            ]
          },
          "metadata": {},
          "execution_count": 4
        }
      ]
    },
    {
      "cell_type": "code",
      "source": [
        "df = df.drop(['Date','Adj Close'], axis=1)"
      ],
      "metadata": {
        "id": "KLQLMu3kSnJl"
      },
      "execution_count": 5,
      "outputs": []
    },
    {
      "cell_type": "code",
      "source": [
        "train_data = pd.DataFrame(df['Close'][0:int(len(df)*0.70)])\n",
        "test_data = pd.DataFrame(df['Close'][int(len(df)*0.70):int(len(df))])\n",
        "\n",
        "print(train_data.shape)\n",
        "print(test_data.shape)"
      ],
      "metadata": {
        "colab": {
          "base_uri": "https://localhost:8080/"
        },
        "id": "yZ2ZcEFxSnHP",
        "outputId": "e7ec8722-263c-4d1e-b456-92cac8aace30"
      },
      "execution_count": 6,
      "outputs": [
        {
          "output_type": "stream",
          "name": "stdout",
          "text": [
            "(881, 1)\n",
            "(378, 1)\n"
          ]
        }
      ]
    },
    {
      "cell_type": "code",
      "source": [
        "from sklearn.preprocessing import MinMaxScaler\n",
        "scaler=MinMaxScaler(feature_range=(0,1))\n",
        "\n",
        "train_data_array = scaler.fit_transform(train_data)\n"
      ],
      "metadata": {
        "id": "OGYs_qS3SnEo"
      },
      "execution_count": 7,
      "outputs": []
    },
    {
      "cell_type": "code",
      "source": [
        "X_train = []\n",
        "y_train = [] \n",
        "\n",
        "for i in range(100,train_data_array.shape[0]):\n",
        "  X_train.append(train_data_array[i-100:i])\n",
        "  y_train.append(train_data_array[i,0])\n",
        "\n",
        "X_train,y_train = np.array(X_train),np.array(y_train)"
      ],
      "metadata": {
        "id": "X-S85k4eSnCQ"
      },
      "execution_count": 8,
      "outputs": []
    },
    {
      "cell_type": "code",
      "source": [
        "### Create the Stacked LSTM model\n",
        "from tensorflow.keras.models import Sequential\n",
        "from tensorflow.keras.layers import Dense,Dropout,Conv1D\n",
        "from tensorflow.keras.layers import LSTM"
      ],
      "metadata": {
        "id": "mb44hPMmSm_9"
      },
      "execution_count": 10,
      "outputs": []
    },
    {
      "cell_type": "code",
      "source": [
        "keras_model = Sequential([\n",
        "    Conv1D(filters=128, kernel_size=5, input_shape=(100, 1), strides=1, padding=\"causal\", activation=\"tanh\"),\n",
        "    Conv1D(filters=128, kernel_size=5, strides=1, padding=\"causal\", activation=\"tanh\"),\n",
        "    LSTM(128, return_sequences=True),\n",
        "    LSTM(128),\n",
        "    Dense(64, activation=\"tanh\"),\n",
        "    Dense(64, activation=\"tanh\"),\n",
        "    Dense(1)\n",
        "])\n",
        "keras_model.summary()"
      ],
      "metadata": {
        "colab": {
          "base_uri": "https://localhost:8080/"
        },
        "id": "gU1qXsYySm9J",
        "outputId": "55595700-3797-4f37-e864-988f4736e5c5"
      },
      "execution_count": 31,
      "outputs": [
        {
          "output_type": "stream",
          "name": "stdout",
          "text": [
            "Model: \"sequential_1\"\n",
            "_________________________________________________________________\n",
            " Layer (type)                Output Shape              Param #   \n",
            "=================================================================\n",
            " conv1d_2 (Conv1D)           (None, 100, 128)          768       \n",
            "                                                                 \n",
            " conv1d_3 (Conv1D)           (None, 100, 128)          82048     \n",
            "                                                                 \n",
            " lstm_2 (LSTM)               (None, 100, 128)          131584    \n",
            "                                                                 \n",
            " lstm_3 (LSTM)               (None, 128)               131584    \n",
            "                                                                 \n",
            " dense_3 (Dense)             (None, 64)                8256      \n",
            "                                                                 \n",
            " dense_4 (Dense)             (None, 64)                4160      \n",
            "                                                                 \n",
            " dense_5 (Dense)             (None, 1)                 65        \n",
            "                                                                 \n",
            "=================================================================\n",
            "Total params: 358,465\n",
            "Trainable params: 358,465\n",
            "Non-trainable params: 0\n",
            "_________________________________________________________________\n"
          ]
        }
      ]
    },
    {
      "cell_type": "code",
      "source": [
        "keras_model.compile(loss='mean_squared_error',optimizer='adam')"
      ],
      "metadata": {
        "id": "cWximG3PSm68"
      },
      "execution_count": 32,
      "outputs": []
    },
    {
      "cell_type": "code",
      "source": [
        "keras_model.fit(X_train,y_train,epochs=10)"
      ],
      "metadata": {
        "colab": {
          "base_uri": "https://localhost:8080/"
        },
        "id": "muI-rhyLL_ax",
        "outputId": "914ad5e8-1de3-41ec-b47b-138e8a3b6ba9"
      },
      "execution_count": 33,
      "outputs": [
        {
          "output_type": "stream",
          "name": "stdout",
          "text": [
            "Epoch 1/10\n",
            "25/25 [==============================] - 12s 316ms/step - loss: 0.0215\n",
            "Epoch 2/10\n",
            "25/25 [==============================] - 8s 313ms/step - loss: 0.0075\n",
            "Epoch 3/10\n",
            "25/25 [==============================] - 8s 312ms/step - loss: 0.0056\n",
            "Epoch 4/10\n",
            "25/25 [==============================] - 8s 310ms/step - loss: 0.0070\n",
            "Epoch 5/10\n",
            "25/25 [==============================] - 8s 316ms/step - loss: 0.0057\n",
            "Epoch 6/10\n",
            "25/25 [==============================] - 8s 313ms/step - loss: 0.0046\n",
            "Epoch 7/10\n",
            "25/25 [==============================] - 8s 315ms/step - loss: 0.0046\n",
            "Epoch 8/10\n",
            "25/25 [==============================] - 8s 316ms/step - loss: 0.0040\n",
            "Epoch 9/10\n",
            "25/25 [==============================] - 8s 313ms/step - loss: 0.0035\n",
            "Epoch 10/10\n",
            "25/25 [==============================] - 8s 312ms/step - loss: 0.0039\n"
          ]
        },
        {
          "output_type": "execute_result",
          "data": {
            "text/plain": [
              "<keras.callbacks.History at 0x7f3fbd145890>"
            ]
          },
          "metadata": {},
          "execution_count": 33
        }
      ]
    },
    {
      "cell_type": "code",
      "source": [
        "import sklearn.metrics as metrics\n",
        "\n",
        "# Caluculate MAE, MSE, RMSE and R2 score\n",
        "mae = metrics.mean_absolute_error(y_test, y_pred)\n",
        "mse = metrics.mean_squared_error(y_test, y_pred)\n",
        "rmse = np.sqrt(mse) \n",
        "r2   = keras_model.evaluate(X_train, y_train)\n",
        "\n",
        "# print results\n",
        "print(\"Results of Model Evaluation: \")\n",
        "print(\"\\nMean Absolute error (MAE):\", mae)\n",
        "print(\"\\nMean squared error regression loss (MSE):\", mse)\n",
        "print(\"\\nRoot Mean squared error (RMSE):\", rmse)\n",
        "print(\"\\nR^2 Score:\", r2)"
      ],
      "metadata": {
        "colab": {
          "base_uri": "https://localhost:8080/"
        },
        "id": "H5509bsqUUwy",
        "outputId": "225f1e08-1bd5-402e-b104-e502f18c7f4a"
      },
      "execution_count": 34,
      "outputs": [
        {
          "output_type": "stream",
          "name": "stdout",
          "text": [
            "25/25 [==============================] - 3s 84ms/step - loss: 0.0025\n",
            "Results of Model Evaluation: \n",
            "\n",
            "Mean Absolute error (MAE): 1254.6997561182889\n",
            "\n",
            "Mean squared error regression loss (MSE): 1779322.3951714754\n",
            "\n",
            "Root Mean squared error (RMSE): 1333.9124390946638\n",
            "\n",
            "R^2 Score: 0.0024559851735830307\n"
          ]
        }
      ]
    },
    {
      "cell_type": "code",
      "source": [
        "past_100_days = train_data.tail(100)"
      ],
      "metadata": {
        "id": "4Qt3WjgvL_Xc"
      },
      "execution_count": 35,
      "outputs": []
    },
    {
      "cell_type": "code",
      "source": [
        "final_df = past_100_days.append(test_data,ignore_index=True)"
      ],
      "metadata": {
        "id": "e40ZG-dKL_U6"
      },
      "execution_count": 36,
      "outputs": []
    },
    {
      "cell_type": "code",
      "source": [
        "input_data = scaler.fit_transform(final_df)\n",
        "input_data.shape"
      ],
      "metadata": {
        "colab": {
          "base_uri": "https://localhost:8080/"
        },
        "id": "tdy_-f5nMV3u",
        "outputId": "b599a271-0796-4d36-d7ac-68bf5e55543a"
      },
      "execution_count": 37,
      "outputs": [
        {
          "output_type": "execute_result",
          "data": {
            "text/plain": [
              "(478, 1)"
            ]
          },
          "metadata": {},
          "execution_count": 37
        }
      ]
    },
    {
      "cell_type": "code",
      "source": [
        "X_test = []\n",
        "y_test = []\n",
        "\n",
        "for i in range(100, input_data.shape[0]):\n",
        "  X_test.append(input_data[i-100:i])\n",
        "  y_test.append(input_data[i,0])"
      ],
      "metadata": {
        "id": "JurH_IgaMV0V"
      },
      "execution_count": 38,
      "outputs": []
    },
    {
      "cell_type": "code",
      "source": [
        "X_test,y_test = np.array(X_test),np.array(y_test)\n",
        "\n",
        "print(X_test.shape)\n",
        "print(y_test.shape)"
      ],
      "metadata": {
        "colab": {
          "base_uri": "https://localhost:8080/"
        },
        "id": "T-rLlupDMVx6",
        "outputId": "b71ea637-0c12-4086-b6e9-8966a8766ad0"
      },
      "execution_count": 39,
      "outputs": [
        {
          "output_type": "stream",
          "name": "stdout",
          "text": [
            "(378, 100, 1)\n",
            "(378,)\n"
          ]
        }
      ]
    },
    {
      "cell_type": "code",
      "source": [
        "y_pred = keras_model.predict(X_test)"
      ],
      "metadata": {
        "id": "NMt1vVENMVvs"
      },
      "execution_count": 40,
      "outputs": []
    },
    {
      "cell_type": "code",
      "source": [
        " scaler.scale_"
      ],
      "metadata": {
        "colab": {
          "base_uri": "https://localhost:8080/"
        },
        "id": "97mQClsdMVs6",
        "outputId": "7aac453a-66b3-438d-98ed-bd4b92df3dfc"
      },
      "execution_count": 41,
      "outputs": [
        {
          "output_type": "execute_result",
          "data": {
            "text/plain": [
              "array([0.00368857])"
            ]
          },
          "metadata": {},
          "execution_count": 41
        }
      ]
    },
    {
      "cell_type": "code",
      "source": [
        "scale_factor = 1/0.00368857\n",
        "y_pred = y_pred*scale_factor\n",
        "y_test = y_test * scale_factor"
      ],
      "metadata": {
        "id": "h5MIuvHUMuwq"
      },
      "execution_count": 42,
      "outputs": []
    },
    {
      "cell_type": "code",
      "source": [
        "plt.figure(figsize=(12,6))\n",
        "plt.plot(y_test,'b',label='Original Price')\n",
        "plt.plot(y_pred,'r',label='Predicted price')\n",
        "plt.xlabel('Time')\n",
        "plt.ylabel('Price')\n",
        "plt.legend()\n",
        "plt.show()"
      ],
      "metadata": {
        "colab": {
          "base_uri": "https://localhost:8080/",
          "height": 388
        },
        "id": "bEy1JtXyMuuJ",
        "outputId": "c5f5282f-94ad-4a3b-a2b0-6f2e1b4245b8"
      },
      "execution_count": 43,
      "outputs": [
        {
          "output_type": "display_data",
          "data": {
            "image/png": "[encoded data removed]",
            "text/plain": [
              "<Figure size 864x432 with 1 Axes>"
            ]
          },
          "metadata": {
            "needs_background": "light"
          }
        }
      ]
    },
    {
      "cell_type": "code",
      "source": [
        ""
      ],
      "metadata": {
        "id": "lkWcOeijMurs"
      },
      "execution_count": null,
      "outputs": []
    },
    {
      "cell_type": "code",
      "source": [
        ""
      ],
      "metadata": {
        "id": "Dqie8TMeMuov"
      },
      "execution_count": null,
      "outputs": []
    }
  ]
}