{
  "nbformat": 4,
  "nbformat_minor": 0,
  "metadata": {
    "colab": {
      "name": "StockPrediction_GRU.ipynb",
      "provenance": [],
      "collapsed_sections": []
    },
    "kernelspec": {
      "name": "python3",
      "display_name": "Python 3"
    },
    "language_info": {
      "name": "python"
    },
    "accelerator": "GPU"
  },
  "cells": [
    {
      "cell_type": "code",
      "metadata": {
        "colab": {
          "base_uri": "https://localhost:8080/"
        },
        "id": "CaLFqvTWkP8i",
        "outputId": "21e2bb62-7fb9-4742-a27b-ac357061875d"
      },
      "source": [
        "!pip uninstall yfinance\n",
        "!pip uninstall pandas-datareader\n",
        "!pip install yfinance --upgrade --no-cache-dir\n",
        "!pip install pandas-datareader"
      ],
      "execution_count": 1,
      "outputs": [
        {
          "output_type": "stream",
          "name": "stdout",
          "text": [
            "\u001b[33mWARNING: Skipping yfinance as it is not installed.\u001b[0m\n",
            "Found existing installation: pandas-datareader 0.9.0\n",
            "Uninstalling pandas-datareader-0.9.0:\n",
            "  Would remove:\n",
            "    /usr/local/lib/python3.7/dist-packages/pandas_datareader-0.9.0.dist-info/*\n",
            "    /usr/local/lib/python3.7/dist-packages/pandas_datareader/*\n",
            "Proceed (y/n)? y\n",
            "  Successfully uninstalled pandas-datareader-0.9.0\n",
            "Collecting yfinance\n",
            "  Downloading yfinance-0.1.67-py2.py3-none-any.whl (25 kB)\n",
            "Requirement already satisfied: multitasking>=0.0.7 in /usr/local/lib/python3.7/dist-packages (from yfinance) (0.0.10)\n",
            "Collecting lxml>=4.5.1\n",
            "  Downloading lxml-4.6.5-cp37-cp37m-manylinux_2_17_x86_64.manylinux2014_x86_64.manylinux_2_24_x86_64.whl (6.3 MB)\n",
            "\u001b[K     |████████████████████████████████| 6.3 MB 6.1 MB/s \n",
            "\u001b[?25hRequirement already satisfied: numpy>=1.15 in /usr/local/lib/python3.7/dist-packages (from yfinance) (1.19.5)\n",
            "Requirement already satisfied: requests>=2.20 in /usr/local/lib/python3.7/dist-packages (from yfinance) (2.23.0)\n",
            "Requirement already satisfied: pandas>=0.24 in /usr/local/lib/python3.7/dist-packages (from yfinance) (1.1.5)\n",
            "Requirement already satisfied: pytz>=2017.2 in /usr/local/lib/python3.7/dist-packages (from pandas>=0.24->yfinance) (2018.9)\n",
            "Requirement already satisfied: python-dateutil>=2.7.3 in /usr/local/lib/python3.7/dist-packages (from pandas>=0.24->yfinance) (2.8.2)\n",
            "Requirement already satisfied: six>=1.5 in /usr/local/lib/python3.7/dist-packages (from python-dateutil>=2.7.3->pandas>=0.24->yfinance) (1.15.0)\n",
            "Requirement already satisfied: idna<3,>=2.5 in /usr/local/lib/python3.7/dist-packages (from requests>=2.20->yfinance) (2.10)\n",
            "Requirement already satisfied: chardet<4,>=3.0.2 in /usr/local/lib/python3.7/dist-packages (from requests>=2.20->yfinance) (3.0.4)\n",
            "Requirement already satisfied: urllib3!=1.25.0,!=1.25.1,<1.26,>=1.21.1 in /usr/local/lib/python3.7/dist-packages (from requests>=2.20->yfinance) (1.24.3)\n",
            "Requirement already satisfied: certifi>=2017.4.17 in /usr/local/lib/python3.7/dist-packages (from requests>=2.20->yfinance) (2021.10.8)\n",
            "Installing collected packages: lxml, yfinance\n",
            "  Attempting uninstall: lxml\n",
            "    Found existing installation: lxml 4.2.6\n",
            "    Uninstalling lxml-4.2.6:\n",
            "      Successfully uninstalled lxml-4.2.6\n",
            "Successfully installed lxml-4.6.5 yfinance-0.1.67\n",
            "Collecting pandas-datareader\n",
            "  Downloading pandas_datareader-0.10.0-py3-none-any.whl (109 kB)\n",
            "\u001b[K     |████████████████████████████████| 109 kB 5.5 MB/s \n",
            "\u001b[?25hRequirement already satisfied: requests>=2.19.0 in /usr/local/lib/python3.7/dist-packages (from pandas-datareader) (2.23.0)\n",
            "Requirement already satisfied: pandas>=0.23 in /usr/local/lib/python3.7/dist-packages (from pandas-datareader) (1.1.5)\n",
            "Requirement already satisfied: lxml in /usr/local/lib/python3.7/dist-packages (from pandas-datareader) (4.6.5)\n",
            "Requirement already satisfied: pytz>=2017.2 in /usr/local/lib/python3.7/dist-packages (from pandas>=0.23->pandas-datareader) (2018.9)\n",
            "Requirement already satisfied: python-dateutil>=2.7.3 in /usr/local/lib/python3.7/dist-packages (from pandas>=0.23->pandas-datareader) (2.8.2)\n",
            "Requirement already satisfied: numpy>=1.15.4 in /usr/local/lib/python3.7/dist-packages (from pandas>=0.23->pandas-datareader) (1.19.5)\n",
            "Requirement already satisfied: six>=1.5 in /usr/local/lib/python3.7/dist-packages (from python-dateutil>=2.7.3->pandas>=0.23->pandas-datareader) (1.15.0)\n",
            "Requirement already satisfied: urllib3!=1.25.0,!=1.25.1,<1.26,>=1.21.1 in /usr/local/lib/python3.7/dist-packages (from requests>=2.19.0->pandas-datareader) (1.24.3)\n",
            "Requirement already satisfied: certifi>=2017.4.17 in /usr/local/lib/python3.7/dist-packages (from requests>=2.19.0->pandas-datareader) (2021.10.8)\n",
            "Requirement already satisfied: chardet<4,>=3.0.2 in /usr/local/lib/python3.7/dist-packages (from requests>=2.19.0->pandas-datareader) (3.0.4)\n",
            "Requirement already satisfied: idna<3,>=2.5 in /usr/local/lib/python3.7/dist-packages (from requests>=2.19.0->pandas-datareader) (2.10)\n",
            "Installing collected packages: pandas-datareader\n",
            "Successfully installed pandas-datareader-0.10.0\n"
          ]
        }
      ]
    },
    {
      "cell_type": "code",
      "metadata": {
        "id": "hCW3XxVlgg_o"
      },
      "source": [
        "import numpy as np\n",
        "import pandas as pd\n",
        "import matplotlib.pyplot as plt\n",
        "import pandas_datareader as data"
      ],
      "execution_count": 41,
      "outputs": []
    },
    {
      "cell_type": "code",
      "metadata": {
        "colab": {
          "base_uri": "https://localhost:8080/",
          "height": 238
        },
        "id": "giGLKbbag1-D",
        "outputId": "77f20b30-4edc-47a6-f0fc-32252a21627a"
      },
      "source": [
        "from datetime import date\n",
        "from dateutil.relativedelta import relativedelta\n",
        "\n",
        "start = date.today() - relativedelta(years=5)\n",
        "end   = date.today()\n",
        "\n",
        "dataframe = data.DataReader('AAPL','yahoo',start,end)\n",
        "dataframe.head()"
      ],
      "execution_count": 42,
      "outputs": [
        {
          "output_type": "execute_result",
          "data": {
            "text/html": [
              "<div>\n",
              "<style scoped>\n",
              "    .dataframe tbody tr th:only-of-type {\n",
              "        vertical-align: middle;\n",
              "    }\n",
              "\n",
              "    .dataframe tbody tr th {\n",
              "        vertical-align: top;\n",
              "    }\n",
              "\n",
              "    .dataframe thead th {\n",
              "        text-align: right;\n",
              "    }\n",
              "</style>\n",
              "<table border=\"1\" class=\"dataframe\">\n",
              "  <thead>\n",
              "    <tr style=\"text-align: right;\">\n",
              "      <th></th>\n",
              "      <th>High</th>\n",
              "      <th>Low</th>\n",
              "      <th>Open</th>\n",
              "      <th>Close</th>\n",
              "      <th>Volume</th>\n",
              "      <th>Adj Close</th>\n",
              "    </tr>\n",
              "    <tr>\n",
              "      <th>Date</th>\n",
              "      <th></th>\n",
              "      <th></th>\n",
              "      <th></th>\n",
              "      <th></th>\n",
              "      <th></th>\n",
              "      <th></th>\n",
              "    </tr>\n",
              "  </thead>\n",
              "  <tbody>\n",
              "    <tr>\n",
              "      <th>2016-12-12</th>\n",
              "      <td>115.000000</td>\n",
              "      <td>112.489998</td>\n",
              "      <td>113.290001</td>\n",
              "      <td>113.300003</td>\n",
              "      <td>26374377.0</td>\n",
              "      <td>110.569847</td>\n",
              "    </tr>\n",
              "    <tr>\n",
              "      <th>2016-12-13</th>\n",
              "      <td>115.919998</td>\n",
              "      <td>113.750000</td>\n",
              "      <td>113.839996</td>\n",
              "      <td>115.190002</td>\n",
              "      <td>43733811.0</td>\n",
              "      <td>112.414307</td>\n",
              "    </tr>\n",
              "    <tr>\n",
              "      <th>2016-12-14</th>\n",
              "      <td>116.199997</td>\n",
              "      <td>114.980003</td>\n",
              "      <td>115.040001</td>\n",
              "      <td>115.190002</td>\n",
              "      <td>34031834.0</td>\n",
              "      <td>112.414307</td>\n",
              "    </tr>\n",
              "    <tr>\n",
              "      <th>2016-12-15</th>\n",
              "      <td>116.730003</td>\n",
              "      <td>115.230003</td>\n",
              "      <td>115.379997</td>\n",
              "      <td>115.820000</td>\n",
              "      <td>46524544.0</td>\n",
              "      <td>113.029099</td>\n",
              "    </tr>\n",
              "    <tr>\n",
              "      <th>2016-12-16</th>\n",
              "      <td>116.500000</td>\n",
              "      <td>115.644997</td>\n",
              "      <td>116.470001</td>\n",
              "      <td>115.970001</td>\n",
              "      <td>44351134.0</td>\n",
              "      <td>113.175491</td>\n",
              "    </tr>\n",
              "  </tbody>\n",
              "</table>\n",
              "</div>"
            ],
            "text/plain": [
              "                  High         Low  ...      Volume   Adj Close\n",
              "Date                                ...                        \n",
              "2016-12-12  115.000000  112.489998  ...  26374377.0  110.569847\n",
              "2016-12-13  115.919998  113.750000  ...  43733811.0  112.414307\n",
              "2016-12-14  116.199997  114.980003  ...  34031834.0  112.414307\n",
              "2016-12-15  116.730003  115.230003  ...  46524544.0  113.029099\n",
              "2016-12-16  116.500000  115.644997  ...  44351134.0  113.175491\n",
              "\n",
              "[5 rows x 6 columns]"
            ]
          },
          "metadata": {},
          "execution_count": 42
        }
      ]
    },
    {
      "cell_type": "code",
      "metadata": {
        "colab": {
          "base_uri": "https://localhost:8080/",
          "height": 424
        },
        "id": "e89Ztt1OmZIr",
        "outputId": "3ff68a7d-b9f4-4733-86a7-c1220a5e91c8"
      },
      "source": [
        "  df = dataframe.reset_index()\n",
        "  df"
      ],
      "execution_count": 43,
      "outputs": [
        {
          "output_type": "execute_result",
          "data": {
            "text/html": [
              "<div>\n",
              "<style scoped>\n",
              "    .dataframe tbody tr th:only-of-type {\n",
              "        vertical-align: middle;\n",
              "    }\n",
              "\n",
              "    .dataframe tbody tr th {\n",
              "        vertical-align: top;\n",
              "    }\n",
              "\n",
              "    .dataframe thead th {\n",
              "        text-align: right;\n",
              "    }\n",
              "</style>\n",
              "<table border=\"1\" class=\"dataframe\">\n",
              "  <thead>\n",
              "    <tr style=\"text-align: right;\">\n",
              "      <th></th>\n",
              "      <th>Date</th>\n",
              "      <th>High</th>\n",
              "      <th>Low</th>\n",
              "      <th>Open</th>\n",
              "      <th>Close</th>\n",
              "      <th>Volume</th>\n",
              "      <th>Adj Close</th>\n",
              "    </tr>\n",
              "  </thead>\n",
              "  <tbody>\n",
              "    <tr>\n",
              "      <th>0</th>\n",
              "      <td>2016-12-12</td>\n",
              "      <td>115.000000</td>\n",
              "      <td>112.489998</td>\n",
              "      <td>113.290001</td>\n",
              "      <td>113.300003</td>\n",
              "      <td>26374377.0</td>\n",
              "      <td>110.569847</td>\n",
              "    </tr>\n",
              "    <tr>\n",
              "      <th>1</th>\n",
              "      <td>2016-12-13</td>\n",
              "      <td>115.919998</td>\n",
              "      <td>113.750000</td>\n",
              "      <td>113.839996</td>\n",
              "      <td>115.190002</td>\n",
              "      <td>43733811.0</td>\n",
              "      <td>112.414307</td>\n",
              "    </tr>\n",
              "    <tr>\n",
              "      <th>2</th>\n",
              "      <td>2016-12-14</td>\n",
              "      <td>116.199997</td>\n",
              "      <td>114.980003</td>\n",
              "      <td>115.040001</td>\n",
              "      <td>115.190002</td>\n",
              "      <td>34031834.0</td>\n",
              "      <td>112.414307</td>\n",
              "    </tr>\n",
              "    <tr>\n",
              "      <th>3</th>\n",
              "      <td>2016-12-15</td>\n",
              "      <td>116.730003</td>\n",
              "      <td>115.230003</td>\n",
              "      <td>115.379997</td>\n",
              "      <td>115.820000</td>\n",
              "      <td>46524544.0</td>\n",
              "      <td>113.029099</td>\n",
              "    </tr>\n",
              "    <tr>\n",
              "      <th>4</th>\n",
              "      <td>2016-12-16</td>\n",
              "      <td>116.500000</td>\n",
              "      <td>115.644997</td>\n",
              "      <td>116.470001</td>\n",
              "      <td>115.970001</td>\n",
              "      <td>44351134.0</td>\n",
              "      <td>113.175491</td>\n",
              "    </tr>\n",
              "    <tr>\n",
              "      <th>...</th>\n",
              "      <td>...</td>\n",
              "      <td>...</td>\n",
              "      <td>...</td>\n",
              "      <td>...</td>\n",
              "      <td>...</td>\n",
              "      <td>...</td>\n",
              "      <td>...</td>\n",
              "    </tr>\n",
              "    <tr>\n",
              "      <th>1254</th>\n",
              "      <td>2021-12-06</td>\n",
              "      <td>167.879898</td>\n",
              "      <td>164.279999</td>\n",
              "      <td>164.289993</td>\n",
              "      <td>165.320007</td>\n",
              "      <td>107496982.0</td>\n",
              "      <td>165.320007</td>\n",
              "    </tr>\n",
              "    <tr>\n",
              "      <th>1255</th>\n",
              "      <td>2021-12-07</td>\n",
              "      <td>171.580002</td>\n",
              "      <td>168.339996</td>\n",
              "      <td>169.080002</td>\n",
              "      <td>171.179993</td>\n",
              "      <td>120405352.0</td>\n",
              "      <td>171.179993</td>\n",
              "    </tr>\n",
              "    <tr>\n",
              "      <th>1256</th>\n",
              "      <td>2021-12-08</td>\n",
              "      <td>175.960007</td>\n",
              "      <td>170.699997</td>\n",
              "      <td>172.125000</td>\n",
              "      <td>175.080002</td>\n",
              "      <td>116998901.0</td>\n",
              "      <td>175.080002</td>\n",
              "    </tr>\n",
              "    <tr>\n",
              "      <th>1257</th>\n",
              "      <td>2021-12-09</td>\n",
              "      <td>176.750000</td>\n",
              "      <td>173.919998</td>\n",
              "      <td>174.910004</td>\n",
              "      <td>174.559998</td>\n",
              "      <td>108157647.0</td>\n",
              "      <td>174.559998</td>\n",
              "    </tr>\n",
              "    <tr>\n",
              "      <th>1258</th>\n",
              "      <td>2021-12-10</td>\n",
              "      <td>179.630005</td>\n",
              "      <td>174.690002</td>\n",
              "      <td>175.205002</td>\n",
              "      <td>179.449997</td>\n",
              "      <td>110986702.0</td>\n",
              "      <td>179.449997</td>\n",
              "    </tr>\n",
              "  </tbody>\n",
              "</table>\n",
              "<p>1259 rows × 7 columns</p>\n",
              "</div>"
            ],
            "text/plain": [
              "           Date        High         Low  ...       Close       Volume   Adj Close\n",
              "0    2016-12-12  115.000000  112.489998  ...  113.300003   26374377.0  110.569847\n",
              "1    2016-12-13  115.919998  113.750000  ...  115.190002   43733811.0  112.414307\n",
              "2    2016-12-14  116.199997  114.980003  ...  115.190002   34031834.0  112.414307\n",
              "3    2016-12-15  116.730003  115.230003  ...  115.820000   46524544.0  113.029099\n",
              "4    2016-12-16  116.500000  115.644997  ...  115.970001   44351134.0  113.175491\n",
              "...         ...         ...         ...  ...         ...          ...         ...\n",
              "1254 2021-12-06  167.879898  164.279999  ...  165.320007  107496982.0  165.320007\n",
              "1255 2021-12-07  171.580002  168.339996  ...  171.179993  120405352.0  171.179993\n",
              "1256 2021-12-08  175.960007  170.699997  ...  175.080002  116998901.0  175.080002\n",
              "1257 2021-12-09  176.750000  173.919998  ...  174.559998  108157647.0  174.559998\n",
              "1258 2021-12-10  179.630005  174.690002  ...  179.449997  110986702.0  179.449997\n",
              "\n",
              "[1259 rows x 7 columns]"
            ]
          },
          "metadata": {},
          "execution_count": 43
        }
      ]
    },
    {
      "cell_type": "code",
      "metadata": {
        "colab": {
          "base_uri": "https://localhost:8080/",
          "height": 283
        },
        "id": "sMRqotWlmoDc",
        "outputId": "defff928-2abc-4211-842b-d8f66615162e"
      },
      "source": [
        "plt.plot(df.Close)"
      ],
      "execution_count": 44,
      "outputs": [
        {
          "output_type": "execute_result",
          "data": {
            "text/plain": [
              "[<matplotlib.lines.Line2D at 0x7f63f01eb990>]"
            ]
          },
          "metadata": {},
          "execution_count": 44
        },
        {
          "output_type": "display_data",
          "data": {
            "image/png": "[encoded data removed]",
            "text/plain": [
              "<Figure size 432x288 with 1 Axes>"
            ]
          },
          "metadata": {
            "needs_background": "light"
          }
        }
      ]
    },
    {
      "cell_type": "code",
      "metadata": {
        "colab": {
          "base_uri": "https://localhost:8080/"
        },
        "id": "DKd4o8OWpPJH",
        "outputId": "b2169649-1377-4e16-b74b-8ee2d938e09d"
      },
      "source": [
        "df.shape"
      ],
      "execution_count": 45,
      "outputs": [
        {
          "output_type": "execute_result",
          "data": {
            "text/plain": [
              "(1259, 7)"
            ]
          },
          "metadata": {},
          "execution_count": 45
        }
      ]
    },
    {
      "cell_type": "code",
      "metadata": {
        "colab": {
          "base_uri": "https://localhost:8080/",
          "height": 206
        },
        "id": "r2zN03RirHkg",
        "outputId": "e58dcf92-08e4-45a3-ce55-400899a646ee"
      },
      "source": [
        "df.head()"
      ],
      "execution_count": 46,
      "outputs": [
        {
          "output_type": "execute_result",
          "data": {
            "text/html": [
              "<div>\n",
              "<style scoped>\n",
              "    .dataframe tbody tr th:only-of-type {\n",
              "        vertical-align: middle;\n",
              "    }\n",
              "\n",
              "    .dataframe tbody tr th {\n",
              "        vertical-align: top;\n",
              "    }\n",
              "\n",
              "    .dataframe thead th {\n",
              "        text-align: right;\n",
              "    }\n",
              "</style>\n",
              "<table border=\"1\" class=\"dataframe\">\n",
              "  <thead>\n",
              "    <tr style=\"text-align: right;\">\n",
              "      <th></th>\n",
              "      <th>Date</th>\n",
              "      <th>High</th>\n",
              "      <th>Low</th>\n",
              "      <th>Open</th>\n",
              "      <th>Close</th>\n",
              "      <th>Volume</th>\n",
              "      <th>Adj Close</th>\n",
              "    </tr>\n",
              "  </thead>\n",
              "  <tbody>\n",
              "    <tr>\n",
              "      <th>0</th>\n",
              "      <td>2016-12-12</td>\n",
              "      <td>115.000000</td>\n",
              "      <td>112.489998</td>\n",
              "      <td>113.290001</td>\n",
              "      <td>113.300003</td>\n",
              "      <td>26374377.0</td>\n",
              "      <td>110.569847</td>\n",
              "    </tr>\n",
              "    <tr>\n",
              "      <th>1</th>\n",
              "      <td>2016-12-13</td>\n",
              "      <td>115.919998</td>\n",
              "      <td>113.750000</td>\n",
              "      <td>113.839996</td>\n",
              "      <td>115.190002</td>\n",
              "      <td>43733811.0</td>\n",
              "      <td>112.414307</td>\n",
              "    </tr>\n",
              "    <tr>\n",
              "      <th>2</th>\n",
              "      <td>2016-12-14</td>\n",
              "      <td>116.199997</td>\n",
              "      <td>114.980003</td>\n",
              "      <td>115.040001</td>\n",
              "      <td>115.190002</td>\n",
              "      <td>34031834.0</td>\n",
              "      <td>112.414307</td>\n",
              "    </tr>\n",
              "    <tr>\n",
              "      <th>3</th>\n",
              "      <td>2016-12-15</td>\n",
              "      <td>116.730003</td>\n",
              "      <td>115.230003</td>\n",
              "      <td>115.379997</td>\n",
              "      <td>115.820000</td>\n",
              "      <td>46524544.0</td>\n",
              "      <td>113.029099</td>\n",
              "    </tr>\n",
              "    <tr>\n",
              "      <th>4</th>\n",
              "      <td>2016-12-16</td>\n",
              "      <td>116.500000</td>\n",
              "      <td>115.644997</td>\n",
              "      <td>116.470001</td>\n",
              "      <td>115.970001</td>\n",
              "      <td>44351134.0</td>\n",
              "      <td>113.175491</td>\n",
              "    </tr>\n",
              "  </tbody>\n",
              "</table>\n",
              "</div>"
            ],
            "text/plain": [
              "        Date        High         Low  ...       Close      Volume   Adj Close\n",
              "0 2016-12-12  115.000000  112.489998  ...  113.300003  26374377.0  110.569847\n",
              "1 2016-12-13  115.919998  113.750000  ...  115.190002  43733811.0  112.414307\n",
              "2 2016-12-14  116.199997  114.980003  ...  115.190002  34031834.0  112.414307\n",
              "3 2016-12-15  116.730003  115.230003  ...  115.820000  46524544.0  113.029099\n",
              "4 2016-12-16  116.500000  115.644997  ...  115.970001  44351134.0  113.175491\n",
              "\n",
              "[5 rows x 7 columns]"
            ]
          },
          "metadata": {},
          "execution_count": 46
        }
      ]
    },
    {
      "cell_type": "code",
      "metadata": {
        "id": "nMgrvZGCrLbT"
      },
      "source": [
        "df = df.drop(['Date','Adj Close'], axis=1)"
      ],
      "execution_count": 47,
      "outputs": []
    },
    {
      "cell_type": "code",
      "metadata": {
        "colab": {
          "base_uri": "https://localhost:8080/"
        },
        "id": "HagF1spDrQwx",
        "outputId": "745e5582-78fc-4d21-acf9-8316582c5548"
      },
      "source": [
        "df.shape"
      ],
      "execution_count": 48,
      "outputs": [
        {
          "output_type": "execute_result",
          "data": {
            "text/plain": [
              "(1259, 5)"
            ]
          },
          "metadata": {},
          "execution_count": 48
        }
      ]
    },
    {
      "cell_type": "code",
      "metadata": {
        "colab": {
          "base_uri": "https://localhost:8080/"
        },
        "id": "9R2RsPTvxk_t",
        "outputId": "ea2c039d-0d2b-4c68-e340-588d4683e73a"
      },
      "source": [
        "train_data = pd.DataFrame(df['Close'][0:int(len(df)*0.70)])\n",
        "test_data = pd.DataFrame(df['Close'][int(len(df)*0.70):int(len(df))])\n",
        "\n",
        "print(train_data.shape)\n",
        "print(test_data.shape)\n"
      ],
      "execution_count": 49,
      "outputs": [
        {
          "output_type": "stream",
          "name": "stdout",
          "text": [
            "(881, 1)\n",
            "(378, 1)\n"
          ]
        }
      ]
    },
    {
      "cell_type": "code",
      "metadata": {
        "colab": {
          "base_uri": "https://localhost:8080/",
          "height": 206
        },
        "id": "akcKE3gYpPAy",
        "outputId": "069c4901-e9de-4cc8-e1f1-8c9f58a82ea4"
      },
      "source": [
        "train_data.head()"
      ],
      "execution_count": 50,
      "outputs": [
        {
          "output_type": "execute_result",
          "data": {
            "text/html": [
              "<div>\n",
              "<style scoped>\n",
              "    .dataframe tbody tr th:only-of-type {\n",
              "        vertical-align: middle;\n",
              "    }\n",
              "\n",
              "    .dataframe tbody tr th {\n",
              "        vertical-align: top;\n",
              "    }\n",
              "\n",
              "    .dataframe thead th {\n",
              "        text-align: right;\n",
              "    }\n",
              "</style>\n",
              "<table border=\"1\" class=\"dataframe\">\n",
              "  <thead>\n",
              "    <tr style=\"text-align: right;\">\n",
              "      <th></th>\n",
              "      <th>Close</th>\n",
              "    </tr>\n",
              "  </thead>\n",
              "  <tbody>\n",
              "    <tr>\n",
              "      <th>0</th>\n",
              "      <td>113.300003</td>\n",
              "    </tr>\n",
              "    <tr>\n",
              "      <th>1</th>\n",
              "      <td>115.190002</td>\n",
              "    </tr>\n",
              "    <tr>\n",
              "      <th>2</th>\n",
              "      <td>115.190002</td>\n",
              "    </tr>\n",
              "    <tr>\n",
              "      <th>3</th>\n",
              "      <td>115.820000</td>\n",
              "    </tr>\n",
              "    <tr>\n",
              "      <th>4</th>\n",
              "      <td>115.970001</td>\n",
              "    </tr>\n",
              "  </tbody>\n",
              "</table>\n",
              "</div>"
            ],
            "text/plain": [
              "        Close\n",
              "0  113.300003\n",
              "1  115.190002\n",
              "2  115.190002\n",
              "3  115.820000\n",
              "4  115.970001"
            ]
          },
          "metadata": {},
          "execution_count": 50
        }
      ]
    },
    {
      "cell_type": "code",
      "metadata": {
        "id": "QTXi8XrQmn-T"
      },
      "source": [
        "from sklearn.preprocessing import MinMaxScaler\n",
        "scaler=MinMaxScaler(feature_range=(0,1))\n",
        "\n",
        "train_data_array = scaler.fit_transform(train_data)\n"
      ],
      "execution_count": 51,
      "outputs": []
    },
    {
      "cell_type": "code",
      "metadata": {
        "colab": {
          "base_uri": "https://localhost:8080/"
        },
        "id": "qPo8lUge09n0",
        "outputId": "35d51b11-a69b-43e8-caf8-eb7ab22c611f"
      },
      "source": [
        "train_data_array.shape"
      ],
      "execution_count": 52,
      "outputs": [
        {
          "output_type": "execute_result",
          "data": {
            "text/plain": [
              "(881, 1)"
            ]
          },
          "metadata": {},
          "execution_count": 52
        }
      ]
    },
    {
      "cell_type": "code",
      "metadata": {
        "id": "WJwzY5MKmn5W"
      },
      "source": [
        "X_train = []\n",
        "y_train = [] \n",
        "\n",
        "for i in range(100,train_data_array.shape[0]):\n",
        "  X_train.append(train_data_array[i-100:i])\n",
        "  y_train.append(train_data_array[i,0])\n",
        "\n",
        "X_train,y_train = np.array(X_train),np.array(y_train)"
      ],
      "execution_count": 53,
      "outputs": []
    },
    {
      "cell_type": "code",
      "metadata": {
        "colab": {
          "base_uri": "https://localhost:8080/"
        },
        "id": "s3Yhvj162B4X",
        "outputId": "081295b1-b4cc-46da-ca8a-b4aa86b8c619"
      },
      "source": [
        "X_train.shape"
      ],
      "execution_count": 54,
      "outputs": [
        {
          "output_type": "execute_result",
          "data": {
            "text/plain": [
              "(781, 100, 1)"
            ]
          },
          "metadata": {},
          "execution_count": 54
        }
      ]
    },
    {
      "cell_type": "code",
      "metadata": {
        "id": "vZYHz_l91ts9"
      },
      "source": [
        "### Create the Stacked LSTM model\n",
        "from tensorflow.keras.models import Sequential\n",
        "from tensorflow.keras.layers import Dense,Dropout\n",
        "from tensorflow.keras.layers import LSTM,GRU\n",
        "from tensorflow.keras import metrics"
      ],
      "execution_count": 55,
      "outputs": []
    },
    {
      "cell_type": "code",
      "metadata": {
        "id": "pamGgNFF1tpd",
        "colab": {
          "base_uri": "https://localhost:8080/"
        },
        "outputId": "f24e29a9-51e4-41b5-b386-70308945210e"
      },
      "source": [
        "model=Sequential()\n",
        "model.add(GRU(512,activation='relu',return_sequences=True,input_shape=(100,1)))\n",
        "model.add(Dropout(0.2))\n",
        "model.add(GRU(128,return_sequences=True))\n",
        "model.add(Dropout(0.3))\n",
        "model.add(GRU(64))\n",
        "model.add(Dropout(0.4))\n",
        "model.add(Dense(1))\n",
        "model.compile(loss='mean_squared_error',optimizer='adam')"
      ],
      "execution_count": 56,
      "outputs": [
        {
          "output_type": "stream",
          "name": "stdout",
          "text": [
            "WARNING:tensorflow:Layer gru_3 will not use cuDNN kernels since it doesn't meet the criteria. It will use a generic GPU kernel as fallback when running on GPU.\n"
          ]
        }
      ]
    },
    {
      "cell_type": "code",
      "metadata": {
        "colab": {
          "base_uri": "https://localhost:8080/"
        },
        "id": "LvTYtOaD1tnN",
        "outputId": "ef4181a9-dc77-4c5c-d9ec-3afbcd28edf6"
      },
      "source": [
        "model.summary()"
      ],
      "execution_count": 57,
      "outputs": [
        {
          "output_type": "stream",
          "name": "stdout",
          "text": [
            "Model: \"sequential_1\"\n",
            "_________________________________________________________________\n",
            " Layer (type)                Output Shape              Param #   \n",
            "=================================================================\n",
            " gru_3 (GRU)                 (None, 100, 512)          791040    \n",
            "                                                                 \n",
            " dropout_3 (Dropout)         (None, 100, 512)          0         \n",
            "                                                                 \n",
            " gru_4 (GRU)                 (None, 100, 128)          246528    \n",
            "                                                                 \n",
            " dropout_4 (Dropout)         (None, 100, 128)          0         \n",
            "                                                                 \n",
            " gru_5 (GRU)                 (None, 64)                37248     \n",
            "                                                                 \n",
            " dropout_5 (Dropout)         (None, 64)                0         \n",
            "                                                                 \n",
            " dense_1 (Dense)             (None, 1)                 65        \n",
            "                                                                 \n",
            "=================================================================\n",
            "Total params: 1,074,881\n",
            "Trainable params: 1,074,881\n",
            "Non-trainable params: 0\n",
            "_________________________________________________________________\n"
          ]
        }
      ]
    },
    {
      "cell_type": "code",
      "metadata": {
        "colab": {
          "base_uri": "https://localhost:8080/"
        },
        "id": "QAASsaq81tkz",
        "outputId": "0982a20f-46a8-4352-b3ed-8842fa670f8d"
      },
      "source": [
        "history = model.fit(X_train,y_train,epochs=10)"
      ],
      "execution_count": 58,
      "outputs": [
        {
          "output_type": "stream",
          "name": "stdout",
          "text": [
            "Epoch 1/10\n",
            "25/25 [==============================] - 15s 384ms/step - loss: 0.0350\n",
            "Epoch 2/10\n",
            "25/25 [==============================] - 10s 391ms/step - loss: 0.0100\n",
            "Epoch 3/10\n",
            "25/25 [==============================] - 10s 387ms/step - loss: 0.0074\n",
            "Epoch 4/10\n",
            "25/25 [==============================] - 10s 385ms/step - loss: 0.0064\n",
            "Epoch 5/10\n",
            "25/25 [==============================] - 10s 389ms/step - loss: 0.0065\n",
            "Epoch 6/10\n",
            "25/25 [==============================] - 10s 395ms/step - loss: 0.0076\n",
            "Epoch 7/10\n",
            "25/25 [==============================] - 10s 392ms/step - loss: 0.0061\n",
            "Epoch 8/10\n",
            "25/25 [==============================] - 10s 383ms/step - loss: 0.0073\n",
            "Epoch 9/10\n",
            "25/25 [==============================] - 10s 387ms/step - loss: 0.0070\n",
            "Epoch 10/10\n",
            "25/25 [==============================] - 10s 398ms/step - loss: 0.0056\n"
          ]
        }
      ]
    },
    {
      "cell_type": "code",
      "metadata": {
        "id": "ikPinye73H6y"
      },
      "source": [
        "model.save('model.h5')"
      ],
      "execution_count": null,
      "outputs": []
    },
    {
      "cell_type": "code",
      "metadata": {
        "id": "KFvhSMsL3MqO"
      },
      "source": [
        "past_100_days = train_data.tail(100)"
      ],
      "execution_count": 59,
      "outputs": []
    },
    {
      "cell_type": "code",
      "metadata": {
        "id": "J-IDQWTG4J1I"
      },
      "source": [
        "final_df = past_100_days.append(test_data,ignore_index=True)"
      ],
      "execution_count": 60,
      "outputs": []
    },
    {
      "cell_type": "code",
      "metadata": {
        "colab": {
          "base_uri": "https://localhost:8080/",
          "height": 424
        },
        "id": "yo-q4Muu4aQN",
        "outputId": "7356e59d-a8ee-425e-be1d-81ca349cc7ba"
      },
      "source": [
        "final_df"
      ],
      "execution_count": 61,
      "outputs": [
        {
          "output_type": "execute_result",
          "data": {
            "text/html": [
              "<div>\n",
              "<style scoped>\n",
              "    .dataframe tbody tr th:only-of-type {\n",
              "        vertical-align: middle;\n",
              "    }\n",
              "\n",
              "    .dataframe tbody tr th {\n",
              "        vertical-align: top;\n",
              "    }\n",
              "\n",
              "    .dataframe thead th {\n",
              "        text-align: right;\n",
              "    }\n",
              "</style>\n",
              "<table border=\"1\" class=\"dataframe\">\n",
              "  <thead>\n",
              "    <tr style=\"text-align: right;\">\n",
              "      <th></th>\n",
              "      <th>Close</th>\n",
              "    </tr>\n",
              "  </thead>\n",
              "  <tbody>\n",
              "    <tr>\n",
              "      <th>0</th>\n",
              "      <td>317.700012</td>\n",
              "    </tr>\n",
              "    <tr>\n",
              "      <th>1</th>\n",
              "      <td>319.230011</td>\n",
              "    </tr>\n",
              "    <tr>\n",
              "      <th>2</th>\n",
              "      <td>318.309998</td>\n",
              "    </tr>\n",
              "    <tr>\n",
              "      <th>3</th>\n",
              "      <td>308.950012</td>\n",
              "    </tr>\n",
              "    <tr>\n",
              "      <th>4</th>\n",
              "      <td>317.690002</td>\n",
              "    </tr>\n",
              "    <tr>\n",
              "      <th>...</th>\n",
              "      <td>...</td>\n",
              "    </tr>\n",
              "    <tr>\n",
              "      <th>473</th>\n",
              "      <td>165.320007</td>\n",
              "    </tr>\n",
              "    <tr>\n",
              "      <th>474</th>\n",
              "      <td>171.179993</td>\n",
              "    </tr>\n",
              "    <tr>\n",
              "      <th>475</th>\n",
              "      <td>175.080002</td>\n",
              "    </tr>\n",
              "    <tr>\n",
              "      <th>476</th>\n",
              "      <td>174.559998</td>\n",
              "    </tr>\n",
              "    <tr>\n",
              "      <th>477</th>\n",
              "      <td>179.449997</td>\n",
              "    </tr>\n",
              "  </tbody>\n",
              "</table>\n",
              "<p>478 rows × 1 columns</p>\n",
              "</div>"
            ],
            "text/plain": [
              "          Close\n",
              "0    317.700012\n",
              "1    319.230011\n",
              "2    318.309998\n",
              "3    308.950012\n",
              "4    317.690002\n",
              "..          ...\n",
              "473  165.320007\n",
              "474  171.179993\n",
              "475  175.080002\n",
              "476  174.559998\n",
              "477  179.449997\n",
              "\n",
              "[478 rows x 1 columns]"
            ]
          },
          "metadata": {},
          "execution_count": 61
        }
      ]
    },
    {
      "cell_type": "code",
      "metadata": {
        "colab": {
          "base_uri": "https://localhost:8080/"
        },
        "id": "C4FdZTRp4dn3",
        "outputId": "80fafa5c-d252-4c50-b045-8805489edf6c"
      },
      "source": [
        "input_data = scaler.fit_transform(final_df)\n",
        "input_data.shape"
      ],
      "execution_count": 62,
      "outputs": [
        {
          "output_type": "execute_result",
          "data": {
            "text/plain": [
              "(478, 1)"
            ]
          },
          "metadata": {},
          "execution_count": 62
        }
      ]
    },
    {
      "cell_type": "code",
      "metadata": {
        "id": "MmpcQWk24qD1"
      },
      "source": [
        "X_test = []\n",
        "y_test = []\n",
        "\n",
        "for i in range(100, input_data.shape[0]):\n",
        "  X_test.append(input_data[i-100:i])\n",
        "  y_test.append(input_data[i,0])\n",
        "\n"
      ],
      "execution_count": 63,
      "outputs": []
    },
    {
      "cell_type": "code",
      "source": [
        "input_data.shape[0]"
      ],
      "metadata": {
        "colab": {
          "base_uri": "https://localhost:8080/"
        },
        "id": "oG4Xz89uH56Q",
        "outputId": "561770f4-2adf-4fe3-a3d4-80fc478e76a5"
      },
      "execution_count": 64,
      "outputs": [
        {
          "output_type": "execute_result",
          "data": {
            "text/plain": [
              "478"
            ]
          },
          "metadata": {},
          "execution_count": 64
        }
      ]
    },
    {
      "cell_type": "code",
      "metadata": {
        "colab": {
          "base_uri": "https://localhost:8080/"
        },
        "id": "EX747jl749DZ",
        "outputId": "0228c506-1c25-4f48-8959-1febd39461b3"
      },
      "source": [
        "X_test,y_test = np.array(X_test),np.array(y_test)\n",
        "\n",
        "print(X_test.shape)\n",
        "print(y_test.shape)"
      ],
      "execution_count": 65,
      "outputs": [
        {
          "output_type": "stream",
          "name": "stdout",
          "text": [
            "(378, 100, 1)\n",
            "(378,)\n"
          ]
        }
      ]
    },
    {
      "cell_type": "code",
      "metadata": {
        "id": "NDGMq0EL5KE4"
      },
      "source": [
        "# Making preddiction\n",
        "# train_predict = model.predict(X_train)\n",
        "y_pred = model.predict(X_test)"
      ],
      "execution_count": 66,
      "outputs": []
    },
    {
      "cell_type": "code",
      "source": [
        ""
      ],
      "metadata": {
        "id": "KyRSWmnTR_ri"
      },
      "execution_count": null,
      "outputs": []
    },
    {
      "cell_type": "code",
      "metadata": {
        "id": "RLIA1butD8YT"
      },
      "source": [
        "### Test Data RMSE\n",
        "# math.sqrt(mean_squared_error(y_test,y_pred))"
      ],
      "execution_count": 34,
      "outputs": []
    },
    {
      "cell_type": "code",
      "metadata": {
        "colab": {
          "base_uri": "https://localhost:8080/"
        },
        "id": "ZYQW6_SR5Qdt",
        "outputId": "9c564c80-70c7-4d0d-f300-dcc4f66f0cc9"
      },
      "source": [
        "y_pred.shape"
      ],
      "execution_count": 67,
      "outputs": [
        {
          "output_type": "execute_result",
          "data": {
            "text/plain": [
              "(378, 1)"
            ]
          },
          "metadata": {},
          "execution_count": 67
        }
      ]
    },
    {
      "cell_type": "code",
      "metadata": {
        "colab": {
          "base_uri": "https://localhost:8080/"
        },
        "id": "CKikJYYf5XWH",
        "outputId": "12fa6f8a-aa4b-4f19-c696-8f8515804993"
      },
      "source": [
        " scaler.scale_"
      ],
      "execution_count": 68,
      "outputs": [
        {
          "output_type": "execute_result",
          "data": {
            "text/plain": [
              "array([0.00368857])"
            ]
          },
          "metadata": {},
          "execution_count": 68
        }
      ]
    },
    {
      "cell_type": "code",
      "metadata": {
        "id": "yz9OEwCk5dr_"
      },
      "source": [
        "scale_factor = 1/0.00368857\n",
        "y_pred = y_pred*scale_factor\n",
        "y_test = y_test * scale_factor"
      ],
      "execution_count": 69,
      "outputs": []
    },
    {
      "cell_type": "code",
      "source": [
        "import sklearn.metrics as metrics\n",
        "\n",
        "# Caluculate MAE, MSE, RMSE and R2 score\n",
        "mae = metrics.mean_absolute_error(y_test, y_pred)\n",
        "mse = metrics.mean_squared_error(y_test, y_pred)\n",
        "rmse = np.sqrt(mse) \n",
        "r2   = model.evaluate(X_train, y_train)\n",
        "\n",
        "# print results\n",
        "print(\"Results of Model Evaluation: \")\n",
        "print(\"\\nMean Absolute error (MAE):\", mae)\n",
        "print(\"\\nMean squared error regression loss (MSE):\", mse)\n",
        "print(\"\\nRoot Mean squared error (RMSE):\", rmse)\n",
        "print(\"\\nR^2 Score:\", r2)"
      ],
      "metadata": {
        "colab": {
          "base_uri": "https://localhost:8080/"
        },
        "id": "AUiuZXspy7Tq",
        "outputId": "7f74de7e-ecc5-4155-ff05-5e907b6c6b12"
      },
      "execution_count": 70,
      "outputs": [
        {
          "output_type": "stream",
          "name": "stdout",
          "text": [
            "25/25 [==============================] - 3s 63ms/step - loss: 0.0031\n",
            "Results of Model Evaluation: \n",
            "\n",
            "Mean Absolute error (MAE): 7.401691022906708\n",
            "\n",
            "Mean squared error regression loss (MSE): 65.01469380724876\n",
            "\n",
            "Root Mean squared error (RMSE): 8.063168968045304\n",
            "\n",
            "R^2 Score: 0.003100984962657094\n"
          ]
        }
      ]
    },
    {
      "cell_type": "code",
      "metadata": {
        "colab": {
          "base_uri": "https://localhost:8080/",
          "height": 388
        },
        "id": "gU_APi_Y5x9w",
        "outputId": "34c31c8b-d57e-4e32-d8e7-ecdd6bc954a0"
      },
      "source": [
        "plt.figure(figsize=(12,6))\n",
        "plt.plot(y_test,'b',label='Original Price')\n",
        "plt.plot(y_pred,'r',label='Predicted price')\n",
        "plt.xlabel('Time')\n",
        "plt.ylabel('Price')\n",
        "plt.legend()\n",
        "plt.show()"
      ],
      "execution_count": 71,
      "outputs": [
        {
          "output_type": "display_data",
          "data": {
            "image/png": "[encoded data removed]",
            "text/plain": [
              "<Figure size 864x432 with 1 Axes>"
            ]
          },
          "metadata": {
            "needs_background": "light"
          }
        }
      ]
    }
  ]
}